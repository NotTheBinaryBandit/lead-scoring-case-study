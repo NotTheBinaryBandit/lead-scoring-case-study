{
 "cells": [
  {
   "cell_type": "markdown",
   "id": "c1f1a8ae",
   "metadata": {},
   "source": [
    "### Step 1: Import required libraries and dataset"
   ]
  },
  {
   "cell_type": "code",
   "execution_count": 1748,
   "id": "5e470217",
   "metadata": {},
   "outputs": [],
   "source": [
    "# Import required libraries\n",
    "import pandas as pd\n",
    "import numpy as np\n",
    "import seaborn as sns\n",
    "import matplotlib.pyplot as plt\n",
    "import statsmodels.api as sm\n",
    "\n",
    "from sklearn.model_selection import train_test_split\n",
    "from sklearn.preprocessing import StandardScaler\n",
    "from sklearn.linear_model import LogisticRegression\n",
    "from sklearn.feature_selection import RFE\n",
    "from statsmodels.stats.outliers_influence import variance_inflation_factor\n",
    "from sklearn import metrics\n",
    "\n",
    "# Supress Warnings\n",
    "import warnings\n",
    "\n",
    "%matplotlib inline\n",
    "warnings.filterwarnings('ignore')"
   ]
  },
  {
   "cell_type": "code",
   "execution_count": 1749,
   "id": "2d2d9a91",
   "metadata": {},
   "outputs": [],
   "source": [
    "# Read the dataset\n",
    "dataset = pd.read_csv(\"Leads.csv\")"
   ]
  },
  {
   "cell_type": "markdown",
   "id": "03d7b2a1",
   "metadata": {},
   "source": [
    "### Step 2: Inspecting the Dataframe"
   ]
  },
  {
   "cell_type": "code",
   "execution_count": 1750,
   "id": "8fa3c9ee",
   "metadata": {},
   "outputs": [
    {
     "data": {
      "text/html": [
       "<div>\n",
       "<style scoped>\n",
       "    .dataframe tbody tr th:only-of-type {\n",
       "        vertical-align: middle;\n",
       "    }\n",
       "\n",
       "    .dataframe tbody tr th {\n",
       "        vertical-align: top;\n",
       "    }\n",
       "\n",
       "    .dataframe thead th {\n",
       "        text-align: right;\n",
       "    }\n",
       "</style>\n",
       "<table border=\"1\" class=\"dataframe\">\n",
       "  <thead>\n",
       "    <tr style=\"text-align: right;\">\n",
       "      <th></th>\n",
       "      <th>Prospect ID</th>\n",
       "      <th>Lead Number</th>\n",
       "      <th>Lead Origin</th>\n",
       "      <th>Lead Source</th>\n",
       "      <th>Do Not Email</th>\n",
       "      <th>Do Not Call</th>\n",
       "      <th>Converted</th>\n",
       "      <th>TotalVisits</th>\n",
       "      <th>Total Time Spent on Website</th>\n",
       "      <th>Page Views Per Visit</th>\n",
       "      <th>...</th>\n",
       "      <th>Get updates on DM Content</th>\n",
       "      <th>Lead Profile</th>\n",
       "      <th>City</th>\n",
       "      <th>Asymmetrique Activity Index</th>\n",
       "      <th>Asymmetrique Profile Index</th>\n",
       "      <th>Asymmetrique Activity Score</th>\n",
       "      <th>Asymmetrique Profile Score</th>\n",
       "      <th>I agree to pay the amount through cheque</th>\n",
       "      <th>A free copy of Mastering The Interview</th>\n",
       "      <th>Last Notable Activity</th>\n",
       "    </tr>\n",
       "  </thead>\n",
       "  <tbody>\n",
       "    <tr>\n",
       "      <th>0</th>\n",
       "      <td>7927b2df-8bba-4d29-b9a2-b6e0beafe620</td>\n",
       "      <td>660737</td>\n",
       "      <td>API</td>\n",
       "      <td>Olark Chat</td>\n",
       "      <td>No</td>\n",
       "      <td>No</td>\n",
       "      <td>0</td>\n",
       "      <td>0.0</td>\n",
       "      <td>0</td>\n",
       "      <td>0.0</td>\n",
       "      <td>...</td>\n",
       "      <td>No</td>\n",
       "      <td>Select</td>\n",
       "      <td>Select</td>\n",
       "      <td>02.Medium</td>\n",
       "      <td>02.Medium</td>\n",
       "      <td>15.0</td>\n",
       "      <td>15.0</td>\n",
       "      <td>No</td>\n",
       "      <td>No</td>\n",
       "      <td>Modified</td>\n",
       "    </tr>\n",
       "    <tr>\n",
       "      <th>1</th>\n",
       "      <td>2a272436-5132-4136-86fa-dcc88c88f482</td>\n",
       "      <td>660728</td>\n",
       "      <td>API</td>\n",
       "      <td>Organic Search</td>\n",
       "      <td>No</td>\n",
       "      <td>No</td>\n",
       "      <td>0</td>\n",
       "      <td>5.0</td>\n",
       "      <td>674</td>\n",
       "      <td>2.5</td>\n",
       "      <td>...</td>\n",
       "      <td>No</td>\n",
       "      <td>Select</td>\n",
       "      <td>Select</td>\n",
       "      <td>02.Medium</td>\n",
       "      <td>02.Medium</td>\n",
       "      <td>15.0</td>\n",
       "      <td>15.0</td>\n",
       "      <td>No</td>\n",
       "      <td>No</td>\n",
       "      <td>Email Opened</td>\n",
       "    </tr>\n",
       "    <tr>\n",
       "      <th>2</th>\n",
       "      <td>8cc8c611-a219-4f35-ad23-fdfd2656bd8a</td>\n",
       "      <td>660727</td>\n",
       "      <td>Landing Page Submission</td>\n",
       "      <td>Direct Traffic</td>\n",
       "      <td>No</td>\n",
       "      <td>No</td>\n",
       "      <td>1</td>\n",
       "      <td>2.0</td>\n",
       "      <td>1532</td>\n",
       "      <td>2.0</td>\n",
       "      <td>...</td>\n",
       "      <td>No</td>\n",
       "      <td>Potential Lead</td>\n",
       "      <td>Mumbai</td>\n",
       "      <td>02.Medium</td>\n",
       "      <td>01.High</td>\n",
       "      <td>14.0</td>\n",
       "      <td>20.0</td>\n",
       "      <td>No</td>\n",
       "      <td>Yes</td>\n",
       "      <td>Email Opened</td>\n",
       "    </tr>\n",
       "    <tr>\n",
       "      <th>3</th>\n",
       "      <td>0cc2df48-7cf4-4e39-9de9-19797f9b38cc</td>\n",
       "      <td>660719</td>\n",
       "      <td>Landing Page Submission</td>\n",
       "      <td>Direct Traffic</td>\n",
       "      <td>No</td>\n",
       "      <td>No</td>\n",
       "      <td>0</td>\n",
       "      <td>1.0</td>\n",
       "      <td>305</td>\n",
       "      <td>1.0</td>\n",
       "      <td>...</td>\n",
       "      <td>No</td>\n",
       "      <td>Select</td>\n",
       "      <td>Mumbai</td>\n",
       "      <td>02.Medium</td>\n",
       "      <td>01.High</td>\n",
       "      <td>13.0</td>\n",
       "      <td>17.0</td>\n",
       "      <td>No</td>\n",
       "      <td>No</td>\n",
       "      <td>Modified</td>\n",
       "    </tr>\n",
       "    <tr>\n",
       "      <th>4</th>\n",
       "      <td>3256f628-e534-4826-9d63-4a8b88782852</td>\n",
       "      <td>660681</td>\n",
       "      <td>Landing Page Submission</td>\n",
       "      <td>Google</td>\n",
       "      <td>No</td>\n",
       "      <td>No</td>\n",
       "      <td>1</td>\n",
       "      <td>2.0</td>\n",
       "      <td>1428</td>\n",
       "      <td>1.0</td>\n",
       "      <td>...</td>\n",
       "      <td>No</td>\n",
       "      <td>Select</td>\n",
       "      <td>Mumbai</td>\n",
       "      <td>02.Medium</td>\n",
       "      <td>01.High</td>\n",
       "      <td>15.0</td>\n",
       "      <td>18.0</td>\n",
       "      <td>No</td>\n",
       "      <td>No</td>\n",
       "      <td>Modified</td>\n",
       "    </tr>\n",
       "  </tbody>\n",
       "</table>\n",
       "<p>5 rows × 37 columns</p>\n",
       "</div>"
      ],
      "text/plain": [
       "                            Prospect ID  Lead Number              Lead Origin  \\\n",
       "0  7927b2df-8bba-4d29-b9a2-b6e0beafe620       660737                      API   \n",
       "1  2a272436-5132-4136-86fa-dcc88c88f482       660728                      API   \n",
       "2  8cc8c611-a219-4f35-ad23-fdfd2656bd8a       660727  Landing Page Submission   \n",
       "3  0cc2df48-7cf4-4e39-9de9-19797f9b38cc       660719  Landing Page Submission   \n",
       "4  3256f628-e534-4826-9d63-4a8b88782852       660681  Landing Page Submission   \n",
       "\n",
       "      Lead Source Do Not Email Do Not Call  Converted  TotalVisits  \\\n",
       "0      Olark Chat           No          No          0          0.0   \n",
       "1  Organic Search           No          No          0          5.0   \n",
       "2  Direct Traffic           No          No          1          2.0   \n",
       "3  Direct Traffic           No          No          0          1.0   \n",
       "4          Google           No          No          1          2.0   \n",
       "\n",
       "   Total Time Spent on Website  Page Views Per Visit  ...  \\\n",
       "0                            0                   0.0  ...   \n",
       "1                          674                   2.5  ...   \n",
       "2                         1532                   2.0  ...   \n",
       "3                          305                   1.0  ...   \n",
       "4                         1428                   1.0  ...   \n",
       "\n",
       "  Get updates on DM Content    Lead Profile    City  \\\n",
       "0                        No          Select  Select   \n",
       "1                        No          Select  Select   \n",
       "2                        No  Potential Lead  Mumbai   \n",
       "3                        No          Select  Mumbai   \n",
       "4                        No          Select  Mumbai   \n",
       "\n",
       "  Asymmetrique Activity Index Asymmetrique Profile Index  \\\n",
       "0                   02.Medium                  02.Medium   \n",
       "1                   02.Medium                  02.Medium   \n",
       "2                   02.Medium                    01.High   \n",
       "3                   02.Medium                    01.High   \n",
       "4                   02.Medium                    01.High   \n",
       "\n",
       "  Asymmetrique Activity Score Asymmetrique Profile Score  \\\n",
       "0                        15.0                       15.0   \n",
       "1                        15.0                       15.0   \n",
       "2                        14.0                       20.0   \n",
       "3                        13.0                       17.0   \n",
       "4                        15.0                       18.0   \n",
       "\n",
       "  I agree to pay the amount through cheque  \\\n",
       "0                                       No   \n",
       "1                                       No   \n",
       "2                                       No   \n",
       "3                                       No   \n",
       "4                                       No   \n",
       "\n",
       "  A free copy of Mastering The Interview Last Notable Activity  \n",
       "0                                     No              Modified  \n",
       "1                                     No          Email Opened  \n",
       "2                                    Yes          Email Opened  \n",
       "3                                     No              Modified  \n",
       "4                                     No              Modified  \n",
       "\n",
       "[5 rows x 37 columns]"
      ]
     },
     "execution_count": 1750,
     "metadata": {},
     "output_type": "execute_result"
    }
   ],
   "source": [
    "dataset.head()"
   ]
  },
  {
   "cell_type": "code",
   "execution_count": 1751,
   "id": "be915c6c",
   "metadata": {},
   "outputs": [
    {
     "data": {
      "text/plain": [
       "(9240, 37)"
      ]
     },
     "execution_count": 1751,
     "metadata": {},
     "output_type": "execute_result"
    }
   ],
   "source": [
    "# Total number of rows and columns\n",
    "dataset.shape"
   ]
  },
  {
   "cell_type": "code",
   "execution_count": 1752,
   "id": "efa93dfc",
   "metadata": {},
   "outputs": [
    {
     "name": "stdout",
     "output_type": "stream",
     "text": [
      "<class 'pandas.core.frame.DataFrame'>\n",
      "RangeIndex: 9240 entries, 0 to 9239\n",
      "Data columns (total 37 columns):\n",
      " #   Column                                         Non-Null Count  Dtype  \n",
      "---  ------                                         --------------  -----  \n",
      " 0   Prospect ID                                    9240 non-null   object \n",
      " 1   Lead Number                                    9240 non-null   int64  \n",
      " 2   Lead Origin                                    9240 non-null   object \n",
      " 3   Lead Source                                    9204 non-null   object \n",
      " 4   Do Not Email                                   9240 non-null   object \n",
      " 5   Do Not Call                                    9240 non-null   object \n",
      " 6   Converted                                      9240 non-null   int64  \n",
      " 7   TotalVisits                                    9103 non-null   float64\n",
      " 8   Total Time Spent on Website                    9240 non-null   int64  \n",
      " 9   Page Views Per Visit                           9103 non-null   float64\n",
      " 10  Last Activity                                  9137 non-null   object \n",
      " 11  Country                                        6779 non-null   object \n",
      " 12  Specialization                                 7802 non-null   object \n",
      " 13  How did you hear about X Education             7033 non-null   object \n",
      " 14  What is your current occupation                6550 non-null   object \n",
      " 15  What matters most to you in choosing a course  6531 non-null   object \n",
      " 16  Search                                         9240 non-null   object \n",
      " 17  Magazine                                       9240 non-null   object \n",
      " 18  Newspaper Article                              9240 non-null   object \n",
      " 19  X Education Forums                             9240 non-null   object \n",
      " 20  Newspaper                                      9240 non-null   object \n",
      " 21  Digital Advertisement                          9240 non-null   object \n",
      " 22  Through Recommendations                        9240 non-null   object \n",
      " 23  Receive More Updates About Our Courses         9240 non-null   object \n",
      " 24  Tags                                           5887 non-null   object \n",
      " 25  Lead Quality                                   4473 non-null   object \n",
      " 26  Update me on Supply Chain Content              9240 non-null   object \n",
      " 27  Get updates on DM Content                      9240 non-null   object \n",
      " 28  Lead Profile                                   6531 non-null   object \n",
      " 29  City                                           7820 non-null   object \n",
      " 30  Asymmetrique Activity Index                    5022 non-null   object \n",
      " 31  Asymmetrique Profile Index                     5022 non-null   object \n",
      " 32  Asymmetrique Activity Score                    5022 non-null   float64\n",
      " 33  Asymmetrique Profile Score                     5022 non-null   float64\n",
      " 34  I agree to pay the amount through cheque       9240 non-null   object \n",
      " 35  A free copy of Mastering The Interview         9240 non-null   object \n",
      " 36  Last Notable Activity                          9240 non-null   object \n",
      "dtypes: float64(4), int64(3), object(30)\n",
      "memory usage: 2.6+ MB\n"
     ]
    }
   ],
   "source": [
    "# Information about the columns of the dataset\n",
    "dataset.info()"
   ]
  },
  {
   "cell_type": "code",
   "execution_count": 1753,
   "id": "727958aa",
   "metadata": {},
   "outputs": [
    {
     "data": {
      "text/html": [
       "<div>\n",
       "<style scoped>\n",
       "    .dataframe tbody tr th:only-of-type {\n",
       "        vertical-align: middle;\n",
       "    }\n",
       "\n",
       "    .dataframe tbody tr th {\n",
       "        vertical-align: top;\n",
       "    }\n",
       "\n",
       "    .dataframe thead th {\n",
       "        text-align: right;\n",
       "    }\n",
       "</style>\n",
       "<table border=\"1\" class=\"dataframe\">\n",
       "  <thead>\n",
       "    <tr style=\"text-align: right;\">\n",
       "      <th></th>\n",
       "      <th>Lead Number</th>\n",
       "      <th>Converted</th>\n",
       "      <th>TotalVisits</th>\n",
       "      <th>Total Time Spent on Website</th>\n",
       "      <th>Page Views Per Visit</th>\n",
       "      <th>Asymmetrique Activity Score</th>\n",
       "      <th>Asymmetrique Profile Score</th>\n",
       "    </tr>\n",
       "  </thead>\n",
       "  <tbody>\n",
       "    <tr>\n",
       "      <th>count</th>\n",
       "      <td>9240.000000</td>\n",
       "      <td>9240.000000</td>\n",
       "      <td>9103.000000</td>\n",
       "      <td>9240.000000</td>\n",
       "      <td>9103.000000</td>\n",
       "      <td>5022.000000</td>\n",
       "      <td>5022.000000</td>\n",
       "    </tr>\n",
       "    <tr>\n",
       "      <th>mean</th>\n",
       "      <td>617188.435606</td>\n",
       "      <td>0.385390</td>\n",
       "      <td>3.445238</td>\n",
       "      <td>487.698268</td>\n",
       "      <td>2.362820</td>\n",
       "      <td>14.306252</td>\n",
       "      <td>16.344883</td>\n",
       "    </tr>\n",
       "    <tr>\n",
       "      <th>std</th>\n",
       "      <td>23405.995698</td>\n",
       "      <td>0.486714</td>\n",
       "      <td>4.854853</td>\n",
       "      <td>548.021466</td>\n",
       "      <td>2.161418</td>\n",
       "      <td>1.386694</td>\n",
       "      <td>1.811395</td>\n",
       "    </tr>\n",
       "    <tr>\n",
       "      <th>min</th>\n",
       "      <td>579533.000000</td>\n",
       "      <td>0.000000</td>\n",
       "      <td>0.000000</td>\n",
       "      <td>0.000000</td>\n",
       "      <td>0.000000</td>\n",
       "      <td>7.000000</td>\n",
       "      <td>11.000000</td>\n",
       "    </tr>\n",
       "    <tr>\n",
       "      <th>25%</th>\n",
       "      <td>596484.500000</td>\n",
       "      <td>0.000000</td>\n",
       "      <td>1.000000</td>\n",
       "      <td>12.000000</td>\n",
       "      <td>1.000000</td>\n",
       "      <td>14.000000</td>\n",
       "      <td>15.000000</td>\n",
       "    </tr>\n",
       "    <tr>\n",
       "      <th>50%</th>\n",
       "      <td>615479.000000</td>\n",
       "      <td>0.000000</td>\n",
       "      <td>3.000000</td>\n",
       "      <td>248.000000</td>\n",
       "      <td>2.000000</td>\n",
       "      <td>14.000000</td>\n",
       "      <td>16.000000</td>\n",
       "    </tr>\n",
       "    <tr>\n",
       "      <th>75%</th>\n",
       "      <td>637387.250000</td>\n",
       "      <td>1.000000</td>\n",
       "      <td>5.000000</td>\n",
       "      <td>936.000000</td>\n",
       "      <td>3.000000</td>\n",
       "      <td>15.000000</td>\n",
       "      <td>18.000000</td>\n",
       "    </tr>\n",
       "    <tr>\n",
       "      <th>max</th>\n",
       "      <td>660737.000000</td>\n",
       "      <td>1.000000</td>\n",
       "      <td>251.000000</td>\n",
       "      <td>2272.000000</td>\n",
       "      <td>55.000000</td>\n",
       "      <td>18.000000</td>\n",
       "      <td>20.000000</td>\n",
       "    </tr>\n",
       "  </tbody>\n",
       "</table>\n",
       "</div>"
      ],
      "text/plain": [
       "         Lead Number    Converted  TotalVisits  Total Time Spent on Website  \\\n",
       "count    9240.000000  9240.000000  9103.000000                  9240.000000   \n",
       "mean   617188.435606     0.385390     3.445238                   487.698268   \n",
       "std     23405.995698     0.486714     4.854853                   548.021466   \n",
       "min    579533.000000     0.000000     0.000000                     0.000000   \n",
       "25%    596484.500000     0.000000     1.000000                    12.000000   \n",
       "50%    615479.000000     0.000000     3.000000                   248.000000   \n",
       "75%    637387.250000     1.000000     5.000000                   936.000000   \n",
       "max    660737.000000     1.000000   251.000000                  2272.000000   \n",
       "\n",
       "       Page Views Per Visit  Asymmetrique Activity Score  \\\n",
       "count           9103.000000                  5022.000000   \n",
       "mean               2.362820                    14.306252   \n",
       "std                2.161418                     1.386694   \n",
       "min                0.000000                     7.000000   \n",
       "25%                1.000000                    14.000000   \n",
       "50%                2.000000                    14.000000   \n",
       "75%                3.000000                    15.000000   \n",
       "max               55.000000                    18.000000   \n",
       "\n",
       "       Asymmetrique Profile Score  \n",
       "count                 5022.000000  \n",
       "mean                    16.344883  \n",
       "std                      1.811395  \n",
       "min                     11.000000  \n",
       "25%                     15.000000  \n",
       "50%                     16.000000  \n",
       "75%                     18.000000  \n",
       "max                     20.000000  "
      ]
     },
     "execution_count": 1753,
     "metadata": {},
     "output_type": "execute_result"
    }
   ],
   "source": [
    "# Checking the statistical information about the numeric columns\n",
    "dataset.describe()"
   ]
  },
  {
   "cell_type": "code",
   "execution_count": 1754,
   "id": "1a332a4b",
   "metadata": {},
   "outputs": [],
   "source": [
    "# Helper functions\n",
    "def calculate_null_values(df):\n",
    "    return round((df.isnull().sum()/df.shape[0])*100,2) "
   ]
  },
  {
   "cell_type": "code",
   "execution_count": 1755,
   "id": "e5557216",
   "metadata": {},
   "outputs": [
    {
     "data": {
      "text/plain": [
       "Prospect ID                                       0.00\n",
       "Lead Number                                       0.00\n",
       "Lead Origin                                       0.00\n",
       "Lead Source                                       0.39\n",
       "Do Not Email                                      0.00\n",
       "Do Not Call                                       0.00\n",
       "Converted                                         0.00\n",
       "TotalVisits                                       1.48\n",
       "Total Time Spent on Website                       0.00\n",
       "Page Views Per Visit                              1.48\n",
       "Last Activity                                     1.11\n",
       "Country                                          26.63\n",
       "Specialization                                   15.56\n",
       "How did you hear about X Education               23.89\n",
       "What is your current occupation                  29.11\n",
       "What matters most to you in choosing a course    29.32\n",
       "Search                                            0.00\n",
       "Magazine                                          0.00\n",
       "Newspaper Article                                 0.00\n",
       "X Education Forums                                0.00\n",
       "Newspaper                                         0.00\n",
       "Digital Advertisement                             0.00\n",
       "Through Recommendations                           0.00\n",
       "Receive More Updates About Our Courses            0.00\n",
       "Tags                                             36.29\n",
       "Lead Quality                                     51.59\n",
       "Update me on Supply Chain Content                 0.00\n",
       "Get updates on DM Content                         0.00\n",
       "Lead Profile                                     29.32\n",
       "City                                             15.37\n",
       "Asymmetrique Activity Index                      45.65\n",
       "Asymmetrique Profile Index                       45.65\n",
       "Asymmetrique Activity Score                      45.65\n",
       "Asymmetrique Profile Score                       45.65\n",
       "I agree to pay the amount through cheque          0.00\n",
       "A free copy of Mastering The Interview            0.00\n",
       "Last Notable Activity                             0.00\n",
       "dtype: float64"
      ]
     },
     "execution_count": 1755,
     "metadata": {},
     "output_type": "execute_result"
    }
   ],
   "source": [
    "# Calculate missing values %\n",
    "calculate_null_values(dataset)"
   ]
  },
  {
   "cell_type": "markdown",
   "id": "a0ed3b99",
   "metadata": {},
   "source": [
    "### Step 3: Data Cleaning\n",
    "- Drop missing values and columns\n",
    "- Impute missing values\n",
    "- Perform encoding"
   ]
  },
  {
   "cell_type": "markdown",
   "id": "f65dab1d",
   "metadata": {},
   "source": [
    "Since the prospect ID and Lead Number won't help in analysis, we can drop them before moving onto missing values."
   ]
  },
  {
   "cell_type": "code",
   "execution_count": 1756,
   "id": "a1e3aeb8",
   "metadata": {},
   "outputs": [],
   "source": [
    "dataset.drop([\"Prospect ID\", \"Lead Number\"], axis=1, inplace=True)"
   ]
  },
  {
   "cell_type": "markdown",
   "id": "16e472d7",
   "metadata": {},
   "source": [
    "Before we handle the missing values, let us convert the \"Select\" values of the dataset into null values as they are as good as missing values."
   ]
  },
  {
   "cell_type": "code",
   "execution_count": 1757,
   "id": "a4e54cb4",
   "metadata": {},
   "outputs": [
    {
     "data": {
      "text/plain": [
       "Lead Origin                                         0\n",
       "Lead Source                                         0\n",
       "Do Not Email                                        0\n",
       "Do Not Call                                         0\n",
       "Converted                                           0\n",
       "TotalVisits                                         0\n",
       "Total Time Spent on Website                         0\n",
       "Page Views Per Visit                                0\n",
       "Last Activity                                       0\n",
       "Country                                             0\n",
       "Specialization                                   1942\n",
       "How did you hear about X Education               5043\n",
       "What is your current occupation                     0\n",
       "What matters most to you in choosing a course       0\n",
       "Search                                              0\n",
       "Magazine                                            0\n",
       "Newspaper Article                                   0\n",
       "X Education Forums                                  0\n",
       "Newspaper                                           0\n",
       "Digital Advertisement                               0\n",
       "Through Recommendations                             0\n",
       "Receive More Updates About Our Courses              0\n",
       "Tags                                                0\n",
       "Lead Quality                                        0\n",
       "Update me on Supply Chain Content                   0\n",
       "Get updates on DM Content                           0\n",
       "Lead Profile                                     4146\n",
       "City                                             2249\n",
       "Asymmetrique Activity Index                         0\n",
       "Asymmetrique Profile Index                          0\n",
       "Asymmetrique Activity Score                         0\n",
       "Asymmetrique Profile Score                          0\n",
       "I agree to pay the amount through cheque            0\n",
       "A free copy of Mastering The Interview              0\n",
       "Last Notable Activity                               0\n",
       "dtype: int64"
      ]
     },
     "execution_count": 1757,
     "metadata": {},
     "output_type": "execute_result"
    }
   ],
   "source": [
    "# Check which columns have select as a value\n",
    "dataset.isin(['Select']).sum()"
   ]
  },
  {
   "cell_type": "code",
   "execution_count": 1758,
   "id": "4fd5ca0c",
   "metadata": {},
   "outputs": [],
   "source": [
    "# Replace Select values with np.nan\n",
    "dataset.replace('Select', np.nan, inplace=True)"
   ]
  },
  {
   "cell_type": "code",
   "execution_count": 1759,
   "id": "5cb27b97",
   "metadata": {},
   "outputs": [
    {
     "data": {
      "text/plain": [
       "Lead Origin                                      0\n",
       "Lead Source                                      0\n",
       "Do Not Email                                     0\n",
       "Do Not Call                                      0\n",
       "Converted                                        0\n",
       "TotalVisits                                      0\n",
       "Total Time Spent on Website                      0\n",
       "Page Views Per Visit                             0\n",
       "Last Activity                                    0\n",
       "Country                                          0\n",
       "Specialization                                   0\n",
       "How did you hear about X Education               0\n",
       "What is your current occupation                  0\n",
       "What matters most to you in choosing a course    0\n",
       "Search                                           0\n",
       "Magazine                                         0\n",
       "Newspaper Article                                0\n",
       "X Education Forums                               0\n",
       "Newspaper                                        0\n",
       "Digital Advertisement                            0\n",
       "Through Recommendations                          0\n",
       "Receive More Updates About Our Courses           0\n",
       "Tags                                             0\n",
       "Lead Quality                                     0\n",
       "Update me on Supply Chain Content                0\n",
       "Get updates on DM Content                        0\n",
       "Lead Profile                                     0\n",
       "City                                             0\n",
       "Asymmetrique Activity Index                      0\n",
       "Asymmetrique Profile Index                       0\n",
       "Asymmetrique Activity Score                      0\n",
       "Asymmetrique Profile Score                       0\n",
       "I agree to pay the amount through cheque         0\n",
       "A free copy of Mastering The Interview           0\n",
       "Last Notable Activity                            0\n",
       "dtype: int64"
      ]
     },
     "execution_count": 1759,
     "metadata": {},
     "output_type": "execute_result"
    }
   ],
   "source": [
    "# Verifying whether the select values had been replaced\n",
    "dataset.isin(['Select']).sum()"
   ]
  },
  {
   "cell_type": "code",
   "execution_count": 1760,
   "id": "31970c73",
   "metadata": {},
   "outputs": [
    {
     "data": {
      "text/plain": [
       "Lead Origin                                       0.00\n",
       "Lead Source                                       0.39\n",
       "Do Not Email                                      0.00\n",
       "Do Not Call                                       0.00\n",
       "Converted                                         0.00\n",
       "TotalVisits                                       1.48\n",
       "Total Time Spent on Website                       0.00\n",
       "Page Views Per Visit                              1.48\n",
       "Last Activity                                     1.11\n",
       "Country                                          26.63\n",
       "Specialization                                   36.58\n",
       "How did you hear about X Education               78.46\n",
       "What is your current occupation                  29.11\n",
       "What matters most to you in choosing a course    29.32\n",
       "Search                                            0.00\n",
       "Magazine                                          0.00\n",
       "Newspaper Article                                 0.00\n",
       "X Education Forums                                0.00\n",
       "Newspaper                                         0.00\n",
       "Digital Advertisement                             0.00\n",
       "Through Recommendations                           0.00\n",
       "Receive More Updates About Our Courses            0.00\n",
       "Tags                                             36.29\n",
       "Lead Quality                                     51.59\n",
       "Update me on Supply Chain Content                 0.00\n",
       "Get updates on DM Content                         0.00\n",
       "Lead Profile                                     74.19\n",
       "City                                             39.71\n",
       "Asymmetrique Activity Index                      45.65\n",
       "Asymmetrique Profile Index                       45.65\n",
       "Asymmetrique Activity Score                      45.65\n",
       "Asymmetrique Profile Score                       45.65\n",
       "I agree to pay the amount through cheque          0.00\n",
       "A free copy of Mastering The Interview            0.00\n",
       "Last Notable Activity                             0.00\n",
       "dtype: float64"
      ]
     },
     "execution_count": 1760,
     "metadata": {},
     "output_type": "execute_result"
    }
   ],
   "source": [
    "# Check null value counts for each column\n",
    "calculate_null_values(dataset)"
   ]
  },
  {
   "cell_type": "code",
   "execution_count": 1761,
   "id": "42335789",
   "metadata": {},
   "outputs": [
    {
     "data": {
      "text/plain": [
       "Lead Origin                                      False\n",
       "Lead Source                                      False\n",
       "Do Not Email                                     False\n",
       "Do Not Call                                      False\n",
       "Converted                                        False\n",
       "TotalVisits                                      False\n",
       "Total Time Spent on Website                      False\n",
       "Page Views Per Visit                             False\n",
       "Last Activity                                    False\n",
       "Country                                          False\n",
       "Specialization                                    True\n",
       "How did you hear about X Education                True\n",
       "What is your current occupation                  False\n",
       "What matters most to you in choosing a course    False\n",
       "Search                                           False\n",
       "Magazine                                         False\n",
       "Newspaper Article                                False\n",
       "X Education Forums                               False\n",
       "Newspaper                                        False\n",
       "Digital Advertisement                            False\n",
       "Through Recommendations                          False\n",
       "Receive More Updates About Our Courses           False\n",
       "Tags                                              True\n",
       "Lead Quality                                      True\n",
       "Update me on Supply Chain Content                False\n",
       "Get updates on DM Content                        False\n",
       "Lead Profile                                      True\n",
       "City                                              True\n",
       "Asymmetrique Activity Index                       True\n",
       "Asymmetrique Profile Index                        True\n",
       "Asymmetrique Activity Score                       True\n",
       "Asymmetrique Profile Score                        True\n",
       "I agree to pay the amount through cheque         False\n",
       "A free copy of Mastering The Interview           False\n",
       "Last Notable Activity                            False\n",
       "dtype: bool"
      ]
     },
     "execution_count": 1761,
     "metadata": {},
     "output_type": "execute_result"
    }
   ],
   "source": [
    "# Dropping columns that have > 35% missing values. This threshold is arbitary.\n",
    "round((dataset.isnull().sum()/dataset.shape[0])*100,2) > 35"
   ]
  },
  {
   "cell_type": "markdown",
   "id": "f74e9362",
   "metadata": {},
   "source": [
    "#### Dropping columns with >35% missing values"
   ]
  },
  {
   "cell_type": "code",
   "execution_count": 1762,
   "id": "fb7d81b8",
   "metadata": {},
   "outputs": [],
   "source": [
    "# Drop columns\n",
    "col_list = ['Specialization', 'How did you hear about X Education', 'Tags', 'Lead Quality', 'Lead Profile', 'City', 'Asymmetrique Activity Index', 'Asymmetrique Profile Index', 'Asymmetrique Activity Score', 'Asymmetrique Profile Score']\n",
    "dataset.drop(col_list, axis=1, inplace=True)"
   ]
  },
  {
   "cell_type": "code",
   "execution_count": 1763,
   "id": "b68eca6f",
   "metadata": {},
   "outputs": [
    {
     "data": {
      "text/plain": [
       "(9240, 25)"
      ]
     },
     "execution_count": 1763,
     "metadata": {},
     "output_type": "execute_result"
    }
   ],
   "source": [
    "dataset.shape"
   ]
  },
  {
   "cell_type": "code",
   "execution_count": 1764,
   "id": "e53154c8",
   "metadata": {},
   "outputs": [
    {
     "data": {
      "text/plain": [
       "Lead Origin                                       0.00\n",
       "Lead Source                                       0.39\n",
       "Do Not Email                                      0.00\n",
       "Do Not Call                                       0.00\n",
       "Converted                                         0.00\n",
       "TotalVisits                                       1.48\n",
       "Total Time Spent on Website                       0.00\n",
       "Page Views Per Visit                              1.48\n",
       "Last Activity                                     1.11\n",
       "Country                                          26.63\n",
       "What is your current occupation                  29.11\n",
       "What matters most to you in choosing a course    29.32\n",
       "Search                                            0.00\n",
       "Magazine                                          0.00\n",
       "Newspaper Article                                 0.00\n",
       "X Education Forums                                0.00\n",
       "Newspaper                                         0.00\n",
       "Digital Advertisement                             0.00\n",
       "Through Recommendations                           0.00\n",
       "Receive More Updates About Our Courses            0.00\n",
       "Update me on Supply Chain Content                 0.00\n",
       "Get updates on DM Content                         0.00\n",
       "I agree to pay the amount through cheque          0.00\n",
       "A free copy of Mastering The Interview            0.00\n",
       "Last Notable Activity                             0.00\n",
       "dtype: float64"
      ]
     },
     "execution_count": 1764,
     "metadata": {},
     "output_type": "execute_result"
    }
   ],
   "source": [
    "# Checking percentage of null values per column\n",
    "calculate_null_values(dataset)"
   ]
  },
  {
   "cell_type": "markdown",
   "id": "c6d9e682",
   "metadata": {},
   "source": [
    "From the above results we can see that some columns have < 2% missing values. We can simply drop these rows. For the other three columns we can impute the values."
   ]
  },
  {
   "cell_type": "markdown",
   "id": "3554d720",
   "metadata": {},
   "source": [
    "#### Imputing missing values"
   ]
  },
  {
   "cell_type": "code",
   "execution_count": 1765,
   "id": "ab9abfdf",
   "metadata": {},
   "outputs": [
    {
     "data": {
      "text/plain": [
       "India                   6492\n",
       "United States             69\n",
       "United Arab Emirates      53\n",
       "Singapore                 24\n",
       "Saudi Arabia              21\n",
       "United Kingdom            15\n",
       "Australia                 13\n",
       "Qatar                     10\n",
       "Hong Kong                  7\n",
       "Bahrain                    7\n",
       "Oman                       6\n",
       "France                     6\n",
       "unknown                    5\n",
       "South Africa               4\n",
       "Nigeria                    4\n",
       "Germany                    4\n",
       "Kuwait                     4\n",
       "Canada                     4\n",
       "Sweden                     3\n",
       "China                      2\n",
       "Asia/Pacific Region        2\n",
       "Uganda                     2\n",
       "Bangladesh                 2\n",
       "Italy                      2\n",
       "Belgium                    2\n",
       "Netherlands                2\n",
       "Ghana                      2\n",
       "Philippines                2\n",
       "Russia                     1\n",
       "Switzerland                1\n",
       "Vietnam                    1\n",
       "Denmark                    1\n",
       "Tanzania                   1\n",
       "Liberia                    1\n",
       "Malaysia                   1\n",
       "Kenya                      1\n",
       "Sri Lanka                  1\n",
       "Indonesia                  1\n",
       "Name: Country, dtype: int64"
      ]
     },
     "execution_count": 1765,
     "metadata": {},
     "output_type": "execute_result"
    }
   ],
   "source": [
    "# Country - Imputing missing values\n",
    "dataset['Country'].value_counts()"
   ]
  },
  {
   "cell_type": "code",
   "execution_count": 1766,
   "id": "d0bcb86d",
   "metadata": {},
   "outputs": [],
   "source": [
    "# We will replace this categorical value with the mode of this column\n",
    "dataset['Country'].fillna(dataset['Country'].mode()[0], inplace=True)"
   ]
  },
  {
   "cell_type": "code",
   "execution_count": 1767,
   "id": "ad5eae67",
   "metadata": {},
   "outputs": [
    {
     "data": {
      "text/plain": [
       "India                   8953\n",
       "United States             69\n",
       "United Arab Emirates      53\n",
       "Singapore                 24\n",
       "Saudi Arabia              21\n",
       "United Kingdom            15\n",
       "Australia                 13\n",
       "Qatar                     10\n",
       "Hong Kong                  7\n",
       "Bahrain                    7\n",
       "Oman                       6\n",
       "France                     6\n",
       "unknown                    5\n",
       "South Africa               4\n",
       "Nigeria                    4\n",
       "Germany                    4\n",
       "Kuwait                     4\n",
       "Canada                     4\n",
       "Sweden                     3\n",
       "China                      2\n",
       "Asia/Pacific Region        2\n",
       "Uganda                     2\n",
       "Bangladesh                 2\n",
       "Italy                      2\n",
       "Belgium                    2\n",
       "Netherlands                2\n",
       "Ghana                      2\n",
       "Philippines                2\n",
       "Russia                     1\n",
       "Switzerland                1\n",
       "Vietnam                    1\n",
       "Denmark                    1\n",
       "Tanzania                   1\n",
       "Liberia                    1\n",
       "Malaysia                   1\n",
       "Kenya                      1\n",
       "Sri Lanka                  1\n",
       "Indonesia                  1\n",
       "Name: Country, dtype: int64"
      ]
     },
     "execution_count": 1767,
     "metadata": {},
     "output_type": "execute_result"
    }
   ],
   "source": [
    "# Verifying\n",
    "dataset['Country'].value_counts()"
   ]
  },
  {
   "cell_type": "code",
   "execution_count": 1768,
   "id": "b6720950",
   "metadata": {},
   "outputs": [],
   "source": [
    "# We will drop the unknown values as they are as good as missing values\n",
    "dataset.drop(dataset[dataset.Country == 'unknown'].index, inplace=True)"
   ]
  },
  {
   "cell_type": "code",
   "execution_count": 1769,
   "id": "d2156a01",
   "metadata": {},
   "outputs": [
    {
     "data": {
      "text/plain": [
       "India                   8953\n",
       "United States             69\n",
       "United Arab Emirates      53\n",
       "Singapore                 24\n",
       "Saudi Arabia              21\n",
       "United Kingdom            15\n",
       "Australia                 13\n",
       "Qatar                     10\n",
       "Bahrain                    7\n",
       "Hong Kong                  7\n",
       "Oman                       6\n",
       "France                     6\n",
       "Kuwait                     4\n",
       "South Africa               4\n",
       "Canada                     4\n",
       "Nigeria                    4\n",
       "Germany                    4\n",
       "Sweden                     3\n",
       "Bangladesh                 2\n",
       "Asia/Pacific Region        2\n",
       "Philippines                2\n",
       "Italy                      2\n",
       "Uganda                     2\n",
       "Netherlands                2\n",
       "China                      2\n",
       "Belgium                    2\n",
       "Ghana                      2\n",
       "Russia                     1\n",
       "Kenya                      1\n",
       "Sri Lanka                  1\n",
       "Tanzania                   1\n",
       "Malaysia                   1\n",
       "Liberia                    1\n",
       "Switzerland                1\n",
       "Denmark                    1\n",
       "Vietnam                    1\n",
       "Indonesia                  1\n",
       "Name: Country, dtype: int64"
      ]
     },
     "execution_count": 1769,
     "metadata": {},
     "output_type": "execute_result"
    }
   ],
   "source": [
    "# Verify\n",
    "dataset['Country'].value_counts()"
   ]
  },
  {
   "cell_type": "code",
   "execution_count": 1770,
   "id": "e4f766b5",
   "metadata": {},
   "outputs": [
    {
     "data": {
      "text/plain": [
       "Unemployed              5600\n",
       "Working Professional     706\n",
       "Student                  210\n",
       "Other                     16\n",
       "Housewife                 10\n",
       "Businessman                8\n",
       "Name: What is your current occupation, dtype: int64"
      ]
     },
     "execution_count": 1770,
     "metadata": {},
     "output_type": "execute_result"
    }
   ],
   "source": [
    "# What is your current occupation - Imputing missing values\n",
    "dataset['What is your current occupation'].value_counts()"
   ]
  },
  {
   "cell_type": "code",
   "execution_count": 1771,
   "id": "7ffcb870",
   "metadata": {},
   "outputs": [],
   "source": [
    "# We will replace this categorical value with the mode of this column\n",
    "dataset['What is your current occupation'].fillna(dataset['What is your current occupation'].mode()[0], inplace=True)"
   ]
  },
  {
   "cell_type": "code",
   "execution_count": 1772,
   "id": "7476b80f",
   "metadata": {},
   "outputs": [
    {
     "data": {
      "text/plain": [
       "Unemployed              8285\n",
       "Working Professional     706\n",
       "Student                  210\n",
       "Other                     16\n",
       "Housewife                 10\n",
       "Businessman                8\n",
       "Name: What is your current occupation, dtype: int64"
      ]
     },
     "execution_count": 1772,
     "metadata": {},
     "output_type": "execute_result"
    }
   ],
   "source": [
    "# Verifying\n",
    "dataset['What is your current occupation'].value_counts()"
   ]
  },
  {
   "cell_type": "code",
   "execution_count": 1773,
   "id": "65d7b06b",
   "metadata": {},
   "outputs": [
    {
     "data": {
      "text/plain": [
       "Better Career Prospects      6528\n",
       "Flexibility & Convenience       2\n",
       "Other                           1\n",
       "Name: What matters most to you in choosing a course, dtype: int64"
      ]
     },
     "execution_count": 1773,
     "metadata": {},
     "output_type": "execute_result"
    }
   ],
   "source": [
    "# What matters most to you in choosing a course column - imputing missing values\n",
    "dataset['What matters most to you in choosing a course'].value_counts()"
   ]
  },
  {
   "cell_type": "code",
   "execution_count": 1774,
   "id": "92f056a5",
   "metadata": {},
   "outputs": [],
   "source": [
    "# Replacing missing values with the mode of the column\n",
    "dataset['What matters most to you in choosing a course'].fillna(\"Better Career Prospects\", inplace=True)"
   ]
  },
  {
   "cell_type": "code",
   "execution_count": 1775,
   "id": "b91e2e2b",
   "metadata": {},
   "outputs": [
    {
     "data": {
      "text/plain": [
       "Better Career Prospects      9232\n",
       "Flexibility & Convenience       2\n",
       "Other                           1\n",
       "Name: What matters most to you in choosing a course, dtype: int64"
      ]
     },
     "execution_count": 1775,
     "metadata": {},
     "output_type": "execute_result"
    }
   ],
   "source": [
    "# Verifying\n",
    "dataset['What matters most to you in choosing a course'].value_counts()"
   ]
  },
  {
   "cell_type": "code",
   "execution_count": 1776,
   "id": "9c1c8724",
   "metadata": {},
   "outputs": [
    {
     "data": {
      "text/plain": [
       "Lead Origin                                      0.00\n",
       "Lead Source                                      0.39\n",
       "Do Not Email                                     0.00\n",
       "Do Not Call                                      0.00\n",
       "Converted                                        0.00\n",
       "TotalVisits                                      1.48\n",
       "Total Time Spent on Website                      0.00\n",
       "Page Views Per Visit                             1.48\n",
       "Last Activity                                    1.12\n",
       "Country                                          0.00\n",
       "What is your current occupation                  0.00\n",
       "What matters most to you in choosing a course    0.00\n",
       "Search                                           0.00\n",
       "Magazine                                         0.00\n",
       "Newspaper Article                                0.00\n",
       "X Education Forums                               0.00\n",
       "Newspaper                                        0.00\n",
       "Digital Advertisement                            0.00\n",
       "Through Recommendations                          0.00\n",
       "Receive More Updates About Our Courses           0.00\n",
       "Update me on Supply Chain Content                0.00\n",
       "Get updates on DM Content                        0.00\n",
       "I agree to pay the amount through cheque         0.00\n",
       "A free copy of Mastering The Interview           0.00\n",
       "Last Notable Activity                            0.00\n",
       "dtype: float64"
      ]
     },
     "execution_count": 1776,
     "metadata": {},
     "output_type": "execute_result"
    }
   ],
   "source": [
    "# Checking null value percentage\n",
    "calculate_null_values(dataset)"
   ]
  },
  {
   "cell_type": "code",
   "execution_count": 1777,
   "id": "d8600d4a",
   "metadata": {},
   "outputs": [],
   "source": [
    "# Dropping the null values\n",
    "dataset.dropna(inplace=True)"
   ]
  },
  {
   "cell_type": "code",
   "execution_count": 1778,
   "id": "cf0c8cd5",
   "metadata": {},
   "outputs": [
    {
     "data": {
      "text/plain": [
       "Lead Origin                                      0.0\n",
       "Lead Source                                      0.0\n",
       "Do Not Email                                     0.0\n",
       "Do Not Call                                      0.0\n",
       "Converted                                        0.0\n",
       "TotalVisits                                      0.0\n",
       "Total Time Spent on Website                      0.0\n",
       "Page Views Per Visit                             0.0\n",
       "Last Activity                                    0.0\n",
       "Country                                          0.0\n",
       "What is your current occupation                  0.0\n",
       "What matters most to you in choosing a course    0.0\n",
       "Search                                           0.0\n",
       "Magazine                                         0.0\n",
       "Newspaper Article                                0.0\n",
       "X Education Forums                               0.0\n",
       "Newspaper                                        0.0\n",
       "Digital Advertisement                            0.0\n",
       "Through Recommendations                          0.0\n",
       "Receive More Updates About Our Courses           0.0\n",
       "Update me on Supply Chain Content                0.0\n",
       "Get updates on DM Content                        0.0\n",
       "I agree to pay the amount through cheque         0.0\n",
       "A free copy of Mastering The Interview           0.0\n",
       "Last Notable Activity                            0.0\n",
       "dtype: float64"
      ]
     },
     "execution_count": 1778,
     "metadata": {},
     "output_type": "execute_result"
    }
   ],
   "source": [
    "# Verification\n",
    "calculate_null_values(dataset)"
   ]
  },
  {
   "cell_type": "code",
   "execution_count": 1779,
   "id": "45280624",
   "metadata": {},
   "outputs": [
    {
     "data": {
      "text/plain": [
       "Lead Origin                                         4\n",
       "Lead Source                                        21\n",
       "Do Not Email                                        2\n",
       "Do Not Call                                         2\n",
       "Converted                                           2\n",
       "TotalVisits                                        41\n",
       "Total Time Spent on Website                      1716\n",
       "Page Views Per Visit                              113\n",
       "Last Activity                                      17\n",
       "Country                                            37\n",
       "What is your current occupation                     6\n",
       "What matters most to you in choosing a course       3\n",
       "Search                                              2\n",
       "Magazine                                            1\n",
       "Newspaper Article                                   2\n",
       "X Education Forums                                  2\n",
       "Newspaper                                           2\n",
       "Digital Advertisement                               2\n",
       "Through Recommendations                             2\n",
       "Receive More Updates About Our Courses              1\n",
       "Update me on Supply Chain Content                   1\n",
       "Get updates on DM Content                           1\n",
       "I agree to pay the amount through cheque            1\n",
       "A free copy of Mastering The Interview              2\n",
       "Last Notable Activity                              16\n",
       "dtype: int64"
      ]
     },
     "execution_count": 1779,
     "metadata": {},
     "output_type": "execute_result"
    }
   ],
   "source": [
    "# Let's check the number of unique values that each columns have\n",
    "dataset.nunique()"
   ]
  },
  {
   "cell_type": "markdown",
   "id": "84d6103b",
   "metadata": {},
   "source": [
    "Since columns with only one value won't help in analysis, we can drop them"
   ]
  },
  {
   "cell_type": "code",
   "execution_count": 1780,
   "id": "36f8b10f",
   "metadata": {},
   "outputs": [],
   "source": [
    "# Dropping the columns \n",
    "col_list = ['Magazine', 'Receive More Updates About Our Courses', 'Update me on Supply Chain Content', 'Get updates on DM Content', 'I agree to pay the amount through cheque']\n",
    "dataset.drop(col_list, axis=1, inplace=True)"
   ]
  },
  {
   "cell_type": "code",
   "execution_count": 1781,
   "id": "6433e977",
   "metadata": {},
   "outputs": [
    {
     "data": {
      "text/plain": [
       "Lead Origin                                         4\n",
       "Lead Source                                        21\n",
       "Do Not Email                                        2\n",
       "Do Not Call                                         2\n",
       "Converted                                           2\n",
       "TotalVisits                                        41\n",
       "Total Time Spent on Website                      1716\n",
       "Page Views Per Visit                              113\n",
       "Last Activity                                      17\n",
       "Country                                            37\n",
       "What is your current occupation                     6\n",
       "What matters most to you in choosing a course       3\n",
       "Search                                              2\n",
       "Newspaper Article                                   2\n",
       "X Education Forums                                  2\n",
       "Newspaper                                           2\n",
       "Digital Advertisement                               2\n",
       "Through Recommendations                             2\n",
       "A free copy of Mastering The Interview              2\n",
       "Last Notable Activity                              16\n",
       "dtype: int64"
      ]
     },
     "execution_count": 1781,
     "metadata": {},
     "output_type": "execute_result"
    }
   ],
   "source": [
    "# Verification\n",
    "dataset.nunique()"
   ]
  },
  {
   "cell_type": "code",
   "execution_count": 1782,
   "id": "fbf1420b",
   "metadata": {},
   "outputs": [
    {
     "data": {
      "text/plain": [
       "(9069, 20)"
      ]
     },
     "execution_count": 1782,
     "metadata": {},
     "output_type": "execute_result"
    }
   ],
   "source": [
    "dataset.shape"
   ]
  },
  {
   "cell_type": "markdown",
   "id": "5fa8a225",
   "metadata": {},
   "source": [
    "Before we encode our data, we need to visualise the data."
   ]
  },
  {
   "cell_type": "markdown",
   "id": "4072850b",
   "metadata": {},
   "source": [
    "#### Step 4: Data Visualisation\n",
    "- For numeric variables: \n",
    "    - We create box plots and accordingly remove outliers.\n",
    "    - We create a heatmap using a correlation matrix.\n",
    "- For categorical variables:\n",
    "    - We create count plots with respect to the target variable."
   ]
  },
  {
   "cell_type": "code",
   "execution_count": 1783,
   "id": "48c89c1e",
   "metadata": {},
   "outputs": [],
   "source": [
    "# Helper functions\n",
    "\n",
    "def calculate_vif(X):\n",
    "    var_fact = pd.DataFrame()\n",
    "    var_fact['Features'] = X.columns\n",
    "    var_fact['var_fact'] = [variance_inflation_factor(X.values, i) for i in range(X.shape[1])]\n",
    "    var_fact['var_fact'] = round(var_fact['var_fact'], 2)\n",
    "    var_fact = var_fact.sort_values(by = \"var_fact\", ascending = False)\n",
    "    return var_fact\n",
    "\n",
    "def create_count_plots(data, x):\n",
    "    sns.countplot(data = data, x = x, hue = \"Converted\")\n",
    "    plt.xticks(rotation=90)\n",
    "    plt.show()"
   ]
  },
  {
   "cell_type": "code",
   "execution_count": 1784,
   "id": "243186c2",
   "metadata": {},
   "outputs": [
    {
     "name": "stdout",
     "output_type": "stream",
     "text": [
      "<class 'pandas.core.frame.DataFrame'>\n",
      "Int64Index: 9069 entries, 0 to 9239\n",
      "Data columns (total 20 columns):\n",
      " #   Column                                         Non-Null Count  Dtype  \n",
      "---  ------                                         --------------  -----  \n",
      " 0   Lead Origin                                    9069 non-null   object \n",
      " 1   Lead Source                                    9069 non-null   object \n",
      " 2   Do Not Email                                   9069 non-null   object \n",
      " 3   Do Not Call                                    9069 non-null   object \n",
      " 4   Converted                                      9069 non-null   int64  \n",
      " 5   TotalVisits                                    9069 non-null   float64\n",
      " 6   Total Time Spent on Website                    9069 non-null   int64  \n",
      " 7   Page Views Per Visit                           9069 non-null   float64\n",
      " 8   Last Activity                                  9069 non-null   object \n",
      " 9   Country                                        9069 non-null   object \n",
      " 10  What is your current occupation                9069 non-null   object \n",
      " 11  What matters most to you in choosing a course  9069 non-null   object \n",
      " 12  Search                                         9069 non-null   object \n",
      " 13  Newspaper Article                              9069 non-null   object \n",
      " 14  X Education Forums                             9069 non-null   object \n",
      " 15  Newspaper                                      9069 non-null   object \n",
      " 16  Digital Advertisement                          9069 non-null   object \n",
      " 17  Through Recommendations                        9069 non-null   object \n",
      " 18  A free copy of Mastering The Interview         9069 non-null   object \n",
      " 19  Last Notable Activity                          9069 non-null   object \n",
      "dtypes: float64(2), int64(2), object(16)\n",
      "memory usage: 1.5+ MB\n"
     ]
    }
   ],
   "source": [
    "dataset.info()"
   ]
  },
  {
   "cell_type": "code",
   "execution_count": 1785,
   "id": "ec0357a5",
   "metadata": {},
   "outputs": [
    {
     "data": {
      "image/png": "[encoded data removed]",
      "text/plain": [
       "<Figure size 432x288 with 1 Axes>"
      ]
     },
     "metadata": {
      "needs_background": "light"
     },
     "output_type": "display_data"
    },
    {
     "data": {
      "image/png": "[encoded data removed]",
      "text/plain": [
       "<Figure size 432x288 with 1 Axes>"
      ]
     },
     "metadata": {
      "needs_background": "light"
     },
     "output_type": "display_data"
    },
    {
     "data": {
      "image/png": "[encoded data removed]",
      "text/plain": [
       "<Figure size 432x288 with 1 Axes>"
      ]
     },
     "metadata": {
      "needs_background": "light"
     },
     "output_type": "display_data"
    }
   ],
   "source": [
    "# Box plot for numeric variables\n",
    "numeric_vars = ['TotalVisits', 'Total Time Spent on Website', 'Page Views Per Visit']\n",
    "for var in numeric_vars:\n",
    "    sns.boxplot(y = dataset[var])\n",
    "    plt.show()"
   ]
  },
  {
   "cell_type": "markdown",
   "id": "fb454829",
   "metadata": {},
   "source": [
    "As we can see that the columns, TotalVisits and Page Views Per Visit have outliers. We will treat the outliers accordingly."
   ]
  },
  {
   "cell_type": "code",
   "execution_count": 1786,
   "id": "1979cb91",
   "metadata": {},
   "outputs": [
    {
     "data": {
      "text/plain": [
       "0.0500      0.000\n",
       "0.1000      0.000\n",
       "0.2500      1.000\n",
       "0.5000      3.000\n",
       "0.7500      5.000\n",
       "0.9000      7.000\n",
       "0.9500     10.000\n",
       "0.9700     11.000\n",
       "0.9900     17.000\n",
       "0.9990     31.864\n",
       "0.9999    151.252\n",
       "Name: TotalVisits, dtype: float64"
      ]
     },
     "execution_count": 1786,
     "metadata": {},
     "output_type": "execute_result"
    }
   ],
   "source": [
    "# Checking the quantile scores for TotalVisits\n",
    "quantiles = [0.05, 0.10, 0.25, 0.50, 0.75, 0.90, 0.95, 0.97, 0.99, 0.999, 0.9999]\n",
    "dataset['TotalVisits'].quantile(quantiles)"
   ]
  },
  {
   "cell_type": "markdown",
   "id": "c76369e9",
   "metadata": {},
   "source": [
    "Since we can see that the values beyond the 95th percentile are disproportionately larger, we cap these values at the 95th percentile."
   ]
  },
  {
   "cell_type": "code",
   "execution_count": 1787,
   "id": "132105f8",
   "metadata": {},
   "outputs": [],
   "source": [
    "# Capping the outliers\n",
    "dataset = dataset[dataset['TotalVisits'] < dataset['TotalVisits'].quantile(0.95)]"
   ]
  },
  {
   "cell_type": "code",
   "execution_count": 1788,
   "id": "7517b891",
   "metadata": {},
   "outputs": [
    {
     "data": {
      "image/png": "[encoded data removed]",
      "text/plain": [
       "<Figure size 432x288 with 1 Axes>"
      ]
     },
     "metadata": {
      "needs_background": "light"
     },
     "output_type": "display_data"
    },
    {
     "data": {
      "image/png": "[encoded data removed]",
      "text/plain": [
       "<Figure size 432x288 with 1 Axes>"
      ]
     },
     "metadata": {
      "needs_background": "light"
     },
     "output_type": "display_data"
    },
    {
     "data": {
      "image/png": "[encoded data removed]",
      "text/plain": [
       "<Figure size 432x288 with 1 Axes>"
      ]
     },
     "metadata": {
      "needs_background": "light"
     },
     "output_type": "display_data"
    }
   ],
   "source": [
    "# Checking the box plots again\n",
    "numeric_vars = ['TotalVisits', 'Total Time Spent on Website', 'Page Views Per Visit']\n",
    "for var in numeric_vars:\n",
    "    sns.boxplot(y = dataset[var])\n",
    "    plt.show()"
   ]
  },
  {
   "cell_type": "code",
   "execution_count": 1789,
   "id": "6e2c58d6",
   "metadata": {},
   "outputs": [
    {
     "data": {
      "image/png": "[encoded data removed]",
      "text/plain": [
       "<Figure size 432x288 with 2 Axes>"
      ]
     },
     "metadata": {
      "needs_background": "light"
     },
     "output_type": "display_data"
    }
   ],
   "source": [
    "# Creating a heatmap using a correlation matrix\n",
    "sns.heatmap(dataset.corr(), annot = True, cmap = \"coolwarm\")\n",
    "plt.show()"
   ]
  },
  {
   "cell_type": "code",
   "execution_count": 1790,
   "id": "36fb3367",
   "metadata": {
    "scrolled": false
   },
   "outputs": [
    {
     "data": {
      "image/png": "[encoded data removed]",
      "text/plain": [
       "<Figure size 432x288 with 1 Axes>"
      ]
     },
     "metadata": {
      "needs_background": "light"
     },
     "output_type": "display_data"
    },
    {
     "data": {
      "image/png": "[encoded data removed]",
      "text/plain": [
       "<Figure size 432x288 with 1 Axes>"
      ]
     },
     "metadata": {
      "needs_background": "light"
     },
     "output_type": "display_data"
    },
    {
     "data": {
      "image/png": "[encoded data removed]",
      "text/plain": [
       "<Figure size 432x288 with 1 Axes>"
      ]
     },
     "metadata": {
      "needs_background": "light"
     },
     "output_type": "display_data"
    },
    {
     "data": {
      "image/png": "[encoded data removed]",
      "text/plain": [
       "<Figure size 432x288 with 1 Axes>"
      ]
     },
     "metadata": {
      "needs_background": "light"
     },
     "output_type": "display_data"
    },
    {
     "data": {
      "image/png": "[encoded data removed]",
      "text/plain": [
       "<Figure size 432x288 with 1 Axes>"
      ]
     },
     "metadata": {
      "needs_background": "light"
     },
     "output_type": "display_data"
    },
    {
     "data": {
      "image/png": "[encoded data removed]",
      "text/plain": [
       "<Figure size 432x288 with 1 Axes>"
      ]
     },
     "metadata": {
      "needs_background": "light"
     },
     "output_type": "display_data"
    },
    {
     "data": {
      "image/png": "[encoded data removed]",
      "text/plain": [
       "<Figure size 432x288 with 1 Axes>"
      ]
     },
     "metadata": {
      "needs_background": "light"
     },
     "output_type": "display_data"
    },
    {
     "data": {
      "image/png": "[encoded data removed]",
      "text/plain": [
       "<Figure size 432x288 with 1 Axes>"
      ]
     },
     "metadata": {
      "needs_background": "light"
     },
     "output_type": "display_data"
    },
    {
     "data": {
      "image/png": "[encoded data removed]",
      "text/plain": [
       "<Figure size 432x288 with 1 Axes>"
      ]
     },
     "metadata": {
      "needs_background": "light"
     },
     "output_type": "display_data"
    },
    {
     "data": {
      "image/png": "[encoded data removed]",
      "text/plain": [
       "<Figure size 432x288 with 1 Axes>"
      ]
     },
     "metadata": {
      "needs_background": "light"
     },
     "output_type": "display_data"
    },
    {
     "data": {
      "image/png": "[encoded data removed]",
      "text/plain": [
       "<Figure size 432x288 with 1 Axes>"
      ]
     },
     "metadata": {
      "needs_background": "light"
     },
     "output_type": "display_data"
    },
    {
     "data": {
      "image/png": "[encoded data removed]",
      "text/plain": [
       "<Figure size 432x288 with 1 Axes>"
      ]
     },
     "metadata": {
      "needs_background": "light"
     },
     "output_type": "display_data"
    },
    {
     "data": {
      "image/png": "[encoded data removed]",
      "text/plain": [
       "<Figure size 432x288 with 1 Axes>"
      ]
     },
     "metadata": {
      "needs_background": "light"
     },
     "output_type": "display_data"
    },
    {
     "data": {
      "image/png": "[encoded data removed]",
      "text/plain": [
       "<Figure size 432x288 with 1 Axes>"
      ]
     },
     "metadata": {
      "needs_background": "light"
     },
     "output_type": "display_data"
    },
    {
     "data": {
      "image/png": "[encoded data removed]",
      "text/plain": [
       "<Figure size 432x288 with 1 Axes>"
      ]
     },
     "metadata": {
      "needs_background": "light"
     },
     "output_type": "display_data"
    },
    {
     "data": {
      "image/png": "[encoded data removed]",
      "text/plain": [
       "<Figure size 432x288 with 1 Axes>"
      ]
     },
     "metadata": {
      "needs_background": "light"
     },
     "output_type": "display_data"
    }
   ],
   "source": [
    "for cols in dataset.select_dtypes(include=['object']).columns:\n",
    "    create_count_plots(dataset, cols)"
   ]
  },
  {
   "cell_type": "markdown",
   "id": "c6926f29",
   "metadata": {},
   "source": [
    "From the above visualisations we can see that:\n",
    "- Lead Add Form has the highest conversion rate.\n",
    "- API and Landing Page Submission generate the maximum number of leads even and their conversion rate is below 50%.\n",
    "- Google, Direct Traffic and Olark Chart generate a lot of leads.\n",
    "- People who come via references and the Welingak website have the highest conversion rate but don't produce a lot of leads.\n",
    "- Most of the people don't like to be contacted via email or calls about offers and course information.\n",
    "- Customers whose last activity includes opening the email and being sent an sms are among the group that generates the maximum number of leads with the latter having a high conversion rate.\n",
    "- Unemployed people generate most of the leads while working professionals have the highest conversion rate.\n",
    "- The columns Newspaper and X Education Forums have only one value in their column and therefore should be dropped.\n",
    "- Columns like Country, Digital Advertisement and Through Recommendations don't provide much information and can be dropped as well."
   ]
  },
  {
   "cell_type": "code",
   "execution_count": 1791,
   "id": "cb64596e",
   "metadata": {},
   "outputs": [],
   "source": [
    "# Dropping columns \n",
    "dataset.drop(['Newspaper', 'X Education Forums', 'Country','Digital Advertisement', 'Through Recommendations'], axis=1, inplace=True)"
   ]
  },
  {
   "cell_type": "code",
   "execution_count": 1792,
   "id": "6b65e21d",
   "metadata": {},
   "outputs": [
    {
     "data": {
      "text/plain": [
       "Lead Origin                                         4\n",
       "Lead Source                                        21\n",
       "Do Not Email                                        2\n",
       "Do Not Call                                         2\n",
       "Converted                                           2\n",
       "TotalVisits                                        10\n",
       "Total Time Spent on Website                      1681\n",
       "Page Views Per Visit                               27\n",
       "Last Activity                                      17\n",
       "What is your current occupation                     6\n",
       "What matters most to you in choosing a course       3\n",
       "Search                                              2\n",
       "Newspaper Article                                   2\n",
       "A free copy of Mastering The Interview              2\n",
       "Last Notable Activity                              16\n",
       "dtype: int64"
      ]
     },
     "execution_count": 1792,
     "metadata": {},
     "output_type": "execute_result"
    }
   ],
   "source": [
    "# Verifiying\n",
    "dataset.nunique()"
   ]
  },
  {
   "cell_type": "code",
   "execution_count": 1793,
   "id": "844f7753",
   "metadata": {},
   "outputs": [
    {
     "name": "stdout",
     "output_type": "stream",
     "text": [
      "<class 'pandas.core.frame.DataFrame'>\n",
      "Int64Index: 8603 entries, 0 to 9239\n",
      "Data columns (total 15 columns):\n",
      " #   Column                                         Non-Null Count  Dtype  \n",
      "---  ------                                         --------------  -----  \n",
      " 0   Lead Origin                                    8603 non-null   object \n",
      " 1   Lead Source                                    8603 non-null   object \n",
      " 2   Do Not Email                                   8603 non-null   object \n",
      " 3   Do Not Call                                    8603 non-null   object \n",
      " 4   Converted                                      8603 non-null   int64  \n",
      " 5   TotalVisits                                    8603 non-null   float64\n",
      " 6   Total Time Spent on Website                    8603 non-null   int64  \n",
      " 7   Page Views Per Visit                           8603 non-null   float64\n",
      " 8   Last Activity                                  8603 non-null   object \n",
      " 9   What is your current occupation                8603 non-null   object \n",
      " 10  What matters most to you in choosing a course  8603 non-null   object \n",
      " 11  Search                                         8603 non-null   object \n",
      " 12  Newspaper Article                              8603 non-null   object \n",
      " 13  A free copy of Mastering The Interview         8603 non-null   object \n",
      " 14  Last Notable Activity                          8603 non-null   object \n",
      "dtypes: float64(2), int64(2), object(11)\n",
      "memory usage: 1.3+ MB\n"
     ]
    }
   ],
   "source": [
    "dataset.info()"
   ]
  },
  {
   "cell_type": "markdown",
   "id": "533220d7",
   "metadata": {},
   "source": [
    "#### Data encoding\n",
    "- Convert Binary variables to 1/0 values.\n",
    "- Perform dummy encoding: We perform dummy encoding that lets us use p-1 dummy variables for p different categories."
   ]
  },
  {
   "cell_type": "code",
   "execution_count": 1794,
   "id": "47ec8d45",
   "metadata": {},
   "outputs": [],
   "source": [
    "# Binary value mapping\n",
    "binary_cols = ['Do Not Email', 'Do Not Call', 'Search', 'Newspaper Article', 'A free copy of Mastering The Interview']\n",
    "dataset[binary_cols] = dataset[binary_cols].apply(lambda x: x.map({\"Yes\":1, \"No\":0}))"
   ]
  },
  {
   "cell_type": "code",
   "execution_count": 1795,
   "id": "850b1e75",
   "metadata": {},
   "outputs": [
    {
     "data": {
      "text/html": [
       "<div>\n",
       "<style scoped>\n",
       "    .dataframe tbody tr th:only-of-type {\n",
       "        vertical-align: middle;\n",
       "    }\n",
       "\n",
       "    .dataframe tbody tr th {\n",
       "        vertical-align: top;\n",
       "    }\n",
       "\n",
       "    .dataframe thead th {\n",
       "        text-align: right;\n",
       "    }\n",
       "</style>\n",
       "<table border=\"1\" class=\"dataframe\">\n",
       "  <thead>\n",
       "    <tr style=\"text-align: right;\">\n",
       "      <th></th>\n",
       "      <th>Lead Origin</th>\n",
       "      <th>Lead Source</th>\n",
       "      <th>Do Not Email</th>\n",
       "      <th>Do Not Call</th>\n",
       "      <th>Converted</th>\n",
       "      <th>TotalVisits</th>\n",
       "      <th>Total Time Spent on Website</th>\n",
       "      <th>Page Views Per Visit</th>\n",
       "      <th>Last Activity</th>\n",
       "      <th>What is your current occupation</th>\n",
       "      <th>What matters most to you in choosing a course</th>\n",
       "      <th>Search</th>\n",
       "      <th>Newspaper Article</th>\n",
       "      <th>A free copy of Mastering The Interview</th>\n",
       "      <th>Last Notable Activity</th>\n",
       "    </tr>\n",
       "  </thead>\n",
       "  <tbody>\n",
       "    <tr>\n",
       "      <th>0</th>\n",
       "      <td>API</td>\n",
       "      <td>Olark Chat</td>\n",
       "      <td>0</td>\n",
       "      <td>0</td>\n",
       "      <td>0</td>\n",
       "      <td>0.0</td>\n",
       "      <td>0</td>\n",
       "      <td>0.0</td>\n",
       "      <td>Page Visited on Website</td>\n",
       "      <td>Unemployed</td>\n",
       "      <td>Better Career Prospects</td>\n",
       "      <td>0</td>\n",
       "      <td>0</td>\n",
       "      <td>0</td>\n",
       "      <td>Modified</td>\n",
       "    </tr>\n",
       "    <tr>\n",
       "      <th>1</th>\n",
       "      <td>API</td>\n",
       "      <td>Organic Search</td>\n",
       "      <td>0</td>\n",
       "      <td>0</td>\n",
       "      <td>0</td>\n",
       "      <td>5.0</td>\n",
       "      <td>674</td>\n",
       "      <td>2.5</td>\n",
       "      <td>Email Opened</td>\n",
       "      <td>Unemployed</td>\n",
       "      <td>Better Career Prospects</td>\n",
       "      <td>0</td>\n",
       "      <td>0</td>\n",
       "      <td>0</td>\n",
       "      <td>Email Opened</td>\n",
       "    </tr>\n",
       "    <tr>\n",
       "      <th>2</th>\n",
       "      <td>Landing Page Submission</td>\n",
       "      <td>Direct Traffic</td>\n",
       "      <td>0</td>\n",
       "      <td>0</td>\n",
       "      <td>1</td>\n",
       "      <td>2.0</td>\n",
       "      <td>1532</td>\n",
       "      <td>2.0</td>\n",
       "      <td>Email Opened</td>\n",
       "      <td>Student</td>\n",
       "      <td>Better Career Prospects</td>\n",
       "      <td>0</td>\n",
       "      <td>0</td>\n",
       "      <td>1</td>\n",
       "      <td>Email Opened</td>\n",
       "    </tr>\n",
       "    <tr>\n",
       "      <th>3</th>\n",
       "      <td>Landing Page Submission</td>\n",
       "      <td>Direct Traffic</td>\n",
       "      <td>0</td>\n",
       "      <td>0</td>\n",
       "      <td>0</td>\n",
       "      <td>1.0</td>\n",
       "      <td>305</td>\n",
       "      <td>1.0</td>\n",
       "      <td>Unreachable</td>\n",
       "      <td>Unemployed</td>\n",
       "      <td>Better Career Prospects</td>\n",
       "      <td>0</td>\n",
       "      <td>0</td>\n",
       "      <td>0</td>\n",
       "      <td>Modified</td>\n",
       "    </tr>\n",
       "    <tr>\n",
       "      <th>4</th>\n",
       "      <td>Landing Page Submission</td>\n",
       "      <td>Google</td>\n",
       "      <td>0</td>\n",
       "      <td>0</td>\n",
       "      <td>1</td>\n",
       "      <td>2.0</td>\n",
       "      <td>1428</td>\n",
       "      <td>1.0</td>\n",
       "      <td>Converted to Lead</td>\n",
       "      <td>Unemployed</td>\n",
       "      <td>Better Career Prospects</td>\n",
       "      <td>0</td>\n",
       "      <td>0</td>\n",
       "      <td>0</td>\n",
       "      <td>Modified</td>\n",
       "    </tr>\n",
       "  </tbody>\n",
       "</table>\n",
       "</div>"
      ],
      "text/plain": [
       "               Lead Origin     Lead Source  Do Not Email  Do Not Call  \\\n",
       "0                      API      Olark Chat             0            0   \n",
       "1                      API  Organic Search             0            0   \n",
       "2  Landing Page Submission  Direct Traffic             0            0   \n",
       "3  Landing Page Submission  Direct Traffic             0            0   \n",
       "4  Landing Page Submission          Google             0            0   \n",
       "\n",
       "   Converted  TotalVisits  Total Time Spent on Website  Page Views Per Visit  \\\n",
       "0          0          0.0                            0                   0.0   \n",
       "1          0          5.0                          674                   2.5   \n",
       "2          1          2.0                         1532                   2.0   \n",
       "3          0          1.0                          305                   1.0   \n",
       "4          1          2.0                         1428                   1.0   \n",
       "\n",
       "             Last Activity What is your current occupation  \\\n",
       "0  Page Visited on Website                      Unemployed   \n",
       "1             Email Opened                      Unemployed   \n",
       "2             Email Opened                         Student   \n",
       "3              Unreachable                      Unemployed   \n",
       "4        Converted to Lead                      Unemployed   \n",
       "\n",
       "  What matters most to you in choosing a course  Search  Newspaper Article  \\\n",
       "0                       Better Career Prospects       0                  0   \n",
       "1                       Better Career Prospects       0                  0   \n",
       "2                       Better Career Prospects       0                  0   \n",
       "3                       Better Career Prospects       0                  0   \n",
       "4                       Better Career Prospects       0                  0   \n",
       "\n",
       "   A free copy of Mastering The Interview Last Notable Activity  \n",
       "0                                       0              Modified  \n",
       "1                                       0          Email Opened  \n",
       "2                                       1          Email Opened  \n",
       "3                                       0              Modified  \n",
       "4                                       0              Modified  "
      ]
     },
     "execution_count": 1795,
     "metadata": {},
     "output_type": "execute_result"
    }
   ],
   "source": [
    "dataset.head()"
   ]
  },
  {
   "cell_type": "code",
   "execution_count": 1796,
   "id": "cf48f82c",
   "metadata": {},
   "outputs": [
    {
     "data": {
      "text/html": [
       "<div>\n",
       "<style scoped>\n",
       "    .dataframe tbody tr th:only-of-type {\n",
       "        vertical-align: middle;\n",
       "    }\n",
       "\n",
       "    .dataframe tbody tr th {\n",
       "        vertical-align: top;\n",
       "    }\n",
       "\n",
       "    .dataframe thead th {\n",
       "        text-align: right;\n",
       "    }\n",
       "</style>\n",
       "<table border=\"1\" class=\"dataframe\">\n",
       "  <thead>\n",
       "    <tr style=\"text-align: right;\">\n",
       "      <th></th>\n",
       "      <th>Do Not Email</th>\n",
       "      <th>Do Not Call</th>\n",
       "      <th>Converted</th>\n",
       "      <th>TotalVisits</th>\n",
       "      <th>Total Time Spent on Website</th>\n",
       "      <th>Page Views Per Visit</th>\n",
       "      <th>Search</th>\n",
       "      <th>Newspaper Article</th>\n",
       "      <th>A free copy of Mastering The Interview</th>\n",
       "      <th>Lead Origin_Landing Page Submission</th>\n",
       "      <th>...</th>\n",
       "      <th>Last Notable Activity_Form Submitted on Website</th>\n",
       "      <th>Last Notable Activity_Had a Phone Conversation</th>\n",
       "      <th>Last Notable Activity_Modified</th>\n",
       "      <th>Last Notable Activity_Olark Chat Conversation</th>\n",
       "      <th>Last Notable Activity_Page Visited on Website</th>\n",
       "      <th>Last Notable Activity_Resubscribed to emails</th>\n",
       "      <th>Last Notable Activity_SMS Sent</th>\n",
       "      <th>Last Notable Activity_Unreachable</th>\n",
       "      <th>Last Notable Activity_Unsubscribed</th>\n",
       "      <th>Last Notable Activity_View in browser link Clicked</th>\n",
       "    </tr>\n",
       "  </thead>\n",
       "  <tbody>\n",
       "    <tr>\n",
       "      <th>0</th>\n",
       "      <td>0</td>\n",
       "      <td>0</td>\n",
       "      <td>0</td>\n",
       "      <td>0.0</td>\n",
       "      <td>0</td>\n",
       "      <td>0.0</td>\n",
       "      <td>0</td>\n",
       "      <td>0</td>\n",
       "      <td>0</td>\n",
       "      <td>0</td>\n",
       "      <td>...</td>\n",
       "      <td>0</td>\n",
       "      <td>0</td>\n",
       "      <td>1</td>\n",
       "      <td>0</td>\n",
       "      <td>0</td>\n",
       "      <td>0</td>\n",
       "      <td>0</td>\n",
       "      <td>0</td>\n",
       "      <td>0</td>\n",
       "      <td>0</td>\n",
       "    </tr>\n",
       "    <tr>\n",
       "      <th>1</th>\n",
       "      <td>0</td>\n",
       "      <td>0</td>\n",
       "      <td>0</td>\n",
       "      <td>5.0</td>\n",
       "      <td>674</td>\n",
       "      <td>2.5</td>\n",
       "      <td>0</td>\n",
       "      <td>0</td>\n",
       "      <td>0</td>\n",
       "      <td>0</td>\n",
       "      <td>...</td>\n",
       "      <td>0</td>\n",
       "      <td>0</td>\n",
       "      <td>0</td>\n",
       "      <td>0</td>\n",
       "      <td>0</td>\n",
       "      <td>0</td>\n",
       "      <td>0</td>\n",
       "      <td>0</td>\n",
       "      <td>0</td>\n",
       "      <td>0</td>\n",
       "    </tr>\n",
       "    <tr>\n",
       "      <th>2</th>\n",
       "      <td>0</td>\n",
       "      <td>0</td>\n",
       "      <td>1</td>\n",
       "      <td>2.0</td>\n",
       "      <td>1532</td>\n",
       "      <td>2.0</td>\n",
       "      <td>0</td>\n",
       "      <td>0</td>\n",
       "      <td>1</td>\n",
       "      <td>1</td>\n",
       "      <td>...</td>\n",
       "      <td>0</td>\n",
       "      <td>0</td>\n",
       "      <td>0</td>\n",
       "      <td>0</td>\n",
       "      <td>0</td>\n",
       "      <td>0</td>\n",
       "      <td>0</td>\n",
       "      <td>0</td>\n",
       "      <td>0</td>\n",
       "      <td>0</td>\n",
       "    </tr>\n",
       "    <tr>\n",
       "      <th>3</th>\n",
       "      <td>0</td>\n",
       "      <td>0</td>\n",
       "      <td>0</td>\n",
       "      <td>1.0</td>\n",
       "      <td>305</td>\n",
       "      <td>1.0</td>\n",
       "      <td>0</td>\n",
       "      <td>0</td>\n",
       "      <td>0</td>\n",
       "      <td>1</td>\n",
       "      <td>...</td>\n",
       "      <td>0</td>\n",
       "      <td>0</td>\n",
       "      <td>1</td>\n",
       "      <td>0</td>\n",
       "      <td>0</td>\n",
       "      <td>0</td>\n",
       "      <td>0</td>\n",
       "      <td>0</td>\n",
       "      <td>0</td>\n",
       "      <td>0</td>\n",
       "    </tr>\n",
       "    <tr>\n",
       "      <th>4</th>\n",
       "      <td>0</td>\n",
       "      <td>0</td>\n",
       "      <td>1</td>\n",
       "      <td>2.0</td>\n",
       "      <td>1428</td>\n",
       "      <td>1.0</td>\n",
       "      <td>0</td>\n",
       "      <td>0</td>\n",
       "      <td>0</td>\n",
       "      <td>1</td>\n",
       "      <td>...</td>\n",
       "      <td>0</td>\n",
       "      <td>0</td>\n",
       "      <td>1</td>\n",
       "      <td>0</td>\n",
       "      <td>0</td>\n",
       "      <td>0</td>\n",
       "      <td>0</td>\n",
       "      <td>0</td>\n",
       "      <td>0</td>\n",
       "      <td>0</td>\n",
       "    </tr>\n",
       "  </tbody>\n",
       "</table>\n",
       "<p>5 rows × 70 columns</p>\n",
       "</div>"
      ],
      "text/plain": [
       "   Do Not Email  Do Not Call  Converted  TotalVisits  \\\n",
       "0             0            0          0          0.0   \n",
       "1             0            0          0          5.0   \n",
       "2             0            0          1          2.0   \n",
       "3             0            0          0          1.0   \n",
       "4             0            0          1          2.0   \n",
       "\n",
       "   Total Time Spent on Website  Page Views Per Visit  Search  \\\n",
       "0                            0                   0.0       0   \n",
       "1                          674                   2.5       0   \n",
       "2                         1532                   2.0       0   \n",
       "3                          305                   1.0       0   \n",
       "4                         1428                   1.0       0   \n",
       "\n",
       "   Newspaper Article  A free copy of Mastering The Interview  \\\n",
       "0                  0                                       0   \n",
       "1                  0                                       0   \n",
       "2                  0                                       1   \n",
       "3                  0                                       0   \n",
       "4                  0                                       0   \n",
       "\n",
       "   Lead Origin_Landing Page Submission  ...  \\\n",
       "0                                    0  ...   \n",
       "1                                    0  ...   \n",
       "2                                    1  ...   \n",
       "3                                    1  ...   \n",
       "4                                    1  ...   \n",
       "\n",
       "   Last Notable Activity_Form Submitted on Website  \\\n",
       "0                                                0   \n",
       "1                                                0   \n",
       "2                                                0   \n",
       "3                                                0   \n",
       "4                                                0   \n",
       "\n",
       "   Last Notable Activity_Had a Phone Conversation  \\\n",
       "0                                               0   \n",
       "1                                               0   \n",
       "2                                               0   \n",
       "3                                               0   \n",
       "4                                               0   \n",
       "\n",
       "   Last Notable Activity_Modified  \\\n",
       "0                               1   \n",
       "1                               0   \n",
       "2                               0   \n",
       "3                               1   \n",
       "4                               1   \n",
       "\n",
       "   Last Notable Activity_Olark Chat Conversation  \\\n",
       "0                                              0   \n",
       "1                                              0   \n",
       "2                                              0   \n",
       "3                                              0   \n",
       "4                                              0   \n",
       "\n",
       "   Last Notable Activity_Page Visited on Website  \\\n",
       "0                                              0   \n",
       "1                                              0   \n",
       "2                                              0   \n",
       "3                                              0   \n",
       "4                                              0   \n",
       "\n",
       "   Last Notable Activity_Resubscribed to emails  \\\n",
       "0                                             0   \n",
       "1                                             0   \n",
       "2                                             0   \n",
       "3                                             0   \n",
       "4                                             0   \n",
       "\n",
       "   Last Notable Activity_SMS Sent  Last Notable Activity_Unreachable  \\\n",
       "0                               0                                  0   \n",
       "1                               0                                  0   \n",
       "2                               0                                  0   \n",
       "3                               0                                  0   \n",
       "4                               0                                  0   \n",
       "\n",
       "   Last Notable Activity_Unsubscribed  \\\n",
       "0                                   0   \n",
       "1                                   0   \n",
       "2                                   0   \n",
       "3                                   0   \n",
       "4                                   0   \n",
       "\n",
       "   Last Notable Activity_View in browser link Clicked  \n",
       "0                                                  0   \n",
       "1                                                  0   \n",
       "2                                                  0   \n",
       "3                                                  0   \n",
       "4                                                  0   \n",
       "\n",
       "[5 rows x 70 columns]"
      ]
     },
     "execution_count": 1796,
     "metadata": {},
     "output_type": "execute_result"
    }
   ],
   "source": [
    "dummy_cols = ['Lead Origin', 'Lead Source', 'Last Activity', 'What is your current occupation', 'What matters most to you in choosing a course', 'Last Notable Activity']\n",
    "dataset = pd.get_dummies(data = dataset, columns = dummy_cols, drop_first = True)\n",
    "dataset.head()"
   ]
  },
  {
   "cell_type": "markdown",
   "id": "a634ad31",
   "metadata": {},
   "source": [
    "#### Step 5a: Split the dataset into a test set and a training set\n",
    "- The training:test ratio will be 80:20 as there are only 8603 values."
   ]
  },
  {
   "cell_type": "code",
   "execution_count": 1797,
   "id": "d305746d",
   "metadata": {},
   "outputs": [],
   "source": [
    "np.random.seed(0)\n",
    "data_train, data_test = train_test_split(dataset, train_size = 0.8, test_size = 0.2, random_state = 100)"
   ]
  },
  {
   "cell_type": "markdown",
   "id": "38a67a3d",
   "metadata": {},
   "source": [
    "#### Step 5b: Feature Scaling\n",
    "- Using a StandardScaler on all the numeric columns"
   ]
  },
  {
   "cell_type": "code",
   "execution_count": 1798,
   "id": "b1323170",
   "metadata": {},
   "outputs": [],
   "source": [
    "standard_scaler = StandardScaler()"
   ]
  },
  {
   "cell_type": "code",
   "execution_count": 1799,
   "id": "9a7d74d0",
   "metadata": {},
   "outputs": [],
   "source": [
    "# Numeric columns\n",
    "numeric_cols = ['TotalVisits', 'Total Time Spent on Website', 'Page Views Per Visit']\n",
    "\n",
    "# Performing a Fit() and Transform() on all the numeric variables (excluding dummy variables) of the training set.\n",
    "data_train[numeric_cols] = standard_scaler.fit_transform(data_train[numeric_cols])"
   ]
  },
  {
   "cell_type": "markdown",
   "id": "89f21dea",
   "metadata": {},
   "source": [
    "#### Step 5c: Splitting the predictor and target variables\n",
    "- For the training data\n",
    "- For the test data"
   ]
  },
  {
   "cell_type": "code",
   "execution_count": 1800,
   "id": "97a8d827",
   "metadata": {},
   "outputs": [],
   "source": [
    "# Training Data\n",
    "data_train_y = data_train.pop('Converted')\n",
    "data_train_X = data_train\n",
    "\n",
    "# Testing Data\n",
    "data_test_y = data_test.pop('Converted')\n",
    "data_test_X = data_test"
   ]
  },
  {
   "cell_type": "markdown",
   "id": "37d3c4ee",
   "metadata": {},
   "source": [
    "#### Step 6a: Building a regression model\n",
    "- We use RFE to reduce the number of columns.\n",
    "- We then eliminate variables by looking at the p-value and VIF."
   ]
  },
  {
   "cell_type": "code",
   "execution_count": 1801,
   "id": "1a0ca5d9",
   "metadata": {},
   "outputs": [],
   "source": [
    "# Instantiate the logistic regression class\n",
    "logistic_regression = LogisticRegression()"
   ]
  },
  {
   "cell_type": "code",
   "execution_count": 1802,
   "id": "036986dc",
   "metadata": {},
   "outputs": [],
   "source": [
    "# Use RFE to cut-down on variables\n",
    "rfe = RFE(logistic_regression, n_features_to_select = 15)\n",
    "rfe = rfe.fit(data_train_X, data_train_y)"
   ]
  },
  {
   "cell_type": "code",
   "execution_count": 1803,
   "id": "2f080039",
   "metadata": {},
   "outputs": [
    {
     "data": {
      "text/plain": [
       "array([ True, False, False,  True, False, False, False, False, False,\n",
       "        True, False,  True, False, False, False, False, False,  True,\n",
       "       False, False, False,  True, False, False,  True, False, False,\n",
       "       False, False, False, False, False, False, False, False, False,\n",
       "       False, False, False,  True, False, False, False, False, False,\n",
       "       False, False,  True, False, False, False,  True, False, False,\n",
       "       False,  True, False,  True, False, False, False,  True,  True,\n",
       "        True, False, False, False, False, False])"
      ]
     },
     "execution_count": 1803,
     "metadata": {},
     "output_type": "execute_result"
    }
   ],
   "source": [
    "rfe.support_"
   ]
  },
  {
   "cell_type": "code",
   "execution_count": 1804,
   "id": "3099c73e",
   "metadata": {},
   "outputs": [
    {
     "data": {
      "text/plain": [
       "[('Do Not Email', True, 1),\n",
       " ('Do Not Call', False, 10),\n",
       " ('TotalVisits', False, 25),\n",
       " ('Total Time Spent on Website', True, 1),\n",
       " ('Page Views Per Visit', False, 26),\n",
       " ('Search', False, 42),\n",
       " ('Newspaper Article', False, 48),\n",
       " ('A free copy of Mastering The Interview', False, 46),\n",
       " ('Lead Origin_Landing Page Submission', False, 34),\n",
       " ('Lead Origin_Lead Add Form', True, 1),\n",
       " ('Lead Origin_Lead Import', False, 19),\n",
       " ('Lead Source_Direct Traffic', True, 1),\n",
       " ('Lead Source_Facebook', False, 39),\n",
       " ('Lead Source_Google', False, 2),\n",
       " ('Lead Source_Live Chat', False, 43),\n",
       " ('Lead Source_NC_EDM', False, 30),\n",
       " ('Lead Source_Olark Chat', False, 16),\n",
       " ('Lead Source_Organic Search', True, 1),\n",
       " ('Lead Source_Pay per Click Ads', False, 41),\n",
       " ('Lead Source_Press_Release', False, 45),\n",
       " ('Lead Source_Reference', False, 14),\n",
       " ('Lead Source_Referral Sites', True, 1),\n",
       " ('Lead Source_Social Media', False, 15),\n",
       " ('Lead Source_WeLearn', False, 27),\n",
       " ('Lead Source_Welingak Website', True, 1),\n",
       " ('Lead Source_bing', False, 36),\n",
       " ('Lead Source_blog', False, 54),\n",
       " ('Lead Source_google', False, 3),\n",
       " ('Lead Source_testone', False, 38),\n",
       " ('Lead Source_welearnblog_Home', False, 35),\n",
       " ('Lead Source_youtubechannel', False, 29),\n",
       " ('Last Activity_Converted to Lead', False, 5),\n",
       " ('Last Activity_Email Bounced', False, 4),\n",
       " ('Last Activity_Email Link Clicked', False, 37),\n",
       " ('Last Activity_Email Marked Spam', False, 20),\n",
       " ('Last Activity_Email Opened', False, 12),\n",
       " ('Last Activity_Email Received', False, 44),\n",
       " ('Last Activity_Form Submitted on Website', False, 32),\n",
       " ('Last Activity_Had a Phone Conversation', False, 8),\n",
       " ('Last Activity_Olark Chat Conversation', True, 1),\n",
       " ('Last Activity_Page Visited on Website', False, 33),\n",
       " ('Last Activity_Resubscribed to emails', False, 52),\n",
       " ('Last Activity_SMS Sent', False, 11),\n",
       " ('Last Activity_Unreachable', False, 31),\n",
       " ('Last Activity_Unsubscribed', False, 40),\n",
       " ('Last Activity_View in browser link Clicked', False, 18),\n",
       " ('Last Activity_Visited Booth in Tradeshow', False, 50),\n",
       " ('What is your current occupation_Housewife', True, 1),\n",
       " ('What is your current occupation_Other', False, 17),\n",
       " ('What is your current occupation_Student', False, 7),\n",
       " ('What is your current occupation_Unemployed', False, 6),\n",
       " ('What is your current occupation_Working Professional', True, 1),\n",
       " ('What matters most to you in choosing a course_Flexibility & Convenience',\n",
       "  False,\n",
       "  9),\n",
       " ('What matters most to you in choosing a course_Other', False, 53),\n",
       " ('Last Notable Activity_Email Bounced', False, 28),\n",
       " ('Last Notable Activity_Email Link Clicked', True, 1),\n",
       " ('Last Notable Activity_Email Marked Spam', False, 23),\n",
       " ('Last Notable Activity_Email Opened', True, 1),\n",
       " ('Last Notable Activity_Email Received', False, 47),\n",
       " ('Last Notable Activity_Form Submitted on Website', False, 49),\n",
       " ('Last Notable Activity_Had a Phone Conversation', False, 24),\n",
       " ('Last Notable Activity_Modified', True, 1),\n",
       " ('Last Notable Activity_Olark Chat Conversation', True, 1),\n",
       " ('Last Notable Activity_Page Visited on Website', True, 1),\n",
       " ('Last Notable Activity_Resubscribed to emails', False, 51),\n",
       " ('Last Notable Activity_SMS Sent', False, 22),\n",
       " ('Last Notable Activity_Unreachable', False, 13),\n",
       " ('Last Notable Activity_Unsubscribed', False, 21),\n",
       " ('Last Notable Activity_View in browser link Clicked', False, 55)]"
      ]
     },
     "execution_count": 1804,
     "metadata": {},
     "output_type": "execute_result"
    }
   ],
   "source": [
    "list(zip(data_train_X.columns, rfe.support_, rfe.ranking_))"
   ]
  },
  {
   "cell_type": "code",
   "execution_count": 1805,
   "id": "08b0f8a0",
   "metadata": {},
   "outputs": [],
   "source": [
    "cols = data_train_X.columns[rfe.support_]"
   ]
  },
  {
   "cell_type": "code",
   "execution_count": 1806,
   "id": "00f5d028",
   "metadata": {},
   "outputs": [
    {
     "data": {
      "text/plain": [
       "Index(['Do Not Call', 'TotalVisits', 'Page Views Per Visit', 'Search',\n",
       "       'Newspaper Article', 'A free copy of Mastering The Interview',\n",
       "       'Lead Origin_Landing Page Submission', 'Lead Origin_Lead Import',\n",
       "       'Lead Source_Facebook', 'Lead Source_Google', 'Lead Source_Live Chat',\n",
       "       'Lead Source_NC_EDM', 'Lead Source_Olark Chat',\n",
       "       'Lead Source_Pay per Click Ads', 'Lead Source_Press_Release',\n",
       "       'Lead Source_Reference', 'Lead Source_Social Media',\n",
       "       'Lead Source_WeLearn', 'Lead Source_bing', 'Lead Source_blog',\n",
       "       'Lead Source_google', 'Lead Source_testone',\n",
       "       'Lead Source_welearnblog_Home', 'Lead Source_youtubechannel',\n",
       "       'Last Activity_Converted to Lead', 'Last Activity_Email Bounced',\n",
       "       'Last Activity_Email Link Clicked', 'Last Activity_Email Marked Spam',\n",
       "       'Last Activity_Email Opened', 'Last Activity_Email Received',\n",
       "       'Last Activity_Form Submitted on Website',\n",
       "       'Last Activity_Had a Phone Conversation',\n",
       "       'Last Activity_Page Visited on Website',\n",
       "       'Last Activity_Resubscribed to emails', 'Last Activity_SMS Sent',\n",
       "       'Last Activity_Unreachable', 'Last Activity_Unsubscribed',\n",
       "       'Last Activity_View in browser link Clicked',\n",
       "       'Last Activity_Visited Booth in Tradeshow',\n",
       "       'What is your current occupation_Other',\n",
       "       'What is your current occupation_Student',\n",
       "       'What is your current occupation_Unemployed',\n",
       "       'What matters most to you in choosing a course_Flexibility & Convenience',\n",
       "       'What matters most to you in choosing a course_Other',\n",
       "       'Last Notable Activity_Email Bounced',\n",
       "       'Last Notable Activity_Email Marked Spam',\n",
       "       'Last Notable Activity_Email Received',\n",
       "       'Last Notable Activity_Form Submitted on Website',\n",
       "       'Last Notable Activity_Had a Phone Conversation',\n",
       "       'Last Notable Activity_Resubscribed to emails',\n",
       "       'Last Notable Activity_SMS Sent', 'Last Notable Activity_Unreachable',\n",
       "       'Last Notable Activity_Unsubscribed',\n",
       "       'Last Notable Activity_View in browser link Clicked'],\n",
       "      dtype='object')"
      ]
     },
     "execution_count": 1806,
     "metadata": {},
     "output_type": "execute_result"
    }
   ],
   "source": [
    "data_train_X.columns[~rfe.support_]"
   ]
  },
  {
   "cell_type": "markdown",
   "id": "7276c600",
   "metadata": {},
   "source": [
    "#### Step 6b: Evaluating and refining the model using statsmodels"
   ]
  },
  {
   "cell_type": "code",
   "execution_count": 1807,
   "id": "75e2bfbb",
   "metadata": {},
   "outputs": [
    {
     "data": {
      "text/html": [
       "<table class=\"simpletable\">\n",
       "<caption>Generalized Linear Model Regression Results</caption>\n",
       "<tr>\n",
       "  <th>Dep. Variable:</th>       <td>Converted</td>    <th>  No. Observations:  </th>  <td>  6882</td> \n",
       "</tr>\n",
       "<tr>\n",
       "  <th>Model:</th>                  <td>GLM</td>       <th>  Df Residuals:      </th>  <td>  6866</td> \n",
       "</tr>\n",
       "<tr>\n",
       "  <th>Model Family:</th>        <td>Binomial</td>     <th>  Df Model:          </th>  <td>    15</td> \n",
       "</tr>\n",
       "<tr>\n",
       "  <th>Link Function:</th>         <td>Logit</td>      <th>  Scale:             </th> <td>  1.0000</td>\n",
       "</tr>\n",
       "<tr>\n",
       "  <th>Method:</th>                <td>IRLS</td>       <th>  Log-Likelihood:    </th> <td> -2889.7</td>\n",
       "</tr>\n",
       "<tr>\n",
       "  <th>Date:</th>            <td>Wed, 29 Mar 2023</td> <th>  Deviance:          </th> <td>  5779.3</td>\n",
       "</tr>\n",
       "<tr>\n",
       "  <th>Time:</th>                <td>00:52:33</td>     <th>  Pearson chi2:      </th> <td>6.73e+03</td>\n",
       "</tr>\n",
       "<tr>\n",
       "  <th>No. Iterations:</th>         <td>21</td>        <th>  Pseudo R-squ. (CS):</th>  <td>0.3834</td> \n",
       "</tr>\n",
       "<tr>\n",
       "  <th>Covariance Type:</th>     <td>nonrobust</td>    <th>                     </th>     <td> </td>   \n",
       "</tr>\n",
       "</table>\n",
       "<table class=\"simpletable\">\n",
       "<tr>\n",
       "                            <td></td>                              <th>coef</th>     <th>std err</th>      <th>z</th>      <th>P>|z|</th>  <th>[0.025</th>    <th>0.975]</th>  \n",
       "</tr>\n",
       "<tr>\n",
       "  <th>const</th>                                                <td>    0.6025</td> <td>    0.071</td> <td>    8.482</td> <td> 0.000</td> <td>    0.463</td> <td>    0.742</td>\n",
       "</tr>\n",
       "<tr>\n",
       "  <th>Do Not Email</th>                                         <td>   -1.5584</td> <td>    0.165</td> <td>   -9.419</td> <td> 0.000</td> <td>   -1.883</td> <td>   -1.234</td>\n",
       "</tr>\n",
       "<tr>\n",
       "  <th>Total Time Spent on Website</th>                          <td>    0.9680</td> <td>    0.034</td> <td>   28.279</td> <td> 0.000</td> <td>    0.901</td> <td>    1.035</td>\n",
       "</tr>\n",
       "<tr>\n",
       "  <th>Lead Origin_Lead Add Form</th>                            <td>    3.5724</td> <td>    0.221</td> <td>   16.138</td> <td> 0.000</td> <td>    3.139</td> <td>    4.006</td>\n",
       "</tr>\n",
       "<tr>\n",
       "  <th>Lead Source_Direct Traffic</th>                           <td>   -0.6643</td> <td>    0.078</td> <td>   -8.507</td> <td> 0.000</td> <td>   -0.817</td> <td>   -0.511</td>\n",
       "</tr>\n",
       "<tr>\n",
       "  <th>Lead Source_Organic Search</th>                           <td>   -0.4317</td> <td>    0.104</td> <td>   -4.159</td> <td> 0.000</td> <td>   -0.635</td> <td>   -0.228</td>\n",
       "</tr>\n",
       "<tr>\n",
       "  <th>Lead Source_Referral Sites</th>                           <td>   -0.5892</td> <td>    0.317</td> <td>   -1.859</td> <td> 0.063</td> <td>   -1.210</td> <td>    0.032</td>\n",
       "</tr>\n",
       "<tr>\n",
       "  <th>Lead Source_Welingak Website</th>                         <td>    2.4900</td> <td>    1.033</td> <td>    2.412</td> <td> 0.016</td> <td>    0.466</td> <td>    4.514</td>\n",
       "</tr>\n",
       "<tr>\n",
       "  <th>Last Activity_Olark Chat Conversation</th>                <td>   -0.8883</td> <td>    0.183</td> <td>   -4.853</td> <td> 0.000</td> <td>   -1.247</td> <td>   -0.530</td>\n",
       "</tr>\n",
       "<tr>\n",
       "  <th>What is your current occupation_Housewife</th>            <td>   22.9607</td> <td> 1.49e+04</td> <td>    0.002</td> <td> 0.999</td> <td>-2.92e+04</td> <td> 2.93e+04</td>\n",
       "</tr>\n",
       "<tr>\n",
       "  <th>What is your current occupation_Working Professional</th> <td>    2.8930</td> <td>    0.195</td> <td>   14.800</td> <td> 0.000</td> <td>    2.510</td> <td>    3.276</td>\n",
       "</tr>\n",
       "<tr>\n",
       "  <th>Last Notable Activity_Email Link Clicked</th>             <td>   -1.7207</td> <td>    0.247</td> <td>   -6.973</td> <td> 0.000</td> <td>   -2.204</td> <td>   -1.237</td>\n",
       "</tr>\n",
       "<tr>\n",
       "  <th>Last Notable Activity_Email Opened</th>                   <td>   -1.3775</td> <td>    0.084</td> <td>  -16.429</td> <td> 0.000</td> <td>   -1.542</td> <td>   -1.213</td>\n",
       "</tr>\n",
       "<tr>\n",
       "  <th>Last Notable Activity_Modified</th>                       <td>   -1.9019</td> <td>    0.091</td> <td>  -20.852</td> <td> 0.000</td> <td>   -2.081</td> <td>   -1.723</td>\n",
       "</tr>\n",
       "<tr>\n",
       "  <th>Last Notable Activity_Olark Chat Conversation</th>        <td>   -1.5062</td> <td>    0.356</td> <td>   -4.237</td> <td> 0.000</td> <td>   -2.203</td> <td>   -0.809</td>\n",
       "</tr>\n",
       "<tr>\n",
       "  <th>Last Notable Activity_Page Visited on Website</th>        <td>   -1.5757</td> <td>    0.206</td> <td>   -7.653</td> <td> 0.000</td> <td>   -1.979</td> <td>   -1.172</td>\n",
       "</tr>\n",
       "</table>"
      ],
      "text/plain": [
       "<class 'statsmodels.iolib.summary.Summary'>\n",
       "\"\"\"\n",
       "                 Generalized Linear Model Regression Results                  \n",
       "==============================================================================\n",
       "Dep. Variable:              Converted   No. Observations:                 6882\n",
       "Model:                            GLM   Df Residuals:                     6866\n",
       "Model Family:                Binomial   Df Model:                           15\n",
       "Link Function:                  Logit   Scale:                          1.0000\n",
       "Method:                          IRLS   Log-Likelihood:                -2889.7\n",
       "Date:                Wed, 29 Mar 2023   Deviance:                       5779.3\n",
       "Time:                        00:52:33   Pearson chi2:                 6.73e+03\n",
       "No. Iterations:                    21   Pseudo R-squ. (CS):             0.3834\n",
       "Covariance Type:            nonrobust                                         \n",
       "========================================================================================================================\n",
       "                                                           coef    std err          z      P>|z|      [0.025      0.975]\n",
       "------------------------------------------------------------------------------------------------------------------------\n",
       "const                                                    0.6025      0.071      8.482      0.000       0.463       0.742\n",
       "Do Not Email                                            -1.5584      0.165     -9.419      0.000      -1.883      -1.234\n",
       "Total Time Spent on Website                              0.9680      0.034     28.279      0.000       0.901       1.035\n",
       "Lead Origin_Lead Add Form                                3.5724      0.221     16.138      0.000       3.139       4.006\n",
       "Lead Source_Direct Traffic                              -0.6643      0.078     -8.507      0.000      -0.817      -0.511\n",
       "Lead Source_Organic Search                              -0.4317      0.104     -4.159      0.000      -0.635      -0.228\n",
       "Lead Source_Referral Sites                              -0.5892      0.317     -1.859      0.063      -1.210       0.032\n",
       "Lead Source_Welingak Website                             2.4900      1.033      2.412      0.016       0.466       4.514\n",
       "Last Activity_Olark Chat Conversation                   -0.8883      0.183     -4.853      0.000      -1.247      -0.530\n",
       "What is your current occupation_Housewife               22.9607   1.49e+04      0.002      0.999   -2.92e+04    2.93e+04\n",
       "What is your current occupation_Working Professional     2.8930      0.195     14.800      0.000       2.510       3.276\n",
       "Last Notable Activity_Email Link Clicked                -1.7207      0.247     -6.973      0.000      -2.204      -1.237\n",
       "Last Notable Activity_Email Opened                      -1.3775      0.084    -16.429      0.000      -1.542      -1.213\n",
       "Last Notable Activity_Modified                          -1.9019      0.091    -20.852      0.000      -2.081      -1.723\n",
       "Last Notable Activity_Olark Chat Conversation           -1.5062      0.356     -4.237      0.000      -2.203      -0.809\n",
       "Last Notable Activity_Page Visited on Website           -1.5757      0.206     -7.653      0.000      -1.979      -1.172\n",
       "========================================================================================================================\n",
       "\"\"\""
      ]
     },
     "execution_count": 1807,
     "metadata": {},
     "output_type": "execute_result"
    }
   ],
   "source": [
    "data_train_X_sm = sm.add_constant(data_train_X[cols])\n",
    "logm2 = sm.GLM(data_train_y, data_train_X_sm, family = sm.families.Binomial())\n",
    "res = logm2.fit()\n",
    "res.summary()"
   ]
  },
  {
   "cell_type": "code",
   "execution_count": 1808,
   "id": "a038ba6e",
   "metadata": {},
   "outputs": [
    {
     "name": "stdout",
     "output_type": "stream",
     "text": [
      "                                             Features  var_fact\n",
      "0                                               const      5.56\n",
      "13                     Last Notable Activity_Modified      1.80\n",
      "12                 Last Notable Activity_Email Opened      1.60\n",
      "8               Last Activity_Olark Chat Conversation      1.56\n",
      "3                           Lead Origin_Lead Add Form      1.48\n",
      "14      Last Notable Activity_Olark Chat Conversation      1.34\n",
      "7                        Lead Source_Welingak Website      1.30\n",
      "4                          Lead Source_Direct Traffic      1.20\n",
      "2                         Total Time Spent on Website      1.15\n",
      "5                          Lead Source_Organic Search      1.12\n",
      "10  What is your current occupation_Working Profes...      1.10\n",
      "1                                        Do Not Email      1.08\n",
      "15      Last Notable Activity_Page Visited on Website      1.08\n",
      "11           Last Notable Activity_Email Link Clicked      1.07\n",
      "6                          Lead Source_Referral Sites      1.01\n",
      "9           What is your current occupation_Housewife      1.00\n"
     ]
    }
   ],
   "source": [
    "print(calculate_vif(data_train_X_sm))"
   ]
  },
  {
   "cell_type": "markdown",
   "id": "24680230",
   "metadata": {},
   "source": [
    "As we can see that the p-value for 'What is your current occupation_Housewife' is very high so we drop it."
   ]
  },
  {
   "cell_type": "code",
   "execution_count": 1809,
   "id": "16eb8186",
   "metadata": {},
   "outputs": [],
   "source": [
    "cols = cols.drop(\"What is your current occupation_Housewife\")"
   ]
  },
  {
   "cell_type": "code",
   "execution_count": 1810,
   "id": "6440bcd4",
   "metadata": {},
   "outputs": [
    {
     "data": {
      "text/html": [
       "<table class=\"simpletable\">\n",
       "<caption>Generalized Linear Model Regression Results</caption>\n",
       "<tr>\n",
       "  <th>Dep. Variable:</th>       <td>Converted</td>    <th>  No. Observations:  </th>  <td>  6882</td> \n",
       "</tr>\n",
       "<tr>\n",
       "  <th>Model:</th>                  <td>GLM</td>       <th>  Df Residuals:      </th>  <td>  6867</td> \n",
       "</tr>\n",
       "<tr>\n",
       "  <th>Model Family:</th>        <td>Binomial</td>     <th>  Df Model:          </th>  <td>    14</td> \n",
       "</tr>\n",
       "<tr>\n",
       "  <th>Link Function:</th>         <td>Logit</td>      <th>  Scale:             </th> <td>  1.0000</td>\n",
       "</tr>\n",
       "<tr>\n",
       "  <th>Method:</th>                <td>IRLS</td>       <th>  Log-Likelihood:    </th> <td> -2896.4</td>\n",
       "</tr>\n",
       "<tr>\n",
       "  <th>Date:</th>            <td>Wed, 29 Mar 2023</td> <th>  Deviance:          </th> <td>  5792.8</td>\n",
       "</tr>\n",
       "<tr>\n",
       "  <th>Time:</th>                <td>00:52:33</td>     <th>  Pearson chi2:      </th> <td>6.74e+03</td>\n",
       "</tr>\n",
       "<tr>\n",
       "  <th>No. Iterations:</th>          <td>7</td>        <th>  Pseudo R-squ. (CS):</th>  <td>0.3822</td> \n",
       "</tr>\n",
       "<tr>\n",
       "  <th>Covariance Type:</th>     <td>nonrobust</td>    <th>                     </th>     <td> </td>   \n",
       "</tr>\n",
       "</table>\n",
       "<table class=\"simpletable\">\n",
       "<tr>\n",
       "                            <td></td>                              <th>coef</th>     <th>std err</th>      <th>z</th>      <th>P>|z|</th>  <th>[0.025</th>    <th>0.975]</th>  \n",
       "</tr>\n",
       "<tr>\n",
       "  <th>const</th>                                                <td>    0.6018</td> <td>    0.071</td> <td>    8.474</td> <td> 0.000</td> <td>    0.463</td> <td>    0.741</td>\n",
       "</tr>\n",
       "<tr>\n",
       "  <th>Do Not Email</th>                                         <td>   -1.5611</td> <td>    0.165</td> <td>   -9.437</td> <td> 0.000</td> <td>   -1.885</td> <td>   -1.237</td>\n",
       "</tr>\n",
       "<tr>\n",
       "  <th>Total Time Spent on Website</th>                          <td>    0.9683</td> <td>    0.034</td> <td>   28.318</td> <td> 0.000</td> <td>    0.901</td> <td>    1.035</td>\n",
       "</tr>\n",
       "<tr>\n",
       "  <th>Lead Origin_Lead Add Form</th>                            <td>    3.5821</td> <td>    0.221</td> <td>   16.198</td> <td> 0.000</td> <td>    3.149</td> <td>    4.016</td>\n",
       "</tr>\n",
       "<tr>\n",
       "  <th>Lead Source_Direct Traffic</th>                           <td>   -0.6649</td> <td>    0.078</td> <td>   -8.523</td> <td> 0.000</td> <td>   -0.818</td> <td>   -0.512</td>\n",
       "</tr>\n",
       "<tr>\n",
       "  <th>Lead Source_Organic Search</th>                           <td>   -0.4241</td> <td>    0.104</td> <td>   -4.096</td> <td> 0.000</td> <td>   -0.627</td> <td>   -0.221</td>\n",
       "</tr>\n",
       "<tr>\n",
       "  <th>Lead Source_Referral Sites</th>                           <td>   -0.5932</td> <td>    0.317</td> <td>   -1.872</td> <td> 0.061</td> <td>   -1.214</td> <td>    0.028</td>\n",
       "</tr>\n",
       "<tr>\n",
       "  <th>Lead Source_Welingak Website</th>                         <td>    2.4770</td> <td>    1.032</td> <td>    2.399</td> <td> 0.016</td> <td>    0.453</td> <td>    4.501</td>\n",
       "</tr>\n",
       "<tr>\n",
       "  <th>Last Activity_Olark Chat Conversation</th>                <td>   -0.8944</td> <td>    0.183</td> <td>   -4.888</td> <td> 0.000</td> <td>   -1.253</td> <td>   -0.536</td>\n",
       "</tr>\n",
       "<tr>\n",
       "  <th>What is your current occupation_Working Professional</th> <td>    2.8880</td> <td>    0.195</td> <td>   14.775</td> <td> 0.000</td> <td>    2.505</td> <td>    3.271</td>\n",
       "</tr>\n",
       "<tr>\n",
       "  <th>Last Notable Activity_Email Link Clicked</th>             <td>   -1.7208</td> <td>    0.247</td> <td>   -6.972</td> <td> 0.000</td> <td>   -2.205</td> <td>   -1.237</td>\n",
       "</tr>\n",
       "<tr>\n",
       "  <th>Last Notable Activity_Email Opened</th>                   <td>   -1.3707</td> <td>    0.084</td> <td>  -16.364</td> <td> 0.000</td> <td>   -1.535</td> <td>   -1.207</td>\n",
       "</tr>\n",
       "<tr>\n",
       "  <th>Last Notable Activity_Modified</th>                       <td>   -1.8954</td> <td>    0.091</td> <td>  -20.807</td> <td> 0.000</td> <td>   -2.074</td> <td>   -1.717</td>\n",
       "</tr>\n",
       "<tr>\n",
       "  <th>Last Notable Activity_Olark Chat Conversation</th>        <td>   -1.4996</td> <td>    0.355</td> <td>   -4.218</td> <td> 0.000</td> <td>   -2.196</td> <td>   -0.803</td>\n",
       "</tr>\n",
       "<tr>\n",
       "  <th>Last Notable Activity_Page Visited on Website</th>        <td>   -1.5754</td> <td>    0.206</td> <td>   -7.651</td> <td> 0.000</td> <td>   -1.979</td> <td>   -1.172</td>\n",
       "</tr>\n",
       "</table>"
      ],
      "text/plain": [
       "<class 'statsmodels.iolib.summary.Summary'>\n",
       "\"\"\"\n",
       "                 Generalized Linear Model Regression Results                  \n",
       "==============================================================================\n",
       "Dep. Variable:              Converted   No. Observations:                 6882\n",
       "Model:                            GLM   Df Residuals:                     6867\n",
       "Model Family:                Binomial   Df Model:                           14\n",
       "Link Function:                  Logit   Scale:                          1.0000\n",
       "Method:                          IRLS   Log-Likelihood:                -2896.4\n",
       "Date:                Wed, 29 Mar 2023   Deviance:                       5792.8\n",
       "Time:                        00:52:33   Pearson chi2:                 6.74e+03\n",
       "No. Iterations:                     7   Pseudo R-squ. (CS):             0.3822\n",
       "Covariance Type:            nonrobust                                         \n",
       "========================================================================================================================\n",
       "                                                           coef    std err          z      P>|z|      [0.025      0.975]\n",
       "------------------------------------------------------------------------------------------------------------------------\n",
       "const                                                    0.6018      0.071      8.474      0.000       0.463       0.741\n",
       "Do Not Email                                            -1.5611      0.165     -9.437      0.000      -1.885      -1.237\n",
       "Total Time Spent on Website                              0.9683      0.034     28.318      0.000       0.901       1.035\n",
       "Lead Origin_Lead Add Form                                3.5821      0.221     16.198      0.000       3.149       4.016\n",
       "Lead Source_Direct Traffic                              -0.6649      0.078     -8.523      0.000      -0.818      -0.512\n",
       "Lead Source_Organic Search                              -0.4241      0.104     -4.096      0.000      -0.627      -0.221\n",
       "Lead Source_Referral Sites                              -0.5932      0.317     -1.872      0.061      -1.214       0.028\n",
       "Lead Source_Welingak Website                             2.4770      1.032      2.399      0.016       0.453       4.501\n",
       "Last Activity_Olark Chat Conversation                   -0.8944      0.183     -4.888      0.000      -1.253      -0.536\n",
       "What is your current occupation_Working Professional     2.8880      0.195     14.775      0.000       2.505       3.271\n",
       "Last Notable Activity_Email Link Clicked                -1.7208      0.247     -6.972      0.000      -2.205      -1.237\n",
       "Last Notable Activity_Email Opened                      -1.3707      0.084    -16.364      0.000      -1.535      -1.207\n",
       "Last Notable Activity_Modified                          -1.8954      0.091    -20.807      0.000      -2.074      -1.717\n",
       "Last Notable Activity_Olark Chat Conversation           -1.4996      0.355     -4.218      0.000      -2.196      -0.803\n",
       "Last Notable Activity_Page Visited on Website           -1.5754      0.206     -7.651      0.000      -1.979      -1.172\n",
       "========================================================================================================================\n",
       "\"\"\""
      ]
     },
     "execution_count": 1810,
     "metadata": {},
     "output_type": "execute_result"
    }
   ],
   "source": [
    "# Rebuilding model\n",
    "data_train_X_sm = sm.add_constant(data_train_X[cols])\n",
    "logm2 = sm.GLM(data_train_y, data_train_X_sm, family = sm.families.Binomial())\n",
    "res = logm2.fit()\n",
    "res.summary()"
   ]
  },
  {
   "cell_type": "code",
   "execution_count": 1811,
   "id": "5654285e",
   "metadata": {},
   "outputs": [
    {
     "data": {
      "text/html": [
       "<div>\n",
       "<style scoped>\n",
       "    .dataframe tbody tr th:only-of-type {\n",
       "        vertical-align: middle;\n",
       "    }\n",
       "\n",
       "    .dataframe tbody tr th {\n",
       "        vertical-align: top;\n",
       "    }\n",
       "\n",
       "    .dataframe thead th {\n",
       "        text-align: right;\n",
       "    }\n",
       "</style>\n",
       "<table border=\"1\" class=\"dataframe\">\n",
       "  <thead>\n",
       "    <tr style=\"text-align: right;\">\n",
       "      <th></th>\n",
       "      <th>Features</th>\n",
       "      <th>var_fact</th>\n",
       "    </tr>\n",
       "  </thead>\n",
       "  <tbody>\n",
       "    <tr>\n",
       "      <th>0</th>\n",
       "      <td>const</td>\n",
       "      <td>5.56</td>\n",
       "    </tr>\n",
       "    <tr>\n",
       "      <th>12</th>\n",
       "      <td>Last Notable Activity_Modified</td>\n",
       "      <td>1.80</td>\n",
       "    </tr>\n",
       "    <tr>\n",
       "      <th>11</th>\n",
       "      <td>Last Notable Activity_Email Opened</td>\n",
       "      <td>1.60</td>\n",
       "    </tr>\n",
       "    <tr>\n",
       "      <th>8</th>\n",
       "      <td>Last Activity_Olark Chat Conversation</td>\n",
       "      <td>1.56</td>\n",
       "    </tr>\n",
       "    <tr>\n",
       "      <th>3</th>\n",
       "      <td>Lead Origin_Lead Add Form</td>\n",
       "      <td>1.48</td>\n",
       "    </tr>\n",
       "    <tr>\n",
       "      <th>13</th>\n",
       "      <td>Last Notable Activity_Olark Chat Conversation</td>\n",
       "      <td>1.34</td>\n",
       "    </tr>\n",
       "    <tr>\n",
       "      <th>7</th>\n",
       "      <td>Lead Source_Welingak Website</td>\n",
       "      <td>1.30</td>\n",
       "    </tr>\n",
       "    <tr>\n",
       "      <th>4</th>\n",
       "      <td>Lead Source_Direct Traffic</td>\n",
       "      <td>1.20</td>\n",
       "    </tr>\n",
       "    <tr>\n",
       "      <th>2</th>\n",
       "      <td>Total Time Spent on Website</td>\n",
       "      <td>1.15</td>\n",
       "    </tr>\n",
       "    <tr>\n",
       "      <th>5</th>\n",
       "      <td>Lead Source_Organic Search</td>\n",
       "      <td>1.12</td>\n",
       "    </tr>\n",
       "    <tr>\n",
       "      <th>9</th>\n",
       "      <td>What is your current occupation_Working Profes...</td>\n",
       "      <td>1.10</td>\n",
       "    </tr>\n",
       "    <tr>\n",
       "      <th>1</th>\n",
       "      <td>Do Not Email</td>\n",
       "      <td>1.08</td>\n",
       "    </tr>\n",
       "    <tr>\n",
       "      <th>14</th>\n",
       "      <td>Last Notable Activity_Page Visited on Website</td>\n",
       "      <td>1.08</td>\n",
       "    </tr>\n",
       "    <tr>\n",
       "      <th>10</th>\n",
       "      <td>Last Notable Activity_Email Link Clicked</td>\n",
       "      <td>1.07</td>\n",
       "    </tr>\n",
       "    <tr>\n",
       "      <th>6</th>\n",
       "      <td>Lead Source_Referral Sites</td>\n",
       "      <td>1.01</td>\n",
       "    </tr>\n",
       "  </tbody>\n",
       "</table>\n",
       "</div>"
      ],
      "text/plain": [
       "                                             Features  var_fact\n",
       "0                                               const      5.56\n",
       "12                     Last Notable Activity_Modified      1.80\n",
       "11                 Last Notable Activity_Email Opened      1.60\n",
       "8               Last Activity_Olark Chat Conversation      1.56\n",
       "3                           Lead Origin_Lead Add Form      1.48\n",
       "13      Last Notable Activity_Olark Chat Conversation      1.34\n",
       "7                        Lead Source_Welingak Website      1.30\n",
       "4                          Lead Source_Direct Traffic      1.20\n",
       "2                         Total Time Spent on Website      1.15\n",
       "5                          Lead Source_Organic Search      1.12\n",
       "9   What is your current occupation_Working Profes...      1.10\n",
       "1                                        Do Not Email      1.08\n",
       "14      Last Notable Activity_Page Visited on Website      1.08\n",
       "10           Last Notable Activity_Email Link Clicked      1.07\n",
       "6                          Lead Source_Referral Sites      1.01"
      ]
     },
     "execution_count": 1811,
     "metadata": {},
     "output_type": "execute_result"
    }
   ],
   "source": [
    "calculate_vif(data_train_X_sm)"
   ]
  },
  {
   "cell_type": "markdown",
   "id": "070d7c10",
   "metadata": {},
   "source": [
    "Since Lead Source_Referral Sites p-value > 0.05 we drop that column "
   ]
  },
  {
   "cell_type": "code",
   "execution_count": 1812,
   "id": "482512b6",
   "metadata": {},
   "outputs": [],
   "source": [
    "cols = cols.drop('Lead Source_Referral Sites')"
   ]
  },
  {
   "cell_type": "code",
   "execution_count": 1813,
   "id": "0bb0c626",
   "metadata": {},
   "outputs": [
    {
     "data": {
      "text/html": [
       "<table class=\"simpletable\">\n",
       "<caption>Generalized Linear Model Regression Results</caption>\n",
       "<tr>\n",
       "  <th>Dep. Variable:</th>       <td>Converted</td>    <th>  No. Observations:  </th>  <td>  6882</td> \n",
       "</tr>\n",
       "<tr>\n",
       "  <th>Model:</th>                  <td>GLM</td>       <th>  Df Residuals:      </th>  <td>  6868</td> \n",
       "</tr>\n",
       "<tr>\n",
       "  <th>Model Family:</th>        <td>Binomial</td>     <th>  Df Model:          </th>  <td>    13</td> \n",
       "</tr>\n",
       "<tr>\n",
       "  <th>Link Function:</th>         <td>Logit</td>      <th>  Scale:             </th> <td>  1.0000</td>\n",
       "</tr>\n",
       "<tr>\n",
       "  <th>Method:</th>                <td>IRLS</td>       <th>  Log-Likelihood:    </th> <td> -2898.3</td>\n",
       "</tr>\n",
       "<tr>\n",
       "  <th>Date:</th>            <td>Wed, 29 Mar 2023</td> <th>  Deviance:          </th> <td>  5796.6</td>\n",
       "</tr>\n",
       "<tr>\n",
       "  <th>Time:</th>                <td>00:52:33</td>     <th>  Pearson chi2:      </th> <td>6.75e+03</td>\n",
       "</tr>\n",
       "<tr>\n",
       "  <th>No. Iterations:</th>          <td>7</td>        <th>  Pseudo R-squ. (CS):</th>  <td>0.3819</td> \n",
       "</tr>\n",
       "<tr>\n",
       "  <th>Covariance Type:</th>     <td>nonrobust</td>    <th>                     </th>     <td> </td>   \n",
       "</tr>\n",
       "</table>\n",
       "<table class=\"simpletable\">\n",
       "<tr>\n",
       "                            <td></td>                              <th>coef</th>     <th>std err</th>      <th>z</th>      <th>P>|z|</th>  <th>[0.025</th>    <th>0.975]</th>  \n",
       "</tr>\n",
       "<tr>\n",
       "  <th>const</th>                                                <td>    0.5931</td> <td>    0.071</td> <td>    8.371</td> <td> 0.000</td> <td>    0.454</td> <td>    0.732</td>\n",
       "</tr>\n",
       "<tr>\n",
       "  <th>Do Not Email</th>                                         <td>   -1.5654</td> <td>    0.166</td> <td>   -9.454</td> <td> 0.000</td> <td>   -1.890</td> <td>   -1.241</td>\n",
       "</tr>\n",
       "<tr>\n",
       "  <th>Total Time Spent on Website</th>                          <td>    0.9671</td> <td>    0.034</td> <td>   28.301</td> <td> 0.000</td> <td>    0.900</td> <td>    1.034</td>\n",
       "</tr>\n",
       "<tr>\n",
       "  <th>Lead Origin_Lead Add Form</th>                            <td>    3.5949</td> <td>    0.221</td> <td>   16.260</td> <td> 0.000</td> <td>    3.162</td> <td>    4.028</td>\n",
       "</tr>\n",
       "<tr>\n",
       "  <th>Lead Source_Direct Traffic</th>                           <td>   -0.6514</td> <td>    0.078</td> <td>   -8.383</td> <td> 0.000</td> <td>   -0.804</td> <td>   -0.499</td>\n",
       "</tr>\n",
       "<tr>\n",
       "  <th>Lead Source_Organic Search</th>                           <td>   -0.4108</td> <td>    0.103</td> <td>   -3.975</td> <td> 0.000</td> <td>   -0.613</td> <td>   -0.208</td>\n",
       "</tr>\n",
       "<tr>\n",
       "  <th>Lead Source_Welingak Website</th>                         <td>    2.4772</td> <td>    1.032</td> <td>    2.399</td> <td> 0.016</td> <td>    0.454</td> <td>    4.501</td>\n",
       "</tr>\n",
       "<tr>\n",
       "  <th>Last Activity_Olark Chat Conversation</th>                <td>   -0.8933</td> <td>    0.183</td> <td>   -4.883</td> <td> 0.000</td> <td>   -1.252</td> <td>   -0.535</td>\n",
       "</tr>\n",
       "<tr>\n",
       "  <th>What is your current occupation_Working Professional</th> <td>    2.8890</td> <td>    0.196</td> <td>   14.775</td> <td> 0.000</td> <td>    2.506</td> <td>    3.272</td>\n",
       "</tr>\n",
       "<tr>\n",
       "  <th>Last Notable Activity_Email Link Clicked</th>             <td>   -1.7265</td> <td>    0.247</td> <td>   -7.003</td> <td> 0.000</td> <td>   -2.210</td> <td>   -1.243</td>\n",
       "</tr>\n",
       "<tr>\n",
       "  <th>Last Notable Activity_Email Opened</th>                   <td>   -1.3758</td> <td>    0.084</td> <td>  -16.438</td> <td> 0.000</td> <td>   -1.540</td> <td>   -1.212</td>\n",
       "</tr>\n",
       "<tr>\n",
       "  <th>Last Notable Activity_Modified</th>                       <td>   -1.9019</td> <td>    0.091</td> <td>  -20.891</td> <td> 0.000</td> <td>   -2.080</td> <td>   -1.724</td>\n",
       "</tr>\n",
       "<tr>\n",
       "  <th>Last Notable Activity_Olark Chat Conversation</th>        <td>   -1.5028</td> <td>    0.356</td> <td>   -4.227</td> <td> 0.000</td> <td>   -2.200</td> <td>   -0.806</td>\n",
       "</tr>\n",
       "<tr>\n",
       "  <th>Last Notable Activity_Page Visited on Website</th>        <td>   -1.5906</td> <td>    0.206</td> <td>   -7.710</td> <td> 0.000</td> <td>   -1.995</td> <td>   -1.186</td>\n",
       "</tr>\n",
       "</table>"
      ],
      "text/plain": [
       "<class 'statsmodels.iolib.summary.Summary'>\n",
       "\"\"\"\n",
       "                 Generalized Linear Model Regression Results                  \n",
       "==============================================================================\n",
       "Dep. Variable:              Converted   No. Observations:                 6882\n",
       "Model:                            GLM   Df Residuals:                     6868\n",
       "Model Family:                Binomial   Df Model:                           13\n",
       "Link Function:                  Logit   Scale:                          1.0000\n",
       "Method:                          IRLS   Log-Likelihood:                -2898.3\n",
       "Date:                Wed, 29 Mar 2023   Deviance:                       5796.6\n",
       "Time:                        00:52:33   Pearson chi2:                 6.75e+03\n",
       "No. Iterations:                     7   Pseudo R-squ. (CS):             0.3819\n",
       "Covariance Type:            nonrobust                                         \n",
       "========================================================================================================================\n",
       "                                                           coef    std err          z      P>|z|      [0.025      0.975]\n",
       "------------------------------------------------------------------------------------------------------------------------\n",
       "const                                                    0.5931      0.071      8.371      0.000       0.454       0.732\n",
       "Do Not Email                                            -1.5654      0.166     -9.454      0.000      -1.890      -1.241\n",
       "Total Time Spent on Website                              0.9671      0.034     28.301      0.000       0.900       1.034\n",
       "Lead Origin_Lead Add Form                                3.5949      0.221     16.260      0.000       3.162       4.028\n",
       "Lead Source_Direct Traffic                              -0.6514      0.078     -8.383      0.000      -0.804      -0.499\n",
       "Lead Source_Organic Search                              -0.4108      0.103     -3.975      0.000      -0.613      -0.208\n",
       "Lead Source_Welingak Website                             2.4772      1.032      2.399      0.016       0.454       4.501\n",
       "Last Activity_Olark Chat Conversation                   -0.8933      0.183     -4.883      0.000      -1.252      -0.535\n",
       "What is your current occupation_Working Professional     2.8890      0.196     14.775      0.000       2.506       3.272\n",
       "Last Notable Activity_Email Link Clicked                -1.7265      0.247     -7.003      0.000      -2.210      -1.243\n",
       "Last Notable Activity_Email Opened                      -1.3758      0.084    -16.438      0.000      -1.540      -1.212\n",
       "Last Notable Activity_Modified                          -1.9019      0.091    -20.891      0.000      -2.080      -1.724\n",
       "Last Notable Activity_Olark Chat Conversation           -1.5028      0.356     -4.227      0.000      -2.200      -0.806\n",
       "Last Notable Activity_Page Visited on Website           -1.5906      0.206     -7.710      0.000      -1.995      -1.186\n",
       "========================================================================================================================\n",
       "\"\"\""
      ]
     },
     "execution_count": 1813,
     "metadata": {},
     "output_type": "execute_result"
    }
   ],
   "source": [
    "data_train_X_sm = sm.add_constant(data_train_X[cols])\n",
    "logm2 = sm.GLM(data_train_y, data_train_X_sm, family = sm.families.Binomial())\n",
    "res = logm2.fit()\n",
    "res.summary()"
   ]
  },
  {
   "cell_type": "code",
   "execution_count": 1814,
   "id": "bc13c793",
   "metadata": {},
   "outputs": [
    {
     "data": {
      "text/html": [
       "<div>\n",
       "<style scoped>\n",
       "    .dataframe tbody tr th:only-of-type {\n",
       "        vertical-align: middle;\n",
       "    }\n",
       "\n",
       "    .dataframe tbody tr th {\n",
       "        vertical-align: top;\n",
       "    }\n",
       "\n",
       "    .dataframe thead th {\n",
       "        text-align: right;\n",
       "    }\n",
       "</style>\n",
       "<table border=\"1\" class=\"dataframe\">\n",
       "  <thead>\n",
       "    <tr style=\"text-align: right;\">\n",
       "      <th></th>\n",
       "      <th>Features</th>\n",
       "      <th>var_fact</th>\n",
       "    </tr>\n",
       "  </thead>\n",
       "  <tbody>\n",
       "    <tr>\n",
       "      <th>0</th>\n",
       "      <td>const</td>\n",
       "      <td>5.54</td>\n",
       "    </tr>\n",
       "    <tr>\n",
       "      <th>11</th>\n",
       "      <td>Last Notable Activity_Modified</td>\n",
       "      <td>1.80</td>\n",
       "    </tr>\n",
       "    <tr>\n",
       "      <th>10</th>\n",
       "      <td>Last Notable Activity_Email Opened</td>\n",
       "      <td>1.59</td>\n",
       "    </tr>\n",
       "    <tr>\n",
       "      <th>7</th>\n",
       "      <td>Last Activity_Olark Chat Conversation</td>\n",
       "      <td>1.56</td>\n",
       "    </tr>\n",
       "    <tr>\n",
       "      <th>3</th>\n",
       "      <td>Lead Origin_Lead Add Form</td>\n",
       "      <td>1.48</td>\n",
       "    </tr>\n",
       "    <tr>\n",
       "      <th>12</th>\n",
       "      <td>Last Notable Activity_Olark Chat Conversation</td>\n",
       "      <td>1.34</td>\n",
       "    </tr>\n",
       "    <tr>\n",
       "      <th>6</th>\n",
       "      <td>Lead Source_Welingak Website</td>\n",
       "      <td>1.30</td>\n",
       "    </tr>\n",
       "    <tr>\n",
       "      <th>4</th>\n",
       "      <td>Lead Source_Direct Traffic</td>\n",
       "      <td>1.18</td>\n",
       "    </tr>\n",
       "    <tr>\n",
       "      <th>2</th>\n",
       "      <td>Total Time Spent on Website</td>\n",
       "      <td>1.15</td>\n",
       "    </tr>\n",
       "    <tr>\n",
       "      <th>5</th>\n",
       "      <td>Lead Source_Organic Search</td>\n",
       "      <td>1.12</td>\n",
       "    </tr>\n",
       "    <tr>\n",
       "      <th>8</th>\n",
       "      <td>What is your current occupation_Working Profes...</td>\n",
       "      <td>1.10</td>\n",
       "    </tr>\n",
       "    <tr>\n",
       "      <th>1</th>\n",
       "      <td>Do Not Email</td>\n",
       "      <td>1.08</td>\n",
       "    </tr>\n",
       "    <tr>\n",
       "      <th>13</th>\n",
       "      <td>Last Notable Activity_Page Visited on Website</td>\n",
       "      <td>1.08</td>\n",
       "    </tr>\n",
       "    <tr>\n",
       "      <th>9</th>\n",
       "      <td>Last Notable Activity_Email Link Clicked</td>\n",
       "      <td>1.07</td>\n",
       "    </tr>\n",
       "  </tbody>\n",
       "</table>\n",
       "</div>"
      ],
      "text/plain": [
       "                                             Features  var_fact\n",
       "0                                               const      5.54\n",
       "11                     Last Notable Activity_Modified      1.80\n",
       "10                 Last Notable Activity_Email Opened      1.59\n",
       "7               Last Activity_Olark Chat Conversation      1.56\n",
       "3                           Lead Origin_Lead Add Form      1.48\n",
       "12      Last Notable Activity_Olark Chat Conversation      1.34\n",
       "6                        Lead Source_Welingak Website      1.30\n",
       "4                          Lead Source_Direct Traffic      1.18\n",
       "2                         Total Time Spent on Website      1.15\n",
       "5                          Lead Source_Organic Search      1.12\n",
       "8   What is your current occupation_Working Profes...      1.10\n",
       "1                                        Do Not Email      1.08\n",
       "13      Last Notable Activity_Page Visited on Website      1.08\n",
       "9            Last Notable Activity_Email Link Clicked      1.07"
      ]
     },
     "execution_count": 1814,
     "metadata": {},
     "output_type": "execute_result"
    }
   ],
   "source": [
    "calculate_vif(data_train_X_sm)"
   ]
  },
  {
   "cell_type": "markdown",
   "id": "edd2fb7c",
   "metadata": {},
   "source": [
    "Since all the p-values < 0.05 and the VIF is below the threshold, we can consider this as the final model."
   ]
  },
  {
   "cell_type": "code",
   "execution_count": 1815,
   "id": "0d0baaad",
   "metadata": {},
   "outputs": [],
   "source": [
    "# Predicting the values\n",
    "data_train_y_pred = res.predict(data_train_X_sm)"
   ]
  },
  {
   "cell_type": "code",
   "execution_count": 1816,
   "id": "31e88084",
   "metadata": {},
   "outputs": [],
   "source": [
    "# Reshaping data_train_y_pred\n",
    "data_train_y_pred = data_train_y_pred.values.reshape(-1)"
   ]
  },
  {
   "cell_type": "markdown",
   "id": "5e4b3985",
   "metadata": {},
   "source": [
    "Creating a dataframe with the Converted values and the predicted probabilities."
   ]
  },
  {
   "cell_type": "code",
   "execution_count": 1817,
   "id": "4548dde0",
   "metadata": {},
   "outputs": [
    {
     "data": {
      "text/html": [
       "<div>\n",
       "<style scoped>\n",
       "    .dataframe tbody tr th:only-of-type {\n",
       "        vertical-align: middle;\n",
       "    }\n",
       "\n",
       "    .dataframe tbody tr th {\n",
       "        vertical-align: top;\n",
       "    }\n",
       "\n",
       "    .dataframe thead th {\n",
       "        text-align: right;\n",
       "    }\n",
       "</style>\n",
       "<table border=\"1\" class=\"dataframe\">\n",
       "  <thead>\n",
       "    <tr style=\"text-align: right;\">\n",
       "      <th></th>\n",
       "      <th>Converted</th>\n",
       "      <th>Converted_Prob</th>\n",
       "      <th>Prospect ID</th>\n",
       "    </tr>\n",
       "  </thead>\n",
       "  <tbody>\n",
       "    <tr>\n",
       "      <th>0</th>\n",
       "      <td>1</td>\n",
       "      <td>0.884809</td>\n",
       "      <td>5291</td>\n",
       "    </tr>\n",
       "    <tr>\n",
       "      <th>1</th>\n",
       "      <td>0</td>\n",
       "      <td>0.463758</td>\n",
       "      <td>7118</td>\n",
       "    </tr>\n",
       "    <tr>\n",
       "      <th>2</th>\n",
       "      <td>0</td>\n",
       "      <td>0.524023</td>\n",
       "      <td>8979</td>\n",
       "    </tr>\n",
       "    <tr>\n",
       "      <th>3</th>\n",
       "      <td>0</td>\n",
       "      <td>0.092855</td>\n",
       "      <td>4082</td>\n",
       "    </tr>\n",
       "    <tr>\n",
       "      <th>4</th>\n",
       "      <td>0</td>\n",
       "      <td>0.142205</td>\n",
       "      <td>233</td>\n",
       "    </tr>\n",
       "  </tbody>\n",
       "</table>\n",
       "</div>"
      ],
      "text/plain": [
       "   Converted  Converted_Prob  Prospect ID\n",
       "0          1        0.884809         5291\n",
       "1          0        0.463758         7118\n",
       "2          0        0.524023         8979\n",
       "3          0        0.092855         4082\n",
       "4          0        0.142205          233"
      ]
     },
     "execution_count": 1817,
     "metadata": {},
     "output_type": "execute_result"
    }
   ],
   "source": [
    "data_train_y_pred_final = pd.DataFrame({\"Converted\": data_train_y.values, 'Converted_Prob':data_train_y_pred})\n",
    "data_train_y_pred_final['Prospect ID'] = data_train_y.index\n",
    "data_train_y_pred_final.head()"
   ]
  },
  {
   "cell_type": "markdown",
   "id": "50f152ec",
   "metadata": {},
   "source": [
    "Creating a new column called predicted whose value = 1 if Converted_Prob > 0.7 else 0.\n",
    "Here the cut-off value of 0.7 is chosen arbitrarily."
   ]
  },
  {
   "cell_type": "code",
   "execution_count": 1818,
   "id": "932f3b6b",
   "metadata": {},
   "outputs": [
    {
     "data": {
      "text/html": [
       "<div>\n",
       "<style scoped>\n",
       "    .dataframe tbody tr th:only-of-type {\n",
       "        vertical-align: middle;\n",
       "    }\n",
       "\n",
       "    .dataframe tbody tr th {\n",
       "        vertical-align: top;\n",
       "    }\n",
       "\n",
       "    .dataframe thead th {\n",
       "        text-align: right;\n",
       "    }\n",
       "</style>\n",
       "<table border=\"1\" class=\"dataframe\">\n",
       "  <thead>\n",
       "    <tr style=\"text-align: right;\">\n",
       "      <th></th>\n",
       "      <th>Converted</th>\n",
       "      <th>Converted_Prob</th>\n",
       "      <th>Prospect ID</th>\n",
       "      <th>predicted</th>\n",
       "    </tr>\n",
       "  </thead>\n",
       "  <tbody>\n",
       "    <tr>\n",
       "      <th>0</th>\n",
       "      <td>1</td>\n",
       "      <td>0.884809</td>\n",
       "      <td>5291</td>\n",
       "      <td>1</td>\n",
       "    </tr>\n",
       "    <tr>\n",
       "      <th>1</th>\n",
       "      <td>0</td>\n",
       "      <td>0.463758</td>\n",
       "      <td>7118</td>\n",
       "      <td>0</td>\n",
       "    </tr>\n",
       "    <tr>\n",
       "      <th>2</th>\n",
       "      <td>0</td>\n",
       "      <td>0.524023</td>\n",
       "      <td>8979</td>\n",
       "      <td>0</td>\n",
       "    </tr>\n",
       "    <tr>\n",
       "      <th>3</th>\n",
       "      <td>0</td>\n",
       "      <td>0.092855</td>\n",
       "      <td>4082</td>\n",
       "      <td>0</td>\n",
       "    </tr>\n",
       "    <tr>\n",
       "      <th>4</th>\n",
       "      <td>0</td>\n",
       "      <td>0.142205</td>\n",
       "      <td>233</td>\n",
       "      <td>0</td>\n",
       "    </tr>\n",
       "  </tbody>\n",
       "</table>\n",
       "</div>"
      ],
      "text/plain": [
       "   Converted  Converted_Prob  Prospect ID  predicted\n",
       "0          1        0.884809         5291          1\n",
       "1          0        0.463758         7118          0\n",
       "2          0        0.524023         8979          0\n",
       "3          0        0.092855         4082          0\n",
       "4          0        0.142205          233          0"
      ]
     },
     "execution_count": 1818,
     "metadata": {},
     "output_type": "execute_result"
    }
   ],
   "source": [
    "data_train_y_pred_final['predicted'] = data_train_y_pred_final.Converted_Prob.map(lambda x: 1 if x>0.7 else 0)\n",
    "data_train_y_pred_final.head()"
   ]
  },
  {
   "cell_type": "markdown",
   "id": "070c06e9",
   "metadata": {},
   "source": [
    "#### Step 7: Evaluating the given Model\n",
    "Evaluation will be done using the following metrics:\n",
    "- accuracy\n",
    "- sensitivity\n",
    "- specificity\n",
    "- false positive rate\n",
    "- positive predictive value\n",
    "- negative predictive value"
   ]
  },
  {
   "cell_type": "code",
   "execution_count": 1819,
   "id": "1a4bfe7a",
   "metadata": {},
   "outputs": [
    {
     "name": "stdout",
     "output_type": "stream",
     "text": [
      "[[4112  188]\n",
      " [1290 1292]]\n"
     ]
    }
   ],
   "source": [
    "# Create the confusion matrix\n",
    "confusion_matrix = metrics.confusion_matrix(data_train_y_pred_final.Converted, data_train_y_pred_final.predicted)\n",
    "print(confusion_matrix)"
   ]
  },
  {
   "cell_type": "code",
   "execution_count": 1820,
   "id": "2a1ed399",
   "metadata": {},
   "outputs": [
    {
     "name": "stdout",
     "output_type": "stream",
     "text": [
      "0.7852368497529788\n"
     ]
    }
   ],
   "source": [
    "# Accuracy\n",
    "print(metrics.accuracy_score(data_train_y_pred_final.Converted, data_train_y_pred_final.predicted))"
   ]
  },
  {
   "cell_type": "code",
   "execution_count": 1821,
   "id": "c69951be",
   "metadata": {},
   "outputs": [],
   "source": [
    "# True positives, True negatives, False Positives, False Negatives\n",
    "TP = confusion_matrix[1,1] # true positive \n",
    "TN = confusion_matrix[0,0] # true negatives\n",
    "FP = confusion_matrix[0,1] # false positives\n",
    "FN = confusion_matrix[1,0] # false negatives"
   ]
  },
  {
   "cell_type": "code",
   "execution_count": 1822,
   "id": "6f13c9c3",
   "metadata": {},
   "outputs": [
    {
     "data": {
      "text/plain": [
       "0.5003872966692486"
      ]
     },
     "execution_count": 1822,
     "metadata": {},
     "output_type": "execute_result"
    }
   ],
   "source": [
    "# Sensitivity\n",
    "TP / float(TP+FN)"
   ]
  },
  {
   "cell_type": "code",
   "execution_count": 1823,
   "id": "dacd73a6",
   "metadata": {},
   "outputs": [
    {
     "data": {
      "text/plain": [
       "0.9562790697674418"
      ]
     },
     "execution_count": 1823,
     "metadata": {},
     "output_type": "execute_result"
    }
   ],
   "source": [
    "# Specificity\n",
    "TN / float(TN+FP)"
   ]
  },
  {
   "cell_type": "code",
   "execution_count": 1824,
   "id": "096b59d9",
   "metadata": {},
   "outputs": [
    {
     "data": {
      "text/plain": [
       "0.04372093023255814"
      ]
     },
     "execution_count": 1824,
     "metadata": {},
     "output_type": "execute_result"
    }
   ],
   "source": [
    "# False positive rate\n",
    "FP / float(TN+FP)"
   ]
  },
  {
   "cell_type": "code",
   "execution_count": 1825,
   "id": "0438f4e8",
   "metadata": {
    "scrolled": true
   },
   "outputs": [
    {
     "data": {
      "text/plain": [
       "0.8729729729729729"
      ]
     },
     "execution_count": 1825,
     "metadata": {},
     "output_type": "execute_result"
    }
   ],
   "source": [
    "# Positive Predictive Value\n",
    "TP / float(TP+FP)"
   ]
  },
  {
   "cell_type": "code",
   "execution_count": 1826,
   "id": "28ecf502",
   "metadata": {},
   "outputs": [
    {
     "data": {
      "text/plain": [
       "0.7611995557201037"
      ]
     },
     "execution_count": 1826,
     "metadata": {},
     "output_type": "execute_result"
    }
   ],
   "source": [
    "# Negative Predictive Value\n",
    "TN / float(TN+FN)"
   ]
  },
  {
   "cell_type": "markdown",
   "id": "6dd97a85",
   "metadata": {},
   "source": [
    "#### Step 8: Plotting the ROC curve"
   ]
  },
  {
   "cell_type": "code",
   "execution_count": 1827,
   "id": "752664db",
   "metadata": {},
   "outputs": [
    {
     "data": {
      "image/png": "[encoded data removed]",
      "text/plain": [
       "<Figure size 360x360 with 1 Axes>"
      ]
     },
     "metadata": {
      "needs_background": "light"
     },
     "output_type": "display_data"
    }
   ],
   "source": [
    "# Using the function that was used in the lectures\n",
    "def draw_roc( actual, probs ):\n",
    "    fpr, tpr, thresholds = metrics.roc_curve( actual, probs,\n",
    "                                              drop_intermediate = False )\n",
    "    auc_score = metrics.roc_auc_score( actual, probs )\n",
    "    plt.figure(figsize=(5, 5))\n",
    "    plt.plot( fpr, tpr, label='ROC curve (area = %0.2f)' % auc_score )\n",
    "    plt.plot([0, 1], [0, 1], 'k--')\n",
    "    plt.xlim([0.0, 1.0])\n",
    "    plt.ylim([0.0, 1.05])\n",
    "    plt.xlabel('False Positive Rate or [1 - True Negative Rate]')\n",
    "    plt.ylabel('True Positive Rate')\n",
    "    plt.title('Receiver operating characteristic example')\n",
    "    plt.legend(loc=\"lower right\")\n",
    "    plt.show()\n",
    "\n",
    "    return None\n",
    "\n",
    "# Plotting the curve\n",
    "draw_roc(data_train_y_pred_final.Converted, data_train_y_pred_final.Converted_Prob)"
   ]
  },
  {
   "cell_type": "markdown",
   "id": "87bf8a59",
   "metadata": {},
   "source": [
    "The area under the ROC curve should be as close to one as possible. Since the area here is 0.87, it indicates that this is a good model."
   ]
  },
  {
   "cell_type": "markdown",
   "id": "d2d181b3",
   "metadata": {},
   "source": [
    "We used an arbitrary cut-off of 0.7, which has resulted in a low TP value of 0.5. The next section will focus on finding the cut-off value that balances the accuracy, sensitivity and specificity values."
   ]
  },
  {
   "cell_type": "markdown",
   "id": "5e695064",
   "metadata": {},
   "source": [
    "#### Step 9: Finding the optimal threshold value"
   ]
  },
  {
   "cell_type": "code",
   "execution_count": 1828,
   "id": "7e1921d4",
   "metadata": {},
   "outputs": [
    {
     "data": {
      "text/html": [
       "<div>\n",
       "<style scoped>\n",
       "    .dataframe tbody tr th:only-of-type {\n",
       "        vertical-align: middle;\n",
       "    }\n",
       "\n",
       "    .dataframe tbody tr th {\n",
       "        vertical-align: top;\n",
       "    }\n",
       "\n",
       "    .dataframe thead th {\n",
       "        text-align: right;\n",
       "    }\n",
       "</style>\n",
       "<table border=\"1\" class=\"dataframe\">\n",
       "  <thead>\n",
       "    <tr style=\"text-align: right;\">\n",
       "      <th></th>\n",
       "      <th>Converted</th>\n",
       "      <th>Converted_Prob</th>\n",
       "      <th>Prospect ID</th>\n",
       "      <th>predicted</th>\n",
       "      <th>0.0</th>\n",
       "      <th>0.1</th>\n",
       "      <th>0.2</th>\n",
       "      <th>0.3</th>\n",
       "      <th>0.4</th>\n",
       "      <th>0.5</th>\n",
       "      <th>0.6</th>\n",
       "      <th>0.7</th>\n",
       "      <th>0.8</th>\n",
       "      <th>0.9</th>\n",
       "    </tr>\n",
       "  </thead>\n",
       "  <tbody>\n",
       "    <tr>\n",
       "      <th>0</th>\n",
       "      <td>1</td>\n",
       "      <td>0.884809</td>\n",
       "      <td>5291</td>\n",
       "      <td>1</td>\n",
       "      <td>1</td>\n",
       "      <td>1</td>\n",
       "      <td>1</td>\n",
       "      <td>1</td>\n",
       "      <td>1</td>\n",
       "      <td>1</td>\n",
       "      <td>1</td>\n",
       "      <td>1</td>\n",
       "      <td>1</td>\n",
       "      <td>0</td>\n",
       "    </tr>\n",
       "    <tr>\n",
       "      <th>1</th>\n",
       "      <td>0</td>\n",
       "      <td>0.463758</td>\n",
       "      <td>7118</td>\n",
       "      <td>0</td>\n",
       "      <td>1</td>\n",
       "      <td>1</td>\n",
       "      <td>1</td>\n",
       "      <td>1</td>\n",
       "      <td>1</td>\n",
       "      <td>0</td>\n",
       "      <td>0</td>\n",
       "      <td>0</td>\n",
       "      <td>0</td>\n",
       "      <td>0</td>\n",
       "    </tr>\n",
       "    <tr>\n",
       "      <th>2</th>\n",
       "      <td>0</td>\n",
       "      <td>0.524023</td>\n",
       "      <td>8979</td>\n",
       "      <td>0</td>\n",
       "      <td>1</td>\n",
       "      <td>1</td>\n",
       "      <td>1</td>\n",
       "      <td>1</td>\n",
       "      <td>1</td>\n",
       "      <td>1</td>\n",
       "      <td>0</td>\n",
       "      <td>0</td>\n",
       "      <td>0</td>\n",
       "      <td>0</td>\n",
       "    </tr>\n",
       "    <tr>\n",
       "      <th>3</th>\n",
       "      <td>0</td>\n",
       "      <td>0.092855</td>\n",
       "      <td>4082</td>\n",
       "      <td>0</td>\n",
       "      <td>1</td>\n",
       "      <td>0</td>\n",
       "      <td>0</td>\n",
       "      <td>0</td>\n",
       "      <td>0</td>\n",
       "      <td>0</td>\n",
       "      <td>0</td>\n",
       "      <td>0</td>\n",
       "      <td>0</td>\n",
       "      <td>0</td>\n",
       "    </tr>\n",
       "    <tr>\n",
       "      <th>4</th>\n",
       "      <td>0</td>\n",
       "      <td>0.142205</td>\n",
       "      <td>233</td>\n",
       "      <td>0</td>\n",
       "      <td>1</td>\n",
       "      <td>1</td>\n",
       "      <td>0</td>\n",
       "      <td>0</td>\n",
       "      <td>0</td>\n",
       "      <td>0</td>\n",
       "      <td>0</td>\n",
       "      <td>0</td>\n",
       "      <td>0</td>\n",
       "      <td>0</td>\n",
       "    </tr>\n",
       "  </tbody>\n",
       "</table>\n",
       "</div>"
      ],
      "text/plain": [
       "   Converted  Converted_Prob  Prospect ID  predicted  0.0  0.1  0.2  0.3  0.4  \\\n",
       "0          1        0.884809         5291          1    1    1    1    1    1   \n",
       "1          0        0.463758         7118          0    1    1    1    1    1   \n",
       "2          0        0.524023         8979          0    1    1    1    1    1   \n",
       "3          0        0.092855         4082          0    1    0    0    0    0   \n",
       "4          0        0.142205          233          0    1    1    0    0    0   \n",
       "\n",
       "   0.5  0.6  0.7  0.8  0.9  \n",
       "0    1    1    1    1    0  \n",
       "1    0    0    0    0    0  \n",
       "2    1    0    0    0    0  \n",
       "3    0    0    0    0    0  \n",
       "4    0    0    0    0    0  "
      ]
     },
     "execution_count": 1828,
     "metadata": {},
     "output_type": "execute_result"
    }
   ],
   "source": [
    "# Creating columns with different probability cutoffs\n",
    "numbers = [float(x)/10 for x in range(10)]\n",
    "for n in numbers:\n",
    "    data_train_y_pred_final[n] = data_train_y_pred_final.Converted_Prob.map(lambda x: 1 if x > n else 0)\n",
    "data_train_y_pred_final.head()"
   ]
  },
  {
   "cell_type": "code",
   "execution_count": 1829,
   "id": "a37ffb14",
   "metadata": {},
   "outputs": [
    {
     "name": "stdout",
     "output_type": "stream",
     "text": [
      "     prob  accuracy     sensi     speci\n",
      "0.0   0.0  0.375182  1.000000  0.000000\n",
      "0.1   0.1  0.553618  0.975213  0.300465\n",
      "0.2   0.2  0.751816  0.878776  0.675581\n",
      "0.3   0.3  0.801656  0.842370  0.777209\n",
      "0.4   0.4  0.809212  0.780790  0.826279\n",
      "0.5   0.5  0.799768  0.647947  0.890930\n",
      "0.6   0.6  0.794682  0.566615  0.931628\n",
      "0.7   0.7  0.785237  0.500387  0.956279\n",
      "0.8   0.8  0.763877  0.415182  0.973256\n",
      "0.9   0.9  0.717669  0.261425  0.991628\n"
     ]
    }
   ],
   "source": [
    "# Now let's calculate accuracy sensitivity and specificity for various probability cutoffs.\n",
    "cutoff_df = pd.DataFrame(columns = ['prob','accuracy','sensi','speci'])\n",
    "\n",
    "# Using the code given in the lectures\n",
    "num = [0.0,0.1,0.2,0.3,0.4,0.5,0.6,0.7,0.8,0.9]\n",
    "\n",
    "for i in num:\n",
    "    cm1 = metrics.confusion_matrix(data_train_y_pred_final.Converted, data_train_y_pred_final[i])\n",
    "    total1=sum(sum(cm1))\n",
    "    accuracy = (cm1[0,0]+cm1[1,1])/total1\n",
    "    \n",
    "    speci = cm1[0,0]/(cm1[0,0]+cm1[0,1])\n",
    "    sensi = cm1[1,1]/(cm1[1,0]+cm1[1,1])\n",
    "    cutoff_df.loc[i] =[ i ,accuracy,sensi,speci]\n",
    "    \n",
    "print(cutoff_df)"
   ]
  },
  {
   "cell_type": "code",
   "execution_count": 1830,
   "id": "8dc7c408",
   "metadata": {},
   "outputs": [
    {
     "data": {
      "image/png": "[encoded data removed]",
      "text/plain": [
       "<Figure size 432x288 with 1 Axes>"
      ]
     },
     "metadata": {
      "needs_background": "light"
     },
     "output_type": "display_data"
    }
   ],
   "source": [
    "# Plotting the accuracy, sensitivity, and specificity values for different probabilities\n",
    "cutoff_df.plot.line(x = 'prob', y = ['accuracy', 'sensi', 'speci'])\n",
    "plt.show()"
   ]
  },
  {
   "cell_type": "markdown",
   "id": "5fd4aee3",
   "metadata": {},
   "source": [
    "From the above visualisation we can see that the optimal curve is between 0.35 and 0.40\n",
    "We will consider it to be 0.38"
   ]
  },
  {
   "cell_type": "code",
   "execution_count": 1831,
   "id": "3813c4cd",
   "metadata": {},
   "outputs": [
    {
     "data": {
      "text/html": [
       "<div>\n",
       "<style scoped>\n",
       "    .dataframe tbody tr th:only-of-type {\n",
       "        vertical-align: middle;\n",
       "    }\n",
       "\n",
       "    .dataframe tbody tr th {\n",
       "        vertical-align: top;\n",
       "    }\n",
       "\n",
       "    .dataframe thead th {\n",
       "        text-align: right;\n",
       "    }\n",
       "</style>\n",
       "<table border=\"1\" class=\"dataframe\">\n",
       "  <thead>\n",
       "    <tr style=\"text-align: right;\">\n",
       "      <th></th>\n",
       "      <th>Converted</th>\n",
       "      <th>Converted_Prob</th>\n",
       "      <th>Prospect ID</th>\n",
       "      <th>predicted</th>\n",
       "      <th>0.0</th>\n",
       "      <th>0.1</th>\n",
       "      <th>0.2</th>\n",
       "      <th>0.3</th>\n",
       "      <th>0.4</th>\n",
       "      <th>0.5</th>\n",
       "      <th>0.6</th>\n",
       "      <th>0.7</th>\n",
       "      <th>0.8</th>\n",
       "      <th>0.9</th>\n",
       "      <th>final_predicted</th>\n",
       "    </tr>\n",
       "  </thead>\n",
       "  <tbody>\n",
       "    <tr>\n",
       "      <th>0</th>\n",
       "      <td>1</td>\n",
       "      <td>0.884809</td>\n",
       "      <td>5291</td>\n",
       "      <td>1</td>\n",
       "      <td>1</td>\n",
       "      <td>1</td>\n",
       "      <td>1</td>\n",
       "      <td>1</td>\n",
       "      <td>1</td>\n",
       "      <td>1</td>\n",
       "      <td>1</td>\n",
       "      <td>1</td>\n",
       "      <td>1</td>\n",
       "      <td>0</td>\n",
       "      <td>1</td>\n",
       "    </tr>\n",
       "    <tr>\n",
       "      <th>1</th>\n",
       "      <td>0</td>\n",
       "      <td>0.463758</td>\n",
       "      <td>7118</td>\n",
       "      <td>0</td>\n",
       "      <td>1</td>\n",
       "      <td>1</td>\n",
       "      <td>1</td>\n",
       "      <td>1</td>\n",
       "      <td>1</td>\n",
       "      <td>0</td>\n",
       "      <td>0</td>\n",
       "      <td>0</td>\n",
       "      <td>0</td>\n",
       "      <td>0</td>\n",
       "      <td>1</td>\n",
       "    </tr>\n",
       "    <tr>\n",
       "      <th>2</th>\n",
       "      <td>0</td>\n",
       "      <td>0.524023</td>\n",
       "      <td>8979</td>\n",
       "      <td>0</td>\n",
       "      <td>1</td>\n",
       "      <td>1</td>\n",
       "      <td>1</td>\n",
       "      <td>1</td>\n",
       "      <td>1</td>\n",
       "      <td>1</td>\n",
       "      <td>0</td>\n",
       "      <td>0</td>\n",
       "      <td>0</td>\n",
       "      <td>0</td>\n",
       "      <td>1</td>\n",
       "    </tr>\n",
       "    <tr>\n",
       "      <th>3</th>\n",
       "      <td>0</td>\n",
       "      <td>0.092855</td>\n",
       "      <td>4082</td>\n",
       "      <td>0</td>\n",
       "      <td>1</td>\n",
       "      <td>0</td>\n",
       "      <td>0</td>\n",
       "      <td>0</td>\n",
       "      <td>0</td>\n",
       "      <td>0</td>\n",
       "      <td>0</td>\n",
       "      <td>0</td>\n",
       "      <td>0</td>\n",
       "      <td>0</td>\n",
       "      <td>0</td>\n",
       "    </tr>\n",
       "    <tr>\n",
       "      <th>4</th>\n",
       "      <td>0</td>\n",
       "      <td>0.142205</td>\n",
       "      <td>233</td>\n",
       "      <td>0</td>\n",
       "      <td>1</td>\n",
       "      <td>1</td>\n",
       "      <td>0</td>\n",
       "      <td>0</td>\n",
       "      <td>0</td>\n",
       "      <td>0</td>\n",
       "      <td>0</td>\n",
       "      <td>0</td>\n",
       "      <td>0</td>\n",
       "      <td>0</td>\n",
       "      <td>0</td>\n",
       "    </tr>\n",
       "  </tbody>\n",
       "</table>\n",
       "</div>"
      ],
      "text/plain": [
       "   Converted  Converted_Prob  Prospect ID  predicted  0.0  0.1  0.2  0.3  0.4  \\\n",
       "0          1        0.884809         5291          1    1    1    1    1    1   \n",
       "1          0        0.463758         7118          0    1    1    1    1    1   \n",
       "2          0        0.524023         8979          0    1    1    1    1    1   \n",
       "3          0        0.092855         4082          0    1    0    0    0    0   \n",
       "4          0        0.142205          233          0    1    1    0    0    0   \n",
       "\n",
       "   0.5  0.6  0.7  0.8  0.9  final_predicted  \n",
       "0    1    1    1    1    0                1  \n",
       "1    0    0    0    0    0                1  \n",
       "2    1    0    0    0    0                1  \n",
       "3    0    0    0    0    0                0  \n",
       "4    0    0    0    0    0                0  "
      ]
     },
     "execution_count": 1831,
     "metadata": {},
     "output_type": "execute_result"
    }
   ],
   "source": [
    "data_train_y_pred_final['final_predicted'] = data_train_y_pred_final.Converted_Prob.map(lambda x: 1 if x > 0.38 else 0)\n",
    "data_train_y_pred_final.head()"
   ]
  },
  {
   "cell_type": "markdown",
   "id": "8f9fe780",
   "metadata": {},
   "source": [
    "Evaluating the model with a cut-off of 0.38"
   ]
  },
  {
   "cell_type": "code",
   "execution_count": 1832,
   "id": "dfe9355e",
   "metadata": {},
   "outputs": [
    {
     "name": "stdout",
     "output_type": "stream",
     "text": [
      "[[3510  790]\n",
      " [ 532 2050]]\n"
     ]
    }
   ],
   "source": [
    "# Create the confusion matrix\n",
    "confusion_matrix = metrics.confusion_matrix(data_train_y_pred_final.Converted, data_train_y_pred_final.final_predicted)\n",
    "print(confusion_matrix)"
   ]
  },
  {
   "cell_type": "code",
   "execution_count": 1833,
   "id": "f093f851",
   "metadata": {},
   "outputs": [
    {
     "name": "stdout",
     "output_type": "stream",
     "text": [
      "0.8079046788724208\n"
     ]
    }
   ],
   "source": [
    "# Accuracy\n",
    "print(metrics.accuracy_score(data_train_y_pred_final.Converted, data_train_y_pred_final.final_predicted))"
   ]
  },
  {
   "cell_type": "code",
   "execution_count": 1834,
   "id": "02b904cd",
   "metadata": {},
   "outputs": [],
   "source": [
    "# True positives, True negatives, False Positives, False Negatives\n",
    "TP = confusion_matrix[1,1] # true positive \n",
    "TN = confusion_matrix[0,0] # true negatives\n",
    "FP = confusion_matrix[0,1] # false positives\n",
    "FN = confusion_matrix[1,0] # false negatives"
   ]
  },
  {
   "cell_type": "code",
   "execution_count": 1835,
   "id": "1116e410",
   "metadata": {},
   "outputs": [
    {
     "data": {
      "text/plain": [
       "0.7939581719597212"
      ]
     },
     "execution_count": 1835,
     "metadata": {},
     "output_type": "execute_result"
    }
   ],
   "source": [
    "# Sensitivity\n",
    "TP / float(TP+FN)"
   ]
  },
  {
   "cell_type": "code",
   "execution_count": 1836,
   "id": "5684afa1",
   "metadata": {},
   "outputs": [
    {
     "data": {
      "text/plain": [
       "0.8162790697674419"
      ]
     },
     "execution_count": 1836,
     "metadata": {},
     "output_type": "execute_result"
    }
   ],
   "source": [
    "# Specificity\n",
    "TN / float(TN+FP)"
   ]
  },
  {
   "cell_type": "code",
   "execution_count": 1837,
   "id": "7f034240",
   "metadata": {},
   "outputs": [
    {
     "data": {
      "text/plain": [
       "0.18372093023255814"
      ]
     },
     "execution_count": 1837,
     "metadata": {},
     "output_type": "execute_result"
    }
   ],
   "source": [
    "# False positive rate\n",
    "FP / float(TN+FP)"
   ]
  },
  {
   "cell_type": "code",
   "execution_count": 1838,
   "id": "42cd1a76",
   "metadata": {
    "scrolled": true
   },
   "outputs": [
    {
     "data": {
      "text/plain": [
       "0.721830985915493"
      ]
     },
     "execution_count": 1838,
     "metadata": {},
     "output_type": "execute_result"
    }
   ],
   "source": [
    "# Positive Predictive Value\n",
    "TP / float(TP+FP)"
   ]
  },
  {
   "cell_type": "code",
   "execution_count": 1839,
   "id": "d2aa579e",
   "metadata": {},
   "outputs": [
    {
     "data": {
      "text/plain": [
       "0.8683819891142999"
      ]
     },
     "execution_count": 1839,
     "metadata": {},
     "output_type": "execute_result"
    }
   ],
   "source": [
    "# Negative Predictive Value\n",
    "TN / float(TN+FN)"
   ]
  },
  {
   "cell_type": "code",
   "execution_count": 1840,
   "id": "c6d49e49",
   "metadata": {},
   "outputs": [
    {
     "data": {
      "text/plain": [
       "0.7939581719597212"
      ]
     },
     "execution_count": 1840,
     "metadata": {},
     "output_type": "execute_result"
    }
   ],
   "source": [
    "# Recall\n",
    "TP / float(TP+FN)"
   ]
  },
  {
   "cell_type": "code",
   "execution_count": 1841,
   "id": "bdbb3637",
   "metadata": {},
   "outputs": [
    {
     "data": {
      "text/plain": [
       "0.721830985915493"
      ]
     },
     "execution_count": 1841,
     "metadata": {},
     "output_type": "execute_result"
    }
   ],
   "source": [
    "# Precision\n",
    "TP / float(TP+FP)"
   ]
  },
  {
   "cell_type": "markdown",
   "id": "daf9cf5f",
   "metadata": {},
   "source": [
    "Assigning the lead score using the given formula: converted_prob * 100\n"
   ]
  },
  {
   "cell_type": "code",
   "execution_count": 1842,
   "id": "fd3c5f40",
   "metadata": {},
   "outputs": [
    {
     "data": {
      "text/html": [
       "<div>\n",
       "<style scoped>\n",
       "    .dataframe tbody tr th:only-of-type {\n",
       "        vertical-align: middle;\n",
       "    }\n",
       "\n",
       "    .dataframe tbody tr th {\n",
       "        vertical-align: top;\n",
       "    }\n",
       "\n",
       "    .dataframe thead th {\n",
       "        text-align: right;\n",
       "    }\n",
       "</style>\n",
       "<table border=\"1\" class=\"dataframe\">\n",
       "  <thead>\n",
       "    <tr style=\"text-align: right;\">\n",
       "      <th></th>\n",
       "      <th>Converted</th>\n",
       "      <th>Converted_Prob</th>\n",
       "      <th>Prospect ID</th>\n",
       "      <th>predicted</th>\n",
       "      <th>0.0</th>\n",
       "      <th>0.1</th>\n",
       "      <th>0.2</th>\n",
       "      <th>0.3</th>\n",
       "      <th>0.4</th>\n",
       "      <th>0.5</th>\n",
       "      <th>0.6</th>\n",
       "      <th>0.7</th>\n",
       "      <th>0.8</th>\n",
       "      <th>0.9</th>\n",
       "      <th>final_predicted</th>\n",
       "      <th>lead_score</th>\n",
       "    </tr>\n",
       "  </thead>\n",
       "  <tbody>\n",
       "    <tr>\n",
       "      <th>0</th>\n",
       "      <td>1</td>\n",
       "      <td>0.884809</td>\n",
       "      <td>5291</td>\n",
       "      <td>1</td>\n",
       "      <td>1</td>\n",
       "      <td>1</td>\n",
       "      <td>1</td>\n",
       "      <td>1</td>\n",
       "      <td>1</td>\n",
       "      <td>1</td>\n",
       "      <td>1</td>\n",
       "      <td>1</td>\n",
       "      <td>1</td>\n",
       "      <td>0</td>\n",
       "      <td>1</td>\n",
       "      <td>88</td>\n",
       "    </tr>\n",
       "    <tr>\n",
       "      <th>1</th>\n",
       "      <td>0</td>\n",
       "      <td>0.463758</td>\n",
       "      <td>7118</td>\n",
       "      <td>0</td>\n",
       "      <td>1</td>\n",
       "      <td>1</td>\n",
       "      <td>1</td>\n",
       "      <td>1</td>\n",
       "      <td>1</td>\n",
       "      <td>0</td>\n",
       "      <td>0</td>\n",
       "      <td>0</td>\n",
       "      <td>0</td>\n",
       "      <td>0</td>\n",
       "      <td>1</td>\n",
       "      <td>46</td>\n",
       "    </tr>\n",
       "    <tr>\n",
       "      <th>2</th>\n",
       "      <td>0</td>\n",
       "      <td>0.524023</td>\n",
       "      <td>8979</td>\n",
       "      <td>0</td>\n",
       "      <td>1</td>\n",
       "      <td>1</td>\n",
       "      <td>1</td>\n",
       "      <td>1</td>\n",
       "      <td>1</td>\n",
       "      <td>1</td>\n",
       "      <td>0</td>\n",
       "      <td>0</td>\n",
       "      <td>0</td>\n",
       "      <td>0</td>\n",
       "      <td>1</td>\n",
       "      <td>52</td>\n",
       "    </tr>\n",
       "    <tr>\n",
       "      <th>3</th>\n",
       "      <td>0</td>\n",
       "      <td>0.092855</td>\n",
       "      <td>4082</td>\n",
       "      <td>0</td>\n",
       "      <td>1</td>\n",
       "      <td>0</td>\n",
       "      <td>0</td>\n",
       "      <td>0</td>\n",
       "      <td>0</td>\n",
       "      <td>0</td>\n",
       "      <td>0</td>\n",
       "      <td>0</td>\n",
       "      <td>0</td>\n",
       "      <td>0</td>\n",
       "      <td>0</td>\n",
       "      <td>9</td>\n",
       "    </tr>\n",
       "    <tr>\n",
       "      <th>4</th>\n",
       "      <td>0</td>\n",
       "      <td>0.142205</td>\n",
       "      <td>233</td>\n",
       "      <td>0</td>\n",
       "      <td>1</td>\n",
       "      <td>1</td>\n",
       "      <td>0</td>\n",
       "      <td>0</td>\n",
       "      <td>0</td>\n",
       "      <td>0</td>\n",
       "      <td>0</td>\n",
       "      <td>0</td>\n",
       "      <td>0</td>\n",
       "      <td>0</td>\n",
       "      <td>0</td>\n",
       "      <td>14</td>\n",
       "    </tr>\n",
       "    <tr>\n",
       "      <th>...</th>\n",
       "      <td>...</td>\n",
       "      <td>...</td>\n",
       "      <td>...</td>\n",
       "      <td>...</td>\n",
       "      <td>...</td>\n",
       "      <td>...</td>\n",
       "      <td>...</td>\n",
       "      <td>...</td>\n",
       "      <td>...</td>\n",
       "      <td>...</td>\n",
       "      <td>...</td>\n",
       "      <td>...</td>\n",
       "      <td>...</td>\n",
       "      <td>...</td>\n",
       "      <td>...</td>\n",
       "      <td>...</td>\n",
       "    </tr>\n",
       "    <tr>\n",
       "      <th>6877</th>\n",
       "      <td>0</td>\n",
       "      <td>0.284181</td>\n",
       "      <td>397</td>\n",
       "      <td>0</td>\n",
       "      <td>1</td>\n",
       "      <td>1</td>\n",
       "      <td>1</td>\n",
       "      <td>0</td>\n",
       "      <td>0</td>\n",
       "      <td>0</td>\n",
       "      <td>0</td>\n",
       "      <td>0</td>\n",
       "      <td>0</td>\n",
       "      <td>0</td>\n",
       "      <td>0</td>\n",
       "      <td>28</td>\n",
       "    </tr>\n",
       "    <tr>\n",
       "      <th>6878</th>\n",
       "      <td>0</td>\n",
       "      <td>0.183460</td>\n",
       "      <td>86</td>\n",
       "      <td>0</td>\n",
       "      <td>1</td>\n",
       "      <td>1</td>\n",
       "      <td>0</td>\n",
       "      <td>0</td>\n",
       "      <td>0</td>\n",
       "      <td>0</td>\n",
       "      <td>0</td>\n",
       "      <td>0</td>\n",
       "      <td>0</td>\n",
       "      <td>0</td>\n",
       "      <td>0</td>\n",
       "      <td>18</td>\n",
       "    </tr>\n",
       "    <tr>\n",
       "      <th>6879</th>\n",
       "      <td>0</td>\n",
       "      <td>0.045391</td>\n",
       "      <td>8654</td>\n",
       "      <td>0</td>\n",
       "      <td>1</td>\n",
       "      <td>0</td>\n",
       "      <td>0</td>\n",
       "      <td>0</td>\n",
       "      <td>0</td>\n",
       "      <td>0</td>\n",
       "      <td>0</td>\n",
       "      <td>0</td>\n",
       "      <td>0</td>\n",
       "      <td>0</td>\n",
       "      <td>0</td>\n",
       "      <td>5</td>\n",
       "    </tr>\n",
       "    <tr>\n",
       "      <th>6880</th>\n",
       "      <td>0</td>\n",
       "      <td>0.104081</td>\n",
       "      <td>7464</td>\n",
       "      <td>0</td>\n",
       "      <td>1</td>\n",
       "      <td>1</td>\n",
       "      <td>0</td>\n",
       "      <td>0</td>\n",
       "      <td>0</td>\n",
       "      <td>0</td>\n",
       "      <td>0</td>\n",
       "      <td>0</td>\n",
       "      <td>0</td>\n",
       "      <td>0</td>\n",
       "      <td>0</td>\n",
       "      <td>10</td>\n",
       "    </tr>\n",
       "    <tr>\n",
       "      <th>6881</th>\n",
       "      <td>1</td>\n",
       "      <td>0.164310</td>\n",
       "      <td>6074</td>\n",
       "      <td>0</td>\n",
       "      <td>1</td>\n",
       "      <td>1</td>\n",
       "      <td>0</td>\n",
       "      <td>0</td>\n",
       "      <td>0</td>\n",
       "      <td>0</td>\n",
       "      <td>0</td>\n",
       "      <td>0</td>\n",
       "      <td>0</td>\n",
       "      <td>0</td>\n",
       "      <td>0</td>\n",
       "      <td>16</td>\n",
       "    </tr>\n",
       "  </tbody>\n",
       "</table>\n",
       "<p>6882 rows × 16 columns</p>\n",
       "</div>"
      ],
      "text/plain": [
       "      Converted  Converted_Prob  Prospect ID  predicted  0.0  0.1  0.2  0.3  \\\n",
       "0             1        0.884809         5291          1    1    1    1    1   \n",
       "1             0        0.463758         7118          0    1    1    1    1   \n",
       "2             0        0.524023         8979          0    1    1    1    1   \n",
       "3             0        0.092855         4082          0    1    0    0    0   \n",
       "4             0        0.142205          233          0    1    1    0    0   \n",
       "...         ...             ...          ...        ...  ...  ...  ...  ...   \n",
       "6877          0        0.284181          397          0    1    1    1    0   \n",
       "6878          0        0.183460           86          0    1    1    0    0   \n",
       "6879          0        0.045391         8654          0    1    0    0    0   \n",
       "6880          0        0.104081         7464          0    1    1    0    0   \n",
       "6881          1        0.164310         6074          0    1    1    0    0   \n",
       "\n",
       "      0.4  0.5  0.6  0.7  0.8  0.9  final_predicted  lead_score  \n",
       "0       1    1    1    1    1    0                1          88  \n",
       "1       1    0    0    0    0    0                1          46  \n",
       "2       1    1    0    0    0    0                1          52  \n",
       "3       0    0    0    0    0    0                0           9  \n",
       "4       0    0    0    0    0    0                0          14  \n",
       "...   ...  ...  ...  ...  ...  ...              ...         ...  \n",
       "6877    0    0    0    0    0    0                0          28  \n",
       "6878    0    0    0    0    0    0                0          18  \n",
       "6879    0    0    0    0    0    0                0           5  \n",
       "6880    0    0    0    0    0    0                0          10  \n",
       "6881    0    0    0    0    0    0                0          16  \n",
       "\n",
       "[6882 rows x 16 columns]"
      ]
     },
     "execution_count": 1842,
     "metadata": {},
     "output_type": "execute_result"
    }
   ],
   "source": [
    "data_train_y_pred_final['lead_score'] = data_train_y_pred_final['Converted_Prob'].map(lambda converted_prob: int(round(converted_prob * 100)))\n",
    "data_train_y_pred_final"
   ]
  },
  {
   "cell_type": "markdown",
   "id": "7170c678",
   "metadata": {},
   "source": [
    "Using the evaluation metrics above, we can say that the above model performs adequately with respect to the objectives of the problem."
   ]
  },
  {
   "cell_type": "markdown",
   "id": "36882fff",
   "metadata": {},
   "source": [
    "#### Step 10: Test set predictions"
   ]
  },
  {
   "cell_type": "code",
   "execution_count": 1843,
   "id": "0b60e65c",
   "metadata": {},
   "outputs": [],
   "source": [
    "# Transforming the numeric columns of the test set\n",
    "data_test_X[numeric_cols] = standard_scaler.transform(data_test_X[numeric_cols])"
   ]
  },
  {
   "cell_type": "code",
   "execution_count": 1844,
   "id": "38b9727b",
   "metadata": {},
   "outputs": [],
   "source": [
    "# Have the same columns as the model\n",
    "data_test_X = data_test_X[cols]"
   ]
  },
  {
   "cell_type": "code",
   "execution_count": 1845,
   "id": "2146837c",
   "metadata": {},
   "outputs": [],
   "source": [
    "# Add constant for statsmodel\n",
    "data_test_X_sm = sm.add_constant(data_test_X)"
   ]
  },
  {
   "cell_type": "code",
   "execution_count": 1846,
   "id": "a26ef3d3",
   "metadata": {},
   "outputs": [],
   "source": [
    "# Test set predictions\n",
    "data_test_y_pred = res.predict(data_test_X_sm)"
   ]
  },
  {
   "cell_type": "code",
   "execution_count": 1847,
   "id": "c660da0d",
   "metadata": {},
   "outputs": [
    {
     "data": {
      "text/plain": [
       "390     0.187491\n",
       "7996    0.488777\n",
       "5405    0.620662\n",
       "6591    0.436979\n",
       "4224    0.831683\n",
       "          ...   \n",
       "2181    0.238592\n",
       "8575    0.048989\n",
       "7666    0.902810\n",
       "7892    0.462295\n",
       "1773    0.723269\n",
       "Length: 1721, dtype: float64"
      ]
     },
     "execution_count": 1847,
     "metadata": {},
     "output_type": "execute_result"
    }
   ],
   "source": [
    "data_test_y_pred"
   ]
  },
  {
   "cell_type": "code",
   "execution_count": 1848,
   "id": "e80b135c",
   "metadata": {},
   "outputs": [
    {
     "data": {
      "text/html": [
       "<div>\n",
       "<style scoped>\n",
       "    .dataframe tbody tr th:only-of-type {\n",
       "        vertical-align: middle;\n",
       "    }\n",
       "\n",
       "    .dataframe tbody tr th {\n",
       "        vertical-align: top;\n",
       "    }\n",
       "\n",
       "    .dataframe thead th {\n",
       "        text-align: right;\n",
       "    }\n",
       "</style>\n",
       "<table border=\"1\" class=\"dataframe\">\n",
       "  <thead>\n",
       "    <tr style=\"text-align: right;\">\n",
       "      <th></th>\n",
       "      <th>0</th>\n",
       "    </tr>\n",
       "  </thead>\n",
       "  <tbody>\n",
       "    <tr>\n",
       "      <th>390</th>\n",
       "      <td>0.187491</td>\n",
       "    </tr>\n",
       "    <tr>\n",
       "      <th>7996</th>\n",
       "      <td>0.488777</td>\n",
       "    </tr>\n",
       "    <tr>\n",
       "      <th>5405</th>\n",
       "      <td>0.620662</td>\n",
       "    </tr>\n",
       "    <tr>\n",
       "      <th>6591</th>\n",
       "      <td>0.436979</td>\n",
       "    </tr>\n",
       "    <tr>\n",
       "      <th>4224</th>\n",
       "      <td>0.831683</td>\n",
       "    </tr>\n",
       "  </tbody>\n",
       "</table>\n",
       "</div>"
      ],
      "text/plain": [
       "             0\n",
       "390   0.187491\n",
       "7996  0.488777\n",
       "5405  0.620662\n",
       "6591  0.436979\n",
       "4224  0.831683"
      ]
     },
     "execution_count": 1848,
     "metadata": {},
     "output_type": "execute_result"
    }
   ],
   "source": [
    "# Convert data_test_y_pred to a DataFrame\n",
    "data_test_y_pred_df = pd.DataFrame(data_test_y_pred)\n",
    "data_test_y_pred_df.head()"
   ]
  },
  {
   "cell_type": "code",
   "execution_count": 1849,
   "id": "d05e6c84",
   "metadata": {},
   "outputs": [
    {
     "data": {
      "text/html": [
       "<div>\n",
       "<style scoped>\n",
       "    .dataframe tbody tr th:only-of-type {\n",
       "        vertical-align: middle;\n",
       "    }\n",
       "\n",
       "    .dataframe tbody tr th {\n",
       "        vertical-align: top;\n",
       "    }\n",
       "\n",
       "    .dataframe thead th {\n",
       "        text-align: right;\n",
       "    }\n",
       "</style>\n",
       "<table border=\"1\" class=\"dataframe\">\n",
       "  <thead>\n",
       "    <tr style=\"text-align: right;\">\n",
       "      <th></th>\n",
       "      <th>Converted</th>\n",
       "    </tr>\n",
       "  </thead>\n",
       "  <tbody>\n",
       "    <tr>\n",
       "      <th>390</th>\n",
       "      <td>0</td>\n",
       "    </tr>\n",
       "    <tr>\n",
       "      <th>7996</th>\n",
       "      <td>1</td>\n",
       "    </tr>\n",
       "    <tr>\n",
       "      <th>5405</th>\n",
       "      <td>0</td>\n",
       "    </tr>\n",
       "    <tr>\n",
       "      <th>6591</th>\n",
       "      <td>1</td>\n",
       "    </tr>\n",
       "    <tr>\n",
       "      <th>4224</th>\n",
       "      <td>1</td>\n",
       "    </tr>\n",
       "  </tbody>\n",
       "</table>\n",
       "</div>"
      ],
      "text/plain": [
       "      Converted\n",
       "390           0\n",
       "7996          1\n",
       "5405          0\n",
       "6591          1\n",
       "4224          1"
      ]
     },
     "execution_count": 1849,
     "metadata": {},
     "output_type": "execute_result"
    }
   ],
   "source": [
    "# Convert data_test_y to a DataFrame\n",
    "data_test_y_df = pd.DataFrame(data_test_y)\n",
    "data_test_y_df.head()"
   ]
  },
  {
   "cell_type": "code",
   "execution_count": 1850,
   "id": "bf3cc8fe",
   "metadata": {},
   "outputs": [],
   "source": [
    "# Add Prospect ID to index\n",
    "data_test_y_df['Prospect ID']  = data_test_y_df.index"
   ]
  },
  {
   "cell_type": "code",
   "execution_count": 1851,
   "id": "0189c7f5",
   "metadata": {},
   "outputs": [],
   "source": [
    "# Removing indices \n",
    "data_test_y_pred_df.reset_index(drop = True, inplace = True)\n",
    "data_test_y_df.reset_index(drop = True, inplace = True)"
   ]
  },
  {
   "cell_type": "code",
   "execution_count": 1852,
   "id": "4e9395c3",
   "metadata": {},
   "outputs": [],
   "source": [
    "# Appending the dataframes\n",
    "data_test_y_pred_final = pd.concat([data_test_y_df, data_test_y_pred_df], axis = 1)"
   ]
  },
  {
   "cell_type": "code",
   "execution_count": 1853,
   "id": "d898eb39",
   "metadata": {},
   "outputs": [
    {
     "data": {
      "text/html": [
       "<div>\n",
       "<style scoped>\n",
       "    .dataframe tbody tr th:only-of-type {\n",
       "        vertical-align: middle;\n",
       "    }\n",
       "\n",
       "    .dataframe tbody tr th {\n",
       "        vertical-align: top;\n",
       "    }\n",
       "\n",
       "    .dataframe thead th {\n",
       "        text-align: right;\n",
       "    }\n",
       "</style>\n",
       "<table border=\"1\" class=\"dataframe\">\n",
       "  <thead>\n",
       "    <tr style=\"text-align: right;\">\n",
       "      <th></th>\n",
       "      <th>Converted</th>\n",
       "      <th>Prospect ID</th>\n",
       "      <th>0</th>\n",
       "    </tr>\n",
       "  </thead>\n",
       "  <tbody>\n",
       "    <tr>\n",
       "      <th>0</th>\n",
       "      <td>0</td>\n",
       "      <td>390</td>\n",
       "      <td>0.187491</td>\n",
       "    </tr>\n",
       "    <tr>\n",
       "      <th>1</th>\n",
       "      <td>1</td>\n",
       "      <td>7996</td>\n",
       "      <td>0.488777</td>\n",
       "    </tr>\n",
       "    <tr>\n",
       "      <th>2</th>\n",
       "      <td>0</td>\n",
       "      <td>5405</td>\n",
       "      <td>0.620662</td>\n",
       "    </tr>\n",
       "    <tr>\n",
       "      <th>3</th>\n",
       "      <td>1</td>\n",
       "      <td>6591</td>\n",
       "      <td>0.436979</td>\n",
       "    </tr>\n",
       "    <tr>\n",
       "      <th>4</th>\n",
       "      <td>1</td>\n",
       "      <td>4224</td>\n",
       "      <td>0.831683</td>\n",
       "    </tr>\n",
       "  </tbody>\n",
       "</table>\n",
       "</div>"
      ],
      "text/plain": [
       "   Converted  Prospect ID         0\n",
       "0          0          390  0.187491\n",
       "1          1         7996  0.488777\n",
       "2          0         5405  0.620662\n",
       "3          1         6591  0.436979\n",
       "4          1         4224  0.831683"
      ]
     },
     "execution_count": 1853,
     "metadata": {},
     "output_type": "execute_result"
    }
   ],
   "source": [
    "data_test_y_pred_final.head()"
   ]
  },
  {
   "cell_type": "code",
   "execution_count": 1854,
   "id": "f130b5f8",
   "metadata": {},
   "outputs": [],
   "source": [
    "# Rename and rearrange columns\n",
    "data_test_y_pred_final = data_test_y_pred_final.rename(columns = {0 : 'Converted_Prob'})"
   ]
  },
  {
   "cell_type": "code",
   "execution_count": 1855,
   "id": "79431d1c",
   "metadata": {},
   "outputs": [],
   "source": [
    "data_test_y_pred_final = data_test_y_pred_final.reindex(['Prospect ID', 'Converted', 'Converted_Prob'], axis = 1)"
   ]
  },
  {
   "cell_type": "code",
   "execution_count": 1856,
   "id": "7ed43b93",
   "metadata": {},
   "outputs": [
    {
     "data": {
      "text/html": [
       "<div>\n",
       "<style scoped>\n",
       "    .dataframe tbody tr th:only-of-type {\n",
       "        vertical-align: middle;\n",
       "    }\n",
       "\n",
       "    .dataframe tbody tr th {\n",
       "        vertical-align: top;\n",
       "    }\n",
       "\n",
       "    .dataframe thead th {\n",
       "        text-align: right;\n",
       "    }\n",
       "</style>\n",
       "<table border=\"1\" class=\"dataframe\">\n",
       "  <thead>\n",
       "    <tr style=\"text-align: right;\">\n",
       "      <th></th>\n",
       "      <th>Prospect ID</th>\n",
       "      <th>Converted</th>\n",
       "      <th>Converted_Prob</th>\n",
       "    </tr>\n",
       "  </thead>\n",
       "  <tbody>\n",
       "    <tr>\n",
       "      <th>0</th>\n",
       "      <td>390</td>\n",
       "      <td>0</td>\n",
       "      <td>0.187491</td>\n",
       "    </tr>\n",
       "    <tr>\n",
       "      <th>1</th>\n",
       "      <td>7996</td>\n",
       "      <td>1</td>\n",
       "      <td>0.488777</td>\n",
       "    </tr>\n",
       "    <tr>\n",
       "      <th>2</th>\n",
       "      <td>5405</td>\n",
       "      <td>0</td>\n",
       "      <td>0.620662</td>\n",
       "    </tr>\n",
       "    <tr>\n",
       "      <th>3</th>\n",
       "      <td>6591</td>\n",
       "      <td>1</td>\n",
       "      <td>0.436979</td>\n",
       "    </tr>\n",
       "    <tr>\n",
       "      <th>4</th>\n",
       "      <td>4224</td>\n",
       "      <td>1</td>\n",
       "      <td>0.831683</td>\n",
       "    </tr>\n",
       "  </tbody>\n",
       "</table>\n",
       "</div>"
      ],
      "text/plain": [
       "   Prospect ID  Converted  Converted_Prob\n",
       "0          390          0        0.187491\n",
       "1         7996          1        0.488777\n",
       "2         5405          0        0.620662\n",
       "3         6591          1        0.436979\n",
       "4         4224          1        0.831683"
      ]
     },
     "execution_count": 1856,
     "metadata": {},
     "output_type": "execute_result"
    }
   ],
   "source": [
    "data_test_y_pred_final.head()"
   ]
  },
  {
   "cell_type": "code",
   "execution_count": 1876,
   "id": "1b976c69",
   "metadata": {},
   "outputs": [],
   "source": [
    "# add integer lead score\n",
    "data_test_y_pred_final['lead_score'] = round(data_test_y_pred_final['Converted_Prob'] * 100)"
   ]
  },
  {
   "cell_type": "code",
   "execution_count": 1877,
   "id": "7bacddfc",
   "metadata": {},
   "outputs": [],
   "source": [
    "data_test_y_pred_final['lead_score'] = data_test_y_pred_final['lead_score'].apply(lambda x: int(x))"
   ]
  },
  {
   "cell_type": "code",
   "execution_count": 1878,
   "id": "a6402fe5",
   "metadata": {},
   "outputs": [
    {
     "data": {
      "text/html": [
       "<div>\n",
       "<style scoped>\n",
       "    .dataframe tbody tr th:only-of-type {\n",
       "        vertical-align: middle;\n",
       "    }\n",
       "\n",
       "    .dataframe tbody tr th {\n",
       "        vertical-align: top;\n",
       "    }\n",
       "\n",
       "    .dataframe thead th {\n",
       "        text-align: right;\n",
       "    }\n",
       "</style>\n",
       "<table border=\"1\" class=\"dataframe\">\n",
       "  <thead>\n",
       "    <tr style=\"text-align: right;\">\n",
       "      <th></th>\n",
       "      <th>Prospect ID</th>\n",
       "      <th>Converted</th>\n",
       "      <th>Converted_Prob</th>\n",
       "      <th>lead_score</th>\n",
       "      <th>conversion_prediction</th>\n",
       "    </tr>\n",
       "  </thead>\n",
       "  <tbody>\n",
       "    <tr>\n",
       "      <th>0</th>\n",
       "      <td>390</td>\n",
       "      <td>0</td>\n",
       "      <td>0.19</td>\n",
       "      <td>19</td>\n",
       "      <td>0</td>\n",
       "    </tr>\n",
       "    <tr>\n",
       "      <th>1</th>\n",
       "      <td>7996</td>\n",
       "      <td>1</td>\n",
       "      <td>0.49</td>\n",
       "      <td>49</td>\n",
       "      <td>1</td>\n",
       "    </tr>\n",
       "    <tr>\n",
       "      <th>2</th>\n",
       "      <td>5405</td>\n",
       "      <td>0</td>\n",
       "      <td>0.62</td>\n",
       "      <td>62</td>\n",
       "      <td>1</td>\n",
       "    </tr>\n",
       "    <tr>\n",
       "      <th>3</th>\n",
       "      <td>6591</td>\n",
       "      <td>1</td>\n",
       "      <td>0.44</td>\n",
       "      <td>44</td>\n",
       "      <td>1</td>\n",
       "    </tr>\n",
       "    <tr>\n",
       "      <th>4</th>\n",
       "      <td>4224</td>\n",
       "      <td>1</td>\n",
       "      <td>0.83</td>\n",
       "      <td>83</td>\n",
       "      <td>1</td>\n",
       "    </tr>\n",
       "  </tbody>\n",
       "</table>\n",
       "</div>"
      ],
      "text/plain": [
       "   Prospect ID  Converted  Converted_Prob  lead_score  conversion_prediction\n",
       "0          390          0            0.19          19                      0\n",
       "1         7996          1            0.49          49                      1\n",
       "2         5405          0            0.62          62                      1\n",
       "3         6591          1            0.44          44                      1\n",
       "4         4224          1            0.83          83                      1"
      ]
     },
     "execution_count": 1878,
     "metadata": {},
     "output_type": "execute_result"
    }
   ],
   "source": [
    "data_test_y_pred_final.head()"
   ]
  },
  {
   "cell_type": "code",
   "execution_count": 1860,
   "id": "f34956be",
   "metadata": {},
   "outputs": [],
   "source": [
    "# Using the threshold value, adding a column that predicts whether a lead is a hot lead or not\n",
    "data_test_y_pred_final['conversion_prediction'] = data_test_y_pred_final['Converted_Prob'].apply(lambda x: 1 if x > 0.38 else 0 )"
   ]
  },
  {
   "cell_type": "code",
   "execution_count": 1861,
   "id": "210201dd",
   "metadata": {},
   "outputs": [
    {
     "data": {
      "text/html": [
       "<div>\n",
       "<style scoped>\n",
       "    .dataframe tbody tr th:only-of-type {\n",
       "        vertical-align: middle;\n",
       "    }\n",
       "\n",
       "    .dataframe tbody tr th {\n",
       "        vertical-align: top;\n",
       "    }\n",
       "\n",
       "    .dataframe thead th {\n",
       "        text-align: right;\n",
       "    }\n",
       "</style>\n",
       "<table border=\"1\" class=\"dataframe\">\n",
       "  <thead>\n",
       "    <tr style=\"text-align: right;\">\n",
       "      <th></th>\n",
       "      <th>Prospect ID</th>\n",
       "      <th>Converted</th>\n",
       "      <th>Converted_Prob</th>\n",
       "      <th>lead_score</th>\n",
       "      <th>conversion_prediction</th>\n",
       "    </tr>\n",
       "  </thead>\n",
       "  <tbody>\n",
       "    <tr>\n",
       "      <th>0</th>\n",
       "      <td>390</td>\n",
       "      <td>0</td>\n",
       "      <td>0.187491</td>\n",
       "      <td>19</td>\n",
       "      <td>0</td>\n",
       "    </tr>\n",
       "    <tr>\n",
       "      <th>1</th>\n",
       "      <td>7996</td>\n",
       "      <td>1</td>\n",
       "      <td>0.488777</td>\n",
       "      <td>49</td>\n",
       "      <td>1</td>\n",
       "    </tr>\n",
       "    <tr>\n",
       "      <th>2</th>\n",
       "      <td>5405</td>\n",
       "      <td>0</td>\n",
       "      <td>0.620662</td>\n",
       "      <td>62</td>\n",
       "      <td>1</td>\n",
       "    </tr>\n",
       "    <tr>\n",
       "      <th>3</th>\n",
       "      <td>6591</td>\n",
       "      <td>1</td>\n",
       "      <td>0.436979</td>\n",
       "      <td>44</td>\n",
       "      <td>1</td>\n",
       "    </tr>\n",
       "    <tr>\n",
       "      <th>4</th>\n",
       "      <td>4224</td>\n",
       "      <td>1</td>\n",
       "      <td>0.831683</td>\n",
       "      <td>83</td>\n",
       "      <td>1</td>\n",
       "    </tr>\n",
       "  </tbody>\n",
       "</table>\n",
       "</div>"
      ],
      "text/plain": [
       "   Prospect ID  Converted  Converted_Prob  lead_score  conversion_prediction\n",
       "0          390          0        0.187491          19                      0\n",
       "1         7996          1        0.488777          49                      1\n",
       "2         5405          0        0.620662          62                      1\n",
       "3         6591          1        0.436979          44                      1\n",
       "4         4224          1        0.831683          83                      1"
      ]
     },
     "execution_count": 1861,
     "metadata": {},
     "output_type": "execute_result"
    }
   ],
   "source": [
    "data_test_y_pred_final.head()"
   ]
  },
  {
   "cell_type": "markdown",
   "id": "3ca47602",
   "metadata": {},
   "source": [
    "Checking the metrics"
   ]
  },
  {
   "cell_type": "code",
   "execution_count": 1862,
   "id": "6c583076",
   "metadata": {},
   "outputs": [
    {
     "name": "stdout",
     "output_type": "stream",
     "text": [
      "[[887 203]\n",
      " [141 490]]\n"
     ]
    }
   ],
   "source": [
    "# Create the confusion matrix\n",
    "confusion_matrix = metrics.confusion_matrix(data_test_y_pred_final.Converted, data_test_y_pred_final.conversion_prediction)\n",
    "print(confusion_matrix)"
   ]
  },
  {
   "cell_type": "code",
   "execution_count": 1863,
   "id": "9ba1d46f",
   "metadata": {},
   "outputs": [
    {
     "name": "stdout",
     "output_type": "stream",
     "text": [
      "0.800116211504939\n"
     ]
    }
   ],
   "source": [
    "# Accuracy\n",
    "print(metrics.accuracy_score(data_test_y_pred_final.Converted, data_test_y_pred_final.conversion_prediction))"
   ]
  },
  {
   "cell_type": "code",
   "execution_count": 1864,
   "id": "e21113a2",
   "metadata": {},
   "outputs": [],
   "source": [
    "# True positives, True negatives, False Positives, False Negatives\n",
    "TP = confusion_matrix[1,1] # true positive \n",
    "TN = confusion_matrix[0,0] # true negatives\n",
    "FP = confusion_matrix[0,1] # false positives\n",
    "FN = confusion_matrix[1,0] # false negatives"
   ]
  },
  {
   "cell_type": "code",
   "execution_count": 1865,
   "id": "5e365d5d",
   "metadata": {},
   "outputs": [
    {
     "data": {
      "text/plain": [
       "0.7765451664025357"
      ]
     },
     "execution_count": 1865,
     "metadata": {},
     "output_type": "execute_result"
    }
   ],
   "source": [
    "# Sensitivity\n",
    "TP / float(TP+FN)"
   ]
  },
  {
   "cell_type": "code",
   "execution_count": 1866,
   "id": "012561f6",
   "metadata": {},
   "outputs": [
    {
     "data": {
      "text/plain": [
       "0.8137614678899082"
      ]
     },
     "execution_count": 1866,
     "metadata": {},
     "output_type": "execute_result"
    }
   ],
   "source": [
    "# Specificity\n",
    "TN / float(TN+FP)"
   ]
  },
  {
   "cell_type": "code",
   "execution_count": 1867,
   "id": "bbc73d1b",
   "metadata": {},
   "outputs": [
    {
     "data": {
      "text/plain": [
       "0.18623853211009175"
      ]
     },
     "execution_count": 1867,
     "metadata": {},
     "output_type": "execute_result"
    }
   ],
   "source": [
    "# False positive rate\n",
    "FP / float(TN+FP)"
   ]
  },
  {
   "cell_type": "code",
   "execution_count": 1868,
   "id": "ef911f4c",
   "metadata": {
    "scrolled": true
   },
   "outputs": [
    {
     "data": {
      "text/plain": [
       "0.7070707070707071"
      ]
     },
     "execution_count": 1868,
     "metadata": {},
     "output_type": "execute_result"
    }
   ],
   "source": [
    "# Positive Predictive Value\n",
    "TP / float(TP+FP)"
   ]
  },
  {
   "cell_type": "code",
   "execution_count": 1869,
   "id": "73ef1213",
   "metadata": {},
   "outputs": [
    {
     "data": {
      "text/plain": [
       "0.8628404669260701"
      ]
     },
     "execution_count": 1869,
     "metadata": {},
     "output_type": "execute_result"
    }
   ],
   "source": [
    "# Negative Predictive Value\n",
    "TN / float(TN+FN)"
   ]
  },
  {
   "cell_type": "code",
   "execution_count": 1870,
   "id": "86918cb3",
   "metadata": {},
   "outputs": [
    {
     "data": {
      "text/plain": [
       "0.7765451664025357"
      ]
     },
     "execution_count": 1870,
     "metadata": {},
     "output_type": "execute_result"
    }
   ],
   "source": [
    "# Recall\n",
    "TP / float(TP+FN)"
   ]
  },
  {
   "cell_type": "code",
   "execution_count": 1871,
   "id": "1819b7bd",
   "metadata": {
    "scrolled": true
   },
   "outputs": [
    {
     "data": {
      "text/plain": [
       "0.7070707070707071"
      ]
     },
     "execution_count": 1871,
     "metadata": {},
     "output_type": "execute_result"
    }
   ],
   "source": [
    "# Precision\n",
    "TP / float(TP+FP)"
   ]
  },
  {
   "cell_type": "code",
   "execution_count": 1882,
   "id": "0d7526e1",
   "metadata": {},
   "outputs": [
    {
     "data": {
      "text/html": [
       "<table class=\"simpletable\">\n",
       "<caption>Generalized Linear Model Regression Results</caption>\n",
       "<tr>\n",
       "  <th>Dep. Variable:</th>       <td>Converted</td>    <th>  No. Observations:  </th>  <td>  6882</td> \n",
       "</tr>\n",
       "<tr>\n",
       "  <th>Model:</th>                  <td>GLM</td>       <th>  Df Residuals:      </th>  <td>  6868</td> \n",
       "</tr>\n",
       "<tr>\n",
       "  <th>Model Family:</th>        <td>Binomial</td>     <th>  Df Model:          </th>  <td>    13</td> \n",
       "</tr>\n",
       "<tr>\n",
       "  <th>Link Function:</th>         <td>Logit</td>      <th>  Scale:             </th> <td>  1.0000</td>\n",
       "</tr>\n",
       "<tr>\n",
       "  <th>Method:</th>                <td>IRLS</td>       <th>  Log-Likelihood:    </th> <td> -2898.3</td>\n",
       "</tr>\n",
       "<tr>\n",
       "  <th>Date:</th>            <td>Wed, 29 Mar 2023</td> <th>  Deviance:          </th> <td>  5796.6</td>\n",
       "</tr>\n",
       "<tr>\n",
       "  <th>Time:</th>                <td>01:05:17</td>     <th>  Pearson chi2:      </th> <td>6.75e+03</td>\n",
       "</tr>\n",
       "<tr>\n",
       "  <th>No. Iterations:</th>          <td>7</td>        <th>  Pseudo R-squ. (CS):</th>  <td>0.3819</td> \n",
       "</tr>\n",
       "<tr>\n",
       "  <th>Covariance Type:</th>     <td>nonrobust</td>    <th>                     </th>     <td> </td>   \n",
       "</tr>\n",
       "</table>\n",
       "<table class=\"simpletable\">\n",
       "<tr>\n",
       "                            <td></td>                              <th>coef</th>     <th>std err</th>      <th>z</th>      <th>P>|z|</th>  <th>[0.025</th>    <th>0.975]</th>  \n",
       "</tr>\n",
       "<tr>\n",
       "  <th>const</th>                                                <td>    0.5931</td> <td>    0.071</td> <td>    8.371</td> <td> 0.000</td> <td>    0.454</td> <td>    0.732</td>\n",
       "</tr>\n",
       "<tr>\n",
       "  <th>Do Not Email</th>                                         <td>   -1.5654</td> <td>    0.166</td> <td>   -9.454</td> <td> 0.000</td> <td>   -1.890</td> <td>   -1.241</td>\n",
       "</tr>\n",
       "<tr>\n",
       "  <th>Total Time Spent on Website</th>                          <td>    0.9671</td> <td>    0.034</td> <td>   28.301</td> <td> 0.000</td> <td>    0.900</td> <td>    1.034</td>\n",
       "</tr>\n",
       "<tr>\n",
       "  <th>Lead Origin_Lead Add Form</th>                            <td>    3.5949</td> <td>    0.221</td> <td>   16.260</td> <td> 0.000</td> <td>    3.162</td> <td>    4.028</td>\n",
       "</tr>\n",
       "<tr>\n",
       "  <th>Lead Source_Direct Traffic</th>                           <td>   -0.6514</td> <td>    0.078</td> <td>   -8.383</td> <td> 0.000</td> <td>   -0.804</td> <td>   -0.499</td>\n",
       "</tr>\n",
       "<tr>\n",
       "  <th>Lead Source_Organic Search</th>                           <td>   -0.4108</td> <td>    0.103</td> <td>   -3.975</td> <td> 0.000</td> <td>   -0.613</td> <td>   -0.208</td>\n",
       "</tr>\n",
       "<tr>\n",
       "  <th>Lead Source_Welingak Website</th>                         <td>    2.4772</td> <td>    1.032</td> <td>    2.399</td> <td> 0.016</td> <td>    0.454</td> <td>    4.501</td>\n",
       "</tr>\n",
       "<tr>\n",
       "  <th>Last Activity_Olark Chat Conversation</th>                <td>   -0.8933</td> <td>    0.183</td> <td>   -4.883</td> <td> 0.000</td> <td>   -1.252</td> <td>   -0.535</td>\n",
       "</tr>\n",
       "<tr>\n",
       "  <th>What is your current occupation_Working Professional</th> <td>    2.8890</td> <td>    0.196</td> <td>   14.775</td> <td> 0.000</td> <td>    2.506</td> <td>    3.272</td>\n",
       "</tr>\n",
       "<tr>\n",
       "  <th>Last Notable Activity_Email Link Clicked</th>             <td>   -1.7265</td> <td>    0.247</td> <td>   -7.003</td> <td> 0.000</td> <td>   -2.210</td> <td>   -1.243</td>\n",
       "</tr>\n",
       "<tr>\n",
       "  <th>Last Notable Activity_Email Opened</th>                   <td>   -1.3758</td> <td>    0.084</td> <td>  -16.438</td> <td> 0.000</td> <td>   -1.540</td> <td>   -1.212</td>\n",
       "</tr>\n",
       "<tr>\n",
       "  <th>Last Notable Activity_Modified</th>                       <td>   -1.9019</td> <td>    0.091</td> <td>  -20.891</td> <td> 0.000</td> <td>   -2.080</td> <td>   -1.724</td>\n",
       "</tr>\n",
       "<tr>\n",
       "  <th>Last Notable Activity_Olark Chat Conversation</th>        <td>   -1.5028</td> <td>    0.356</td> <td>   -4.227</td> <td> 0.000</td> <td>   -2.200</td> <td>   -0.806</td>\n",
       "</tr>\n",
       "<tr>\n",
       "  <th>Last Notable Activity_Page Visited on Website</th>        <td>   -1.5906</td> <td>    0.206</td> <td>   -7.710</td> <td> 0.000</td> <td>   -1.995</td> <td>   -1.186</td>\n",
       "</tr>\n",
       "</table>"
      ],
      "text/plain": [
       "<class 'statsmodels.iolib.summary.Summary'>\n",
       "\"\"\"\n",
       "                 Generalized Linear Model Regression Results                  \n",
       "==============================================================================\n",
       "Dep. Variable:              Converted   No. Observations:                 6882\n",
       "Model:                            GLM   Df Residuals:                     6868\n",
       "Model Family:                Binomial   Df Model:                           13\n",
       "Link Function:                  Logit   Scale:                          1.0000\n",
       "Method:                          IRLS   Log-Likelihood:                -2898.3\n",
       "Date:                Wed, 29 Mar 2023   Deviance:                       5796.6\n",
       "Time:                        01:05:17   Pearson chi2:                 6.75e+03\n",
       "No. Iterations:                     7   Pseudo R-squ. (CS):             0.3819\n",
       "Covariance Type:            nonrobust                                         \n",
       "========================================================================================================================\n",
       "                                                           coef    std err          z      P>|z|      [0.025      0.975]\n",
       "------------------------------------------------------------------------------------------------------------------------\n",
       "const                                                    0.5931      0.071      8.371      0.000       0.454       0.732\n",
       "Do Not Email                                            -1.5654      0.166     -9.454      0.000      -1.890      -1.241\n",
       "Total Time Spent on Website                              0.9671      0.034     28.301      0.000       0.900       1.034\n",
       "Lead Origin_Lead Add Form                                3.5949      0.221     16.260      0.000       3.162       4.028\n",
       "Lead Source_Direct Traffic                              -0.6514      0.078     -8.383      0.000      -0.804      -0.499\n",
       "Lead Source_Organic Search                              -0.4108      0.103     -3.975      0.000      -0.613      -0.208\n",
       "Lead Source_Welingak Website                             2.4772      1.032      2.399      0.016       0.454       4.501\n",
       "Last Activity_Olark Chat Conversation                   -0.8933      0.183     -4.883      0.000      -1.252      -0.535\n",
       "What is your current occupation_Working Professional     2.8890      0.196     14.775      0.000       2.506       3.272\n",
       "Last Notable Activity_Email Link Clicked                -1.7265      0.247     -7.003      0.000      -2.210      -1.243\n",
       "Last Notable Activity_Email Opened                      -1.3758      0.084    -16.438      0.000      -1.540      -1.212\n",
       "Last Notable Activity_Modified                          -1.9019      0.091    -20.891      0.000      -2.080      -1.724\n",
       "Last Notable Activity_Olark Chat Conversation           -1.5028      0.356     -4.227      0.000      -2.200      -0.806\n",
       "Last Notable Activity_Page Visited on Website           -1.5906      0.206     -7.710      0.000      -1.995      -1.186\n",
       "========================================================================================================================\n",
       "\"\"\""
      ]
     },
     "execution_count": 1882,
     "metadata": {},
     "output_type": "execute_result"
    }
   ],
   "source": [
    "res.summary()"
   ]
  },
  {
   "cell_type": "markdown",
   "id": "5ccc71ee",
   "metadata": {},
   "source": [
    "Since the evaluation metrics of the model on the train and test set are not that different, we can conclude that the model is stable and is performing well."
   ]
  }
 ],
 "metadata": {
  "kernelspec": {
   "display_name": "Python 3 (ipykernel)",
   "language": "python",
   "name": "python3"
  },
  "language_info": {
   "codemirror_mode": {
    "name": "ipython",
    "version": 3
   },
   "file_extension": ".py",
   "mimetype": "text/x-python",
   "name": "python",
   "nbconvert_exporter": "python",
   "pygments_lexer": "ipython3",
   "version": "3.7.13"
  }
 },
 "nbformat": 4,
 "nbformat_minor": 5
}
